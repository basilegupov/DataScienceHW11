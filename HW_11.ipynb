{
  "cells": [
    {
      "cell_type": "code",
      "execution_count": 1,
      "metadata": {
        "id": "VKIhm3yKPWBb"
      },
      "outputs": [],
      "source": [
        "import numpy as np  # Импортируем библиотеку numpy для работы с массивами чисел.\n",
        "import pandas as pd  # Импортируем pandas для работы с таблицами (данными в виде таблиц).\n",
        "import tensorflow as tf  # Импортируем TensorFlow для работы с нейронными сетями и машинным обучением.\n",
        "import matplotlib.pyplot as plt  # Импортируем matplotlib для создания графиков.\n",
        "import seaborn as sns  # Импортируем seaborn для более красивых графиков и визуализаций.\n",
        "from sklearn.metrics import classification_report, confusion_matrix  # Импортируем функции для оценки модели, таких как отчёт по классификации и матрица ошибок.\n",
        "import tensorflow_datasets as tfds  # Импортируем готовые наборы данных от TensorFlow для экспериментов.\n",
        "from tensorflow.keras.preprocessing.text import Tokenizer  # Импортируем токенизатор для преобразования текста в числа.\n",
        "from tensorflow.keras.preprocessing.sequence import pad_sequences  # Импортируем функцию для приведения последовательностей (например, текста) к одинаковой длине.\n"
      ]
    },
    {
      "cell_type": "code",
      "execution_count": 2,
      "metadata": {
        "id": "0O1RyAVciavo"
      },
      "outputs": [],
      "source": [
        "# В якості домашнього завдання вам пропонується створити рекурентну нейронну мережу за допомогою механізмів Keras,\n",
        "# яка буде класифікувати рецензії із датасету imdb.\n",
        "\n",
        "# На відміну від прикладу в модулі 9 ми використаємо рекурентну нейронну мережу. Поекспериментуйте з будовою мережі - RNN, LSTM, двостороння та глибока.\n",
        "\n",
        "# Порівняйте результати та зробіть висновки."
      ]
    },
    {
      "cell_type": "markdown",
      "metadata": {
        "id": "XUfOHa5kzQDl"
      },
      "source": [
        "**Download the Dataset**"
      ]
    },
    {
      "cell_type": "code",
      "execution_count": 3,
      "metadata": {
        "colab": {
          "base_uri": "https://localhost:8080/",
          "height": 138,
          "referenced_widgets": [
            "3140d5342d1340f8ab8acdfae74d79fb",
            "bf94be06417640d9883dc7fde0f65db9",
            "b4151fa1df2048ab865647c3f581f9bc",
            "a566fe36d96f4d768d8e27bead3f7533",
            "5c0d8c2ea5e74550801613d49420d7cc",
            "84a7bd81875b40ee806849ceac6f8ffc",
            "71831e5be7bd4c79b5ca6ff951793d0b",
            "b55fc506d2314362a8924bbab54b87f9",
            "d50b928c1afc46f9a7ce59bcb9d7300f",
            "9273dc713a9d43339fdaddca6b750a2d",
            "99a8611453de4b1ab16c692cf87ba58d",
            "e3cfc37054fd45688fade7f8a9a92958",
            "c6f0e2caff1b48f79b929c1306a80e05",
            "847a8cf002cc4212b9d33808db6ce67a",
            "d2f963d4bca04d7e93e866c01e269c5f",
            "2a36fca6e9c244c69e83b2def66d9a20",
            "c996a3b7c38143c8b0dd905360c84833",
            "55dd47a265134faea64801bfefb62ef8",
            "54e326ca40d24c3180c229cd796ff558",
            "92b73f4b94b14d28b1cf388a70abb249",
            "cde391f189734e2e9bf0d85a0392a9e4",
            "b0343b1337cd4cab8260bc1f6f59504e",
            "7546303d6c974376902cbea93c07399b",
            "a6b66f5c196144fa9d93aca3a54d6b2c",
            "4605e1a740d64903956a9cef477c26a4",
            "405863a964ca4d11b98dcdb7bb9c1e40",
            "ec98b0c3c85e4e81a3d7650baeeb89bb",
            "4d2370fa509e4e11873d984dea36f56c",
            "1faf727801a44de3b5f6cf46e2328e93",
            "ba3408c6f3e741ab9ee98aa16e1bb937",
            "bf354a9cdf79417f8eea7fd413d17f90",
            "1f1db333878545abbdc29f0251d5c7d1",
            "af932b5a54cb4145921b2c171b49fa9d",
            "b16425068b3f44fd973ff6b39617afce",
            "bb79bf5862b74810832515d3ab42e10c",
            "eee1d080110d482cafe5e5c6d597225e",
            "cb2f881b9d334b03b0e22c870aaa35da",
            "3a304c8c49d944ee9f66df1ec8e2ca7b",
            "eb050fbe2c7e4ed2aa3ffe5e82131b46",
            "9314ee1095d44ac69f9ebb4a459a68b4",
            "995f007a275949e38c35aa31e789a7dd",
            "6c9a4d936e0c4f5588e49b92c153609e",
            "c172705ff7124aee88bd3881aafcec73",
            "a483a07a6769450db952773bc03b8eb7",
            "9a6966e8d1a449918e56308beb59ec99",
            "7679d22e731a419895d1a6e281bb3e3f",
            "9448c674169649c0a5ccb857ede51c86",
            "55787ff4e0f24923b42227ab93b6e6f7",
            "b5dccd375fe24c85b4c82d99bf667e61",
            "0232b8168d5346048093386fa6b4ad73",
            "b5eed9d6b72b494c8a4df08308aa750e",
            "b9fc4b0328df44059c03354176fcda4a",
            "e3d64f720aea4b6cbf787f6276d4d1f5",
            "bd5d79a0d23742eb9e8a6634ffe3e696",
            "7417b2fd2f1244b3a203299eb2020c07",
            "c93e432e7f0b4550b43b57c6b7da9fab",
            "aca6fea6b1384f6ab3fa236e41c78b75",
            "189b2955063c4c1f9b321339d2b9827c",
            "52fd467f12c647c681d195cd1d534f97",
            "ca99b39c43eb4004b13256938139ca7d",
            "b9f56a46c7ef449e841bc89e51a77abd",
            "7fd121ae84044d2d8368a1fa7b864770",
            "0a867d5283b247639ec3bee14d3c96c4",
            "75bdd99feddd44abbe8c0b9876ad106f",
            "344b9c4adbb249f9acd73cf578cf7d53",
            "e19981dd00754f2294e9fefa9e21aa95",
            "eed1ff140f034478aae3d61ef9dc48f1",
            "c4f6d12056264db6b1b0e26a8b8a93ff",
            "5863240fbc0b4aceb689f1ca46d34a85",
            "90390862cc2a442db994ba086fe376ca",
            "52f30bb0d46546268af2eb80264c6186",
            "ff22a5f6af24427cb71fdfad378184a3",
            "10a57be1978c45429bb38c4ed0e20cce",
            "856caec077a44b639e4ee15510f00387",
            "bcba124603544ee19428623d418fef9f",
            "c601800ef74d4aa4aa8be089b661f931",
            "1428a1b43e454f7c901cc16f8a864756",
            "add7a6f5cf88462aad403848cffc22d1",
            "7522be679ce84a539cac30fd7c4ea18e",
            "4e18db5a8afe4fb8ac4193753781dc22",
            "21cb9de7cdbf4a53bf61271da784ac1a",
            "1d6d2688b76c4272910ce7b1bfc8d1d5",
            "a69b76c1dbeb4bc3b021d800dadaa1bf",
            "4c6c4a35175b4a6282352b75517af439",
            "d979b6462e7c435da23e23d30615a0eb",
            "7ad629edc4574ca694f740366d1b498e",
            "6a2c3d51c2964476ae5470fcb284d7a9",
            "b579330e52c34d4697ba666564152a45",
            "7a643f7338604e2bbdef797d475130b5",
            "085ef90341874d75ad6c2ee8e0bfe817",
            "0523c86575ba44bc8000f03f632b55fa",
            "999eaedb8b5240148afcbdbffa992485",
            "528f1826095d4d56b27515e7e94d91e5",
            "7778d5cfac0f4febb2247def7b855af0",
            "b40658f99f0c45f19019cf91d5020f80",
            "63a35618877c4f7f9b97d5823446d84c",
            "5dbb408a52b64eba85d99dfbfcf8515e",
            "6f8dacd97abf41e8897eea0a2e67aabe",
            "fc695ad1343e4e7dbc1ee10633705600"
          ]
        },
        "id": "OI17D7SRzOs3",
        "outputId": "222f36fa-dbb8-44f4-a5d3-1dd74d780e7f"
      },
      "outputs": [
        {
          "output_type": "stream",
          "name": "stdout",
          "text": [
            "Downloading and preparing dataset 80.23 MiB (download: 80.23 MiB, generated: Unknown size, total: 80.23 MiB) to /root/tensorflow_datasets/imdb_reviews/plain_text/1.0.0...\n"
          ]
        },
        {
          "output_type": "display_data",
          "data": {
            "text/plain": [
              "Dl Completed...: 0 url [00:00, ? url/s]"
            ],
            "application/vnd.jupyter.widget-view+json": {
              "version_major": 2,
              "version_minor": 0,
              "model_id": "3140d5342d1340f8ab8acdfae74d79fb"
            }
          },
          "metadata": {}
        },
        {
          "output_type": "display_data",
          "data": {
            "text/plain": [
              "Dl Size...: 0 MiB [00:00, ? MiB/s]"
            ],
            "application/vnd.jupyter.widget-view+json": {
              "version_major": 2,
              "version_minor": 0,
              "model_id": "e3cfc37054fd45688fade7f8a9a92958"
            }
          },
          "metadata": {}
        },
        {
          "output_type": "display_data",
          "data": {
            "text/plain": [
              "Generating splits...:   0%|          | 0/3 [00:00<?, ? splits/s]"
            ],
            "application/vnd.jupyter.widget-view+json": {
              "version_major": 2,
              "version_minor": 0,
              "model_id": "7546303d6c974376902cbea93c07399b"
            }
          },
          "metadata": {}
        },
        {
          "output_type": "display_data",
          "data": {
            "text/plain": [
              "Generating train examples...:   0%|          | 0/25000 [00:00<?, ? examples/s]"
            ],
            "application/vnd.jupyter.widget-view+json": {
              "version_major": 2,
              "version_minor": 0,
              "model_id": "b16425068b3f44fd973ff6b39617afce"
            }
          },
          "metadata": {}
        },
        {
          "output_type": "display_data",
          "data": {
            "text/plain": [
              "Shuffling /root/tensorflow_datasets/imdb_reviews/plain_text/incomplete.RRHJZ3_1.0.0/imdb_reviews-train.tfrecor…"
            ],
            "application/vnd.jupyter.widget-view+json": {
              "version_major": 2,
              "version_minor": 0,
              "model_id": "9a6966e8d1a449918e56308beb59ec99"
            }
          },
          "metadata": {}
        },
        {
          "output_type": "display_data",
          "data": {
            "text/plain": [
              "Generating test examples...:   0%|          | 0/25000 [00:00<?, ? examples/s]"
            ],
            "application/vnd.jupyter.widget-view+json": {
              "version_major": 2,
              "version_minor": 0,
              "model_id": "c93e432e7f0b4550b43b57c6b7da9fab"
            }
          },
          "metadata": {}
        },
        {
          "output_type": "display_data",
          "data": {
            "text/plain": [
              "Shuffling /root/tensorflow_datasets/imdb_reviews/plain_text/incomplete.RRHJZ3_1.0.0/imdb_reviews-test.tfrecord…"
            ],
            "application/vnd.jupyter.widget-view+json": {
              "version_major": 2,
              "version_minor": 0,
              "model_id": "eed1ff140f034478aae3d61ef9dc48f1"
            }
          },
          "metadata": {}
        },
        {
          "output_type": "display_data",
          "data": {
            "text/plain": [
              "Generating unsupervised examples...:   0%|          | 0/50000 [00:00<?, ? examples/s]"
            ],
            "application/vnd.jupyter.widget-view+json": {
              "version_major": 2,
              "version_minor": 0,
              "model_id": "add7a6f5cf88462aad403848cffc22d1"
            }
          },
          "metadata": {}
        },
        {
          "output_type": "display_data",
          "data": {
            "text/plain": [
              "Shuffling /root/tensorflow_datasets/imdb_reviews/plain_text/incomplete.RRHJZ3_1.0.0/imdb_reviews-unsupervised.…"
            ],
            "application/vnd.jupyter.widget-view+json": {
              "version_major": 2,
              "version_minor": 0,
              "model_id": "7a643f7338604e2bbdef797d475130b5"
            }
          },
          "metadata": {}
        },
        {
          "output_type": "stream",
          "name": "stdout",
          "text": [
            "Dataset imdb_reviews downloaded and prepared to /root/tensorflow_datasets/imdb_reviews/plain_text/1.0.0. Subsequent calls will reuse this data.\n"
          ]
        }
      ],
      "source": [
        "# Этот код загружает данные с отзывами на фильмы и метками, которые показывают, положительные отзывы или отрицательные.\n",
        "imdb, info = tfds.load(\"imdb_reviews\", with_info=True, as_supervised=True)\n",
        "# tfds.load загружает набор данных.\n",
        "# \"imdb_reviews\" — это набор данных с отзывами на фильмы из IMDb (люди пишут, понравился ли им фильм).\n",
        "# with_info=True — мы говорим программе, что хотим получить дополнительную информацию о данных (например, сколько в них отзывов).\n",
        "# as_supervised=True — это значит, что отзывы уже разделены на текст (что человек написал) и метку (понравился фильм или нет)."
      ]
    },
    {
      "cell_type": "code",
      "execution_count": 4,
      "metadata": {
        "colab": {
          "base_uri": "https://localhost:8080/"
        },
        "id": "Io0xjZ_FzOyG",
        "outputId": "bde7047b-f11e-4d91-cf9a-9800b84f201a"
      },
      "outputs": [
        {
          "output_type": "stream",
          "name": "stdout",
          "text": [
            "tfds.core.DatasetInfo(\n",
            "    name='imdb_reviews',\n",
            "    full_name='imdb_reviews/plain_text/1.0.0',\n",
            "    description=\"\"\"\n",
            "    Large Movie Review Dataset. This is a dataset for binary sentiment\n",
            "    classification containing substantially more data than previous benchmark\n",
            "    datasets. We provide a set of 25,000 highly polar movie reviews for training,\n",
            "    and 25,000 for testing. There is additional unlabeled data for use as well.\n",
            "    \"\"\",\n",
            "    config_description=\"\"\"\n",
            "    Plain text\n",
            "    \"\"\",\n",
            "    homepage='http://ai.stanford.edu/~amaas/data/sentiment/',\n",
            "    data_dir=PosixGPath('/tmp/tmpfgo7xxcotfds'),\n",
            "    file_format=tfrecord,\n",
            "    download_size=80.23 MiB,\n",
            "    dataset_size=129.83 MiB,\n",
            "    features=FeaturesDict({\n",
            "        'label': ClassLabel(shape=(), dtype=int64, num_classes=2),\n",
            "        'text': Text(shape=(), dtype=string),\n",
            "    }),\n",
            "    supervised_keys=('text', 'label'),\n",
            "    disable_shuffling=False,\n",
            "    splits={\n",
            "        'test': <SplitInfo num_examples=25000, num_shards=1>,\n",
            "        'train': <SplitInfo num_examples=25000, num_shards=1>,\n",
            "        'unsupervised': <SplitInfo num_examples=50000, num_shards=1>,\n",
            "    },\n",
            "    citation=\"\"\"@InProceedings{maas-EtAl:2011:ACL-HLT2011,\n",
            "      author    = {Maas, Andrew L.  and  Daly, Raymond E.  and  Pham, Peter T.  and  Huang, Dan  and  Ng, Andrew Y.  and  Potts, Christopher},\n",
            "      title     = {Learning Word Vectors for Sentiment Analysis},\n",
            "      booktitle = {Proceedings of the 49th Annual Meeting of the Association for Computational Linguistics: Human Language Technologies},\n",
            "      month     = {June},\n",
            "      year      = {2011},\n",
            "      address   = {Portland, Oregon, USA},\n",
            "      publisher = {Association for Computational Linguistics},\n",
            "      pages     = {142--150},\n",
            "      url       = {http://www.aclweb.org/anthology/P11-1015}\n",
            "    }\"\"\",\n",
            ")\n"
          ]
        }
      ],
      "source": [
        "# выводит на экран информацию о наборе данных, который мы загрузили\n",
        "print(info)"
      ]
    },
    {
      "cell_type": "code",
      "execution_count": 5,
      "metadata": {
        "id": "svG5wo4KW81i"
      },
      "outputs": [],
      "source": [
        "# Это ↑ описание набора данных IMDB Reviews, который содержит отзывы на фильмы.\n",
        "# Всего 25,000 отзывов для обучения (train) и 25,000 для тестирования (test).\n",
        "# Отзывы делятся на 2 класса: положительные и отрицательные (это показано в label).\n",
        "# Есть ещё 50,000 неразмеченных отзывов, которые можно использовать для других целей (unsupervised).\n",
        "# Размер набора данных: около 130 МБ.\n",
        "# Этот набор данных помогает обучать модели различать хорошие и плохие отзывы о фильмах."
      ]
    },
    {
      "cell_type": "code",
      "execution_count": 6,
      "metadata": {
        "colab": {
          "base_uri": "https://localhost:8080/",
          "height": 143
        },
        "id": "03-wLUrezO0v",
        "outputId": "3b93ee35-671b-41ea-cc9d-2a6d6b0492af"
      },
      "outputs": [
        {
          "output_type": "execute_result",
          "data": {
            "text/plain": [
              "          Split  Number of Examples       Features      Labels\n",
              "0         train               25000  (text, label)  [neg, pos]\n",
              "1          test               25000  (text, label)  [neg, pos]\n",
              "2  unsupervised               50000  (text, label)  [neg, pos]"
            ],
            "text/html": [
              "\n",
              "  <div id=\"df-cbe177bb-b544-4e57-940a-e1e064f2d033\" class=\"colab-df-container\">\n",
              "    <div>\n",
              "<style scoped>\n",
              "    .dataframe tbody tr th:only-of-type {\n",
              "        vertical-align: middle;\n",
              "    }\n",
              "\n",
              "    .dataframe tbody tr th {\n",
              "        vertical-align: top;\n",
              "    }\n",
              "\n",
              "    .dataframe thead th {\n",
              "        text-align: right;\n",
              "    }\n",
              "</style>\n",
              "<table border=\"1\" class=\"dataframe\">\n",
              "  <thead>\n",
              "    <tr style=\"text-align: right;\">\n",
              "      <th></th>\n",
              "      <th>Split</th>\n",
              "      <th>Number of Examples</th>\n",
              "      <th>Features</th>\n",
              "      <th>Labels</th>\n",
              "    </tr>\n",
              "  </thead>\n",
              "  <tbody>\n",
              "    <tr>\n",
              "      <th>0</th>\n",
              "      <td>train</td>\n",
              "      <td>25000</td>\n",
              "      <td>(text, label)</td>\n",
              "      <td>[neg, pos]</td>\n",
              "    </tr>\n",
              "    <tr>\n",
              "      <th>1</th>\n",
              "      <td>test</td>\n",
              "      <td>25000</td>\n",
              "      <td>(text, label)</td>\n",
              "      <td>[neg, pos]</td>\n",
              "    </tr>\n",
              "    <tr>\n",
              "      <th>2</th>\n",
              "      <td>unsupervised</td>\n",
              "      <td>50000</td>\n",
              "      <td>(text, label)</td>\n",
              "      <td>[neg, pos]</td>\n",
              "    </tr>\n",
              "  </tbody>\n",
              "</table>\n",
              "</div>\n",
              "    <div class=\"colab-df-buttons\">\n",
              "\n",
              "  <div class=\"colab-df-container\">\n",
              "    <button class=\"colab-df-convert\" onclick=\"convertToInteractive('df-cbe177bb-b544-4e57-940a-e1e064f2d033')\"\n",
              "            title=\"Convert this dataframe to an interactive table.\"\n",
              "            style=\"display:none;\">\n",
              "\n",
              "  <svg xmlns=\"http://www.w3.org/2000/svg\" height=\"24px\" viewBox=\"0 -960 960 960\">\n",
              "    <path d=\"M120-120v-720h720v720H120Zm60-500h600v-160H180v160Zm220 220h160v-160H400v160Zm0 220h160v-160H400v160ZM180-400h160v-160H180v160Zm440 0h160v-160H620v160ZM180-180h160v-160H180v160Zm440 0h160v-160H620v160Z\"/>\n",
              "  </svg>\n",
              "    </button>\n",
              "\n",
              "  <style>\n",
              "    .colab-df-container {\n",
              "      display:flex;\n",
              "      gap: 12px;\n",
              "    }\n",
              "\n",
              "    .colab-df-convert {\n",
              "      background-color: #E8F0FE;\n",
              "      border: none;\n",
              "      border-radius: 50%;\n",
              "      cursor: pointer;\n",
              "      display: none;\n",
              "      fill: #1967D2;\n",
              "      height: 32px;\n",
              "      padding: 0 0 0 0;\n",
              "      width: 32px;\n",
              "    }\n",
              "\n",
              "    .colab-df-convert:hover {\n",
              "      background-color: #E2EBFA;\n",
              "      box-shadow: 0px 1px 2px rgba(60, 64, 67, 0.3), 0px 1px 3px 1px rgba(60, 64, 67, 0.15);\n",
              "      fill: #174EA6;\n",
              "    }\n",
              "\n",
              "    .colab-df-buttons div {\n",
              "      margin-bottom: 4px;\n",
              "    }\n",
              "\n",
              "    [theme=dark] .colab-df-convert {\n",
              "      background-color: #3B4455;\n",
              "      fill: #D2E3FC;\n",
              "    }\n",
              "\n",
              "    [theme=dark] .colab-df-convert:hover {\n",
              "      background-color: #434B5C;\n",
              "      box-shadow: 0px 1px 3px 1px rgba(0, 0, 0, 0.15);\n",
              "      filter: drop-shadow(0px 1px 2px rgba(0, 0, 0, 0.3));\n",
              "      fill: #FFFFFF;\n",
              "    }\n",
              "  </style>\n",
              "\n",
              "    <script>\n",
              "      const buttonEl =\n",
              "        document.querySelector('#df-cbe177bb-b544-4e57-940a-e1e064f2d033 button.colab-df-convert');\n",
              "      buttonEl.style.display =\n",
              "        google.colab.kernel.accessAllowed ? 'block' : 'none';\n",
              "\n",
              "      async function convertToInteractive(key) {\n",
              "        const element = document.querySelector('#df-cbe177bb-b544-4e57-940a-e1e064f2d033');\n",
              "        const dataTable =\n",
              "          await google.colab.kernel.invokeFunction('convertToInteractive',\n",
              "                                                    [key], {});\n",
              "        if (!dataTable) return;\n",
              "\n",
              "        const docLinkHtml = 'Like what you see? Visit the ' +\n",
              "          '<a target=\"_blank\" href=https://colab.research.google.com/notebooks/data_table.ipynb>data table notebook</a>'\n",
              "          + ' to learn more about interactive tables.';\n",
              "        element.innerHTML = '';\n",
              "        dataTable['output_type'] = 'display_data';\n",
              "        await google.colab.output.renderOutput(dataTable, element);\n",
              "        const docLink = document.createElement('div');\n",
              "        docLink.innerHTML = docLinkHtml;\n",
              "        element.appendChild(docLink);\n",
              "      }\n",
              "    </script>\n",
              "  </div>\n",
              "\n",
              "\n",
              "<div id=\"df-acf37fd7-0d87-48c5-9da8-b1cc8cac9a82\">\n",
              "  <button class=\"colab-df-quickchart\" onclick=\"quickchart('df-acf37fd7-0d87-48c5-9da8-b1cc8cac9a82')\"\n",
              "            title=\"Suggest charts\"\n",
              "            style=\"display:none;\">\n",
              "\n",
              "<svg xmlns=\"http://www.w3.org/2000/svg\" height=\"24px\"viewBox=\"0 0 24 24\"\n",
              "     width=\"24px\">\n",
              "    <g>\n",
              "        <path d=\"M19 3H5c-1.1 0-2 .9-2 2v14c0 1.1.9 2 2 2h14c1.1 0 2-.9 2-2V5c0-1.1-.9-2-2-2zM9 17H7v-7h2v7zm4 0h-2V7h2v10zm4 0h-2v-4h2v4z\"/>\n",
              "    </g>\n",
              "</svg>\n",
              "  </button>\n",
              "\n",
              "<style>\n",
              "  .colab-df-quickchart {\n",
              "      --bg-color: #E8F0FE;\n",
              "      --fill-color: #1967D2;\n",
              "      --hover-bg-color: #E2EBFA;\n",
              "      --hover-fill-color: #174EA6;\n",
              "      --disabled-fill-color: #AAA;\n",
              "      --disabled-bg-color: #DDD;\n",
              "  }\n",
              "\n",
              "  [theme=dark] .colab-df-quickchart {\n",
              "      --bg-color: #3B4455;\n",
              "      --fill-color: #D2E3FC;\n",
              "      --hover-bg-color: #434B5C;\n",
              "      --hover-fill-color: #FFFFFF;\n",
              "      --disabled-bg-color: #3B4455;\n",
              "      --disabled-fill-color: #666;\n",
              "  }\n",
              "\n",
              "  .colab-df-quickchart {\n",
              "    background-color: var(--bg-color);\n",
              "    border: none;\n",
              "    border-radius: 50%;\n",
              "    cursor: pointer;\n",
              "    display: none;\n",
              "    fill: var(--fill-color);\n",
              "    height: 32px;\n",
              "    padding: 0;\n",
              "    width: 32px;\n",
              "  }\n",
              "\n",
              "  .colab-df-quickchart:hover {\n",
              "    background-color: var(--hover-bg-color);\n",
              "    box-shadow: 0 1px 2px rgba(60, 64, 67, 0.3), 0 1px 3px 1px rgba(60, 64, 67, 0.15);\n",
              "    fill: var(--button-hover-fill-color);\n",
              "  }\n",
              "\n",
              "  .colab-df-quickchart-complete:disabled,\n",
              "  .colab-df-quickchart-complete:disabled:hover {\n",
              "    background-color: var(--disabled-bg-color);\n",
              "    fill: var(--disabled-fill-color);\n",
              "    box-shadow: none;\n",
              "  }\n",
              "\n",
              "  .colab-df-spinner {\n",
              "    border: 2px solid var(--fill-color);\n",
              "    border-color: transparent;\n",
              "    border-bottom-color: var(--fill-color);\n",
              "    animation:\n",
              "      spin 1s steps(1) infinite;\n",
              "  }\n",
              "\n",
              "  @keyframes spin {\n",
              "    0% {\n",
              "      border-color: transparent;\n",
              "      border-bottom-color: var(--fill-color);\n",
              "      border-left-color: var(--fill-color);\n",
              "    }\n",
              "    20% {\n",
              "      border-color: transparent;\n",
              "      border-left-color: var(--fill-color);\n",
              "      border-top-color: var(--fill-color);\n",
              "    }\n",
              "    30% {\n",
              "      border-color: transparent;\n",
              "      border-left-color: var(--fill-color);\n",
              "      border-top-color: var(--fill-color);\n",
              "      border-right-color: var(--fill-color);\n",
              "    }\n",
              "    40% {\n",
              "      border-color: transparent;\n",
              "      border-right-color: var(--fill-color);\n",
              "      border-top-color: var(--fill-color);\n",
              "    }\n",
              "    60% {\n",
              "      border-color: transparent;\n",
              "      border-right-color: var(--fill-color);\n",
              "    }\n",
              "    80% {\n",
              "      border-color: transparent;\n",
              "      border-right-color: var(--fill-color);\n",
              "      border-bottom-color: var(--fill-color);\n",
              "    }\n",
              "    90% {\n",
              "      border-color: transparent;\n",
              "      border-bottom-color: var(--fill-color);\n",
              "    }\n",
              "  }\n",
              "</style>\n",
              "\n",
              "  <script>\n",
              "    async function quickchart(key) {\n",
              "      const quickchartButtonEl =\n",
              "        document.querySelector('#' + key + ' button');\n",
              "      quickchartButtonEl.disabled = true;  // To prevent multiple clicks.\n",
              "      quickchartButtonEl.classList.add('colab-df-spinner');\n",
              "      try {\n",
              "        const charts = await google.colab.kernel.invokeFunction(\n",
              "            'suggestCharts', [key], {});\n",
              "      } catch (error) {\n",
              "        console.error('Error during call to suggestCharts:', error);\n",
              "      }\n",
              "      quickchartButtonEl.classList.remove('colab-df-spinner');\n",
              "      quickchartButtonEl.classList.add('colab-df-quickchart-complete');\n",
              "    }\n",
              "    (() => {\n",
              "      let quickchartButtonEl =\n",
              "        document.querySelector('#df-acf37fd7-0d87-48c5-9da8-b1cc8cac9a82 button');\n",
              "      quickchartButtonEl.style.display =\n",
              "        google.colab.kernel.accessAllowed ? 'block' : 'none';\n",
              "    })();\n",
              "  </script>\n",
              "</div>\n",
              "    </div>\n",
              "  </div>\n"
            ],
            "application/vnd.google.colaboratory.intrinsic+json": {
              "type": "dataframe",
              "variable_name": "df",
              "summary": "{\n  \"name\": \"df\",\n  \"rows\": 3,\n  \"fields\": [\n    {\n      \"column\": \"Split\",\n      \"properties\": {\n        \"dtype\": \"string\",\n        \"num_unique_values\": 3,\n        \"samples\": [\n          \"train\",\n          \"test\",\n          \"unsupervised\"\n        ],\n        \"semantic_type\": \"\",\n        \"description\": \"\"\n      }\n    },\n    {\n      \"column\": \"Number of Examples\",\n      \"properties\": {\n        \"dtype\": \"number\",\n        \"std\": 14433,\n        \"min\": 25000,\n        \"max\": 50000,\n        \"num_unique_values\": 2,\n        \"samples\": [\n          50000,\n          25000\n        ],\n        \"semantic_type\": \"\",\n        \"description\": \"\"\n      }\n    },\n    {\n      \"column\": \"Features\",\n      \"properties\": {\n        \"dtype\": \"category\",\n        \"num_unique_values\": 1,\n        \"samples\": [\n          \"FeaturesDict({\\n    'label': ClassLabel(shape=(), dtype=int64, num_classes=2),\\n    'text': Text(shape=(), dtype=string),\\n})\"\n        ],\n        \"semantic_type\": \"\",\n        \"description\": \"\"\n      }\n    },\n    {\n      \"column\": \"Labels\",\n      \"properties\": {\n        \"dtype\": \"object\",\n        \"semantic_type\": \"\",\n        \"description\": \"\"\n      }\n    }\n  ]\n}"
            }
          },
          "metadata": {},
          "execution_count": 6
        }
      ],
      "source": [
        "dataset_info = info  # Сохраняем информацию о датасете IMDb в переменную dataset_info\n",
        "\n",
        "# Создаём словарь, где собираем важную информацию из dataset_info\n",
        "data_dict = {\n",
        "    # Pазделы данных: тренировочные, тестовые и без меток\n",
        "    \"Split\": [\"train\", \"test\", \"unsupervised\"],\n",
        "    # Количество примеров в каждом разделе\n",
        "    \"Number of Examples\": [dataset_info.splits[\"train\"].num_examples, dataset_info.splits[\"test\"].num_examples, dataset_info.splits[\"unsupervised\"].num_examples],\n",
        "    # Информация о признаках (тексты и метки) для каждого раздела\n",
        "    \"Features\": [dataset_info.features, dataset_info.features, dataset_info.features],\n",
        "    # Метки классов для каждого раздела (положительные и отрицательные отзывы)\n",
        "    \"Labels\": [dataset_info.features[\"label\"].names, dataset_info.features[\"label\"].names, dataset_info.features[\"label\"].names],\n",
        "    # Здесь можно добавить другую важную информацию, если потребуется\n",
        "}\n",
        "\n",
        "df = pd.DataFrame(data_dict)  # Превращаем словарь в таблицу (DataFrame) для удобного отображения\n",
        "df  # Показываем таблицу\n",
        "\n",
        "# Этот код создает таблицу с информацией о датасете IMDb. В таблице видно, сколько примеров есть в каждой части данных (тренировочной, тестовой и без меток),\n",
        "# а также какие метки (положительные и отрицательные) присутствуют. Таблицу легко использовать для анализа данных.\n"
      ]
    },
    {
      "cell_type": "code",
      "execution_count": 7,
      "metadata": {
        "id": "g8HrSZirYzZA"
      },
      "outputs": [],
      "source": [
        "# ↑\n",
        "# В датасете IMDb есть 3 части:\n",
        "# в наборе данных содержится в общей сложности 100 000 примеров,\n",
        "# и он разделен на обучающий, тестовый и неконтролируемый наборы:\n",
        "\n",
        "# В тренировочных данных (train) 25,000 примеров с отзывами.\n",
        "# В тестовых данных (test) тоже 25,000 примеров.\n",
        "# В данных без меток (unsupervised) 50,000 примеров, где нет указано, положительные или отрицательные отзывы.\n",
        "# Каждый пример состоит из текста отзыва (text) и его метки (label). Метки бывают двух видов: \"neg\" (негативный отзыв) и \"pos\" (положительный отзыв)."
      ]
    },
    {
      "cell_type": "markdown",
      "metadata": {
        "id": "YgQohYNRzlP9"
      },
      "source": [
        "**Split the dataset**"
      ]
    },
    {
      "cell_type": "code",
      "execution_count": 8,
      "metadata": {
        "colab": {
          "base_uri": "https://localhost:8080/"
        },
        "id": "1W3tlGnFzO3c",
        "outputId": "efcf6ace-0bba-4d66-d1ad-c20e587db6fe"
      },
      "outputs": [
        {
          "output_type": "stream",
          "name": "stdout",
          "text": [
            "{Split('train'): <_PrefetchDataset element_spec=(TensorSpec(shape=(), dtype=tf.string, name=None), TensorSpec(shape=(), dtype=tf.int64, name=None))>, Split('test'): <_PrefetchDataset element_spec=(TensorSpec(shape=(), dtype=tf.string, name=None), TensorSpec(shape=(), dtype=tf.int64, name=None))>, Split('unsupervised'): <_PrefetchDataset element_spec=(TensorSpec(shape=(), dtype=tf.string, name=None), TensorSpec(shape=(), dtype=tf.int64, name=None))>}\n"
          ]
        }
      ],
      "source": [
        "# команда выводит на экран информацию о наборе данных imdb\n",
        "print(imdb)"
      ]
    },
    {
      "cell_type": "code",
      "execution_count": 9,
      "metadata": {
        "id": "GFhhmg25aTW1"
      },
      "outputs": [],
      "source": [
        "# это ↑ словарь, который показывает информацию о каждом разделе (train, test, unsupervised) в наборе данных и типах данных внутри каждого раздела."
      ]
    },
    {
      "cell_type": "code",
      "execution_count": 10,
      "metadata": {
        "colab": {
          "base_uri": "https://localhost:8080/"
        },
        "id": "KatnkiZnZ9jZ",
        "outputId": "bc125ba7-33a3-43c8-9cf1-04fefea78413"
      },
      "outputs": [
        {
          "output_type": "stream",
          "name": "stdout",
          "text": [
            "train:\n",
            "  Element spec: (TensorSpec(shape=(), dtype=tf.string, name=None), TensorSpec(shape=(), dtype=tf.int64, name=None))\n",
            "\n",
            "test:\n",
            "  Element spec: (TensorSpec(shape=(), dtype=tf.string, name=None), TensorSpec(shape=(), dtype=tf.int64, name=None))\n",
            "\n",
            "unsupervised:\n",
            "  Element spec: (TensorSpec(shape=(), dtype=tf.string, name=None), TensorSpec(shape=(), dtype=tf.int64, name=None))\n",
            "\n"
          ]
        }
      ],
      "source": [
        "# Итерация по словарю imdb\n",
        "for split_name, dataset in imdb.items():\n",
        "    print(f\"{split_name}:\")\n",
        "    print(f\"  Element spec: {dataset.element_spec}\")\n",
        "    print()  # Печатает пустую строку для разделения"
      ]
    },
    {
      "cell_type": "code",
      "execution_count": 11,
      "metadata": {
        "id": "6ac_s-kGaapO"
      },
      "outputs": [],
      "source": [
        "# это ↑ более читабельный формат, который выводит ту же информацию, но в более понятном виде, где указано, что каждый раздел содержит TensorSpec для текста и меток.\n",
        "\n",
        "\n",
        "# Из этих выводoв можно сделать следующие выводы:\n",
        "\n",
        "# Разделы данных: Набор данных содержит три раздела:\n",
        "# train (для обучения)\n",
        "# test (для проверки)\n",
        "# unsupervised (неподконтрольные данные)\n",
        "\n",
        "# Типы данных: В каждом разделе есть данные в виде текстов и меток:\n",
        "# Тексты хранятся как строки (dtype=tf.string)\n",
        "# Метки хранятся как целые числа (dtype=tf.int64)\n",
        "\n",
        "# Формат данных: Каждый элемент в этих разделах представляет собой пару:\n",
        "# Текстовый отзыв (который хранится как строка (tf.string))\n",
        "# Его метка (положительный или отрицательный отзыв) (которая хранится как целое число (tf.int64).)\n",
        "\n",
        "\n",
        "# Это значит, что набор данных готов к использованию для обучения и проверки моделей машинного обучения."
      ]
    },
    {
      "cell_type": "code",
      "execution_count": 12,
      "metadata": {
        "colab": {
          "base_uri": "https://localhost:8080/"
        },
        "id": "iY0mYUPWzO6U",
        "outputId": "c2243bed-cf92-4e8c-c71f-ce6b502b2396"
      },
      "outputs": [
        {
          "output_type": "stream",
          "name": "stdout",
          "text": [
            "(<tf.Tensor: shape=(), dtype=string, numpy=b\"This was an absolutely terrible movie. Don't be lured in by Christopher Walken or Michael Ironside. Both are great actors, but this must simply be their worst role in history. Even their great acting could not redeem this movie's ridiculous storyline. This movie is an early nineties US propaganda piece. The most pathetic scenes were those when the Columbian rebels were making their cases for revolutions. Maria Conchita Alonso appeared phony, and her pseudo-love affair with Walken was nothing but a pathetic emotional plug in a movie that was devoid of any real meaning. I am disappointed that there are movies like this, ruining actor's like Christopher Walken's good name. I could barely sit through it.\">, <tf.Tensor: shape=(), dtype=int64, numpy=0>)\n"
          ]
        }
      ],
      "source": [
        "# код выделяет данные для обучения (train_data) и данные для тестирования (test_data) из набора данных imdb.\n",
        "train_data, test_data = imdb[\"train\"], imdb[\"test\"]\n",
        "\n",
        "# Возьмем 1 обучающий пример и распечатайте его содержимое\n",
        "# Это поможет понять, как выглядят данные, которые будут использоваться для обучения модели.\n",
        "for i in train_data.take(1):\n",
        "  print(i)\n"
      ]
    },
    {
      "cell_type": "code",
      "execution_count": 13,
      "metadata": {
        "id": "GQ1k17U1dL9B"
      },
      "outputs": [],
      "source": [
        "# Отзыв говорит, что фильм ужасный.\n",
        "# Метка 0 (numpy=0) означает, что отзыв негативный."
      ]
    },
    {
      "cell_type": "code",
      "execution_count": 14,
      "metadata": {
        "id": "ngDakWQfcrA2"
      },
      "outputs": [],
      "source": [
        "# Чтобы сделать вывод более читабельным, можно преобразовать тензоры в строки и числа и отформатировать их. Вот как это можно сделать:"
      ]
    },
    {
      "cell_type": "code",
      "execution_count": 15,
      "metadata": {
        "colab": {
          "base_uri": "https://localhost:8080/"
        },
        "id": "0hYmAyfRcdq3",
        "outputId": "a4a6cf3f-b837-41ed-d814-e399e72bfb84"
      },
      "outputs": [
        {
          "output_type": "stream",
          "name": "stdout",
          "text": [
            "Текст отзыва:\n",
            "This was an absolutely terrible movie. Don't be lured in by Christopher Walken or Michael Ironside. Both are great actors, but this must simply be their worst role in history. Even their great acting could not redeem this movie's ridiculous storyline. This movie is an early nineties US propaganda piece. The most pathetic scenes were those when the Columbian rebels were making their cases for revolutions. Maria Conchita Alonso appeared phony, and her pseudo-love affair with Walken was nothing but a pathetic emotional plug in a movie that was devoid of any real meaning. I am disappointed that there are movies like this, ruining actor's like Christopher Walken's good name. I could barely sit through it.\n",
            "\n",
            "Метка отзыва: Отрицательный\n"
          ]
        }
      ],
      "source": [
        "# Взять один пример из данных обучения\n",
        "for i in train_data.take(1):\n",
        "    # Преобразовать тензоры в обычные строки и числа\n",
        "    text = i[0].numpy().decode('utf-8')  # Преобразование тензора текста в строку\n",
        "    label = int(i[1].numpy())  # Преобразование тензора метки в число\n",
        "\n",
        "    # Отобразить результат\n",
        "    print(f\"Текст отзыва:\\n{text}\\n\")\n",
        "    print(f\"Метка отзыва: {'Положительный' if label == 1 else 'Отрицательный'}\")"
      ]
    },
    {
      "cell_type": "code",
      "execution_count": 16,
      "metadata": {
        "colab": {
          "base_uri": "https://localhost:8080/"
        },
        "id": "TLtiq7HLzO88",
        "outputId": "5dc88479-31e2-4287-e2f9-ef83be6116e0"
      },
      "outputs": [
        {
          "output_type": "stream",
          "name": "stdout",
          "text": [
            "label 0: This was an absolutely terrible movie. Don't be lured in by Christopher Walken or Michael Ironside. Both are great actors, but this must simply be the...\n",
            "label 0: I have been known to fall asleep during films, but this is usually due to a combination of things including, really tired, being warm and comfortable ...\n",
            "label 0: Mann photographs the Alberta Rocky Mountains in a superb fashion, and Jimmy Stewart and Walter Brennan give enjoyable performances as they always seem...\n",
            "label 1: This is the kind of film for a snowy Sunday afternoon when the rest of the world can go ahead with its own business as you descend into a big arm-chai...\n",
            "label 1: As others have mentioned, all the women that go nude in this film are mostly absolutely gorgeous. The plot very ably shows the hypocrisy of the female...\n",
            "label 1: This is a film which should be seen by anybody interested in, effected by, or suffering from an eating disorder. It is an amazingly accurate and sensi...\n"
          ]
        }
      ],
      "source": [
        "# Сначала создаются списки для хранения текстов и меток из обучающего набора данных\n",
        "# Инициализируем пустые списки для предложений и меток\n",
        "train_sentences = []\n",
        "train_labels = []\n",
        "\n",
        "test_sentences = []\n",
        "test_labels = []\n",
        "\n",
        "# Проходим по всем примерам из обучающего набора данных и сохраняем предложения и метки\n",
        "# код проходит по всем примерам в train_data, преобразует текст в строку и сохраняет его в train_sentences, а метку добавляет в train_labels.\n",
        "for s, l in train_data:\n",
        "  train_sentences.append(s.numpy().decode('utf-8'))  # Преобразуем текст из байтов в строку и добавляем в список\n",
        "  train_labels.append(l.numpy())  # Добавляем метку в список\n",
        "\n",
        "# Выводим первые 6 примеров из обучающего набора данных\n",
        "for i, text in zip(train_labels[:6], train_sentences[:6]):\n",
        "  print(f'label {i}: {text[:150]}...')  # Печатаем метку и первые 150 символов текста\n",
        "# Должны увидить первые 6 текстов отзывов и их метки. Это поможет понять, как выглядят данные и какие метки у них есть (положительные или отрицательные)."
      ]
    },
    {
      "cell_type": "code",
      "execution_count": 17,
      "metadata": {
        "id": "KiJAglrYebRW"
      },
      "outputs": [],
      "source": [
        "# ↑ Метка 0 — это отрицательные отзывы, а метка 1 — положительные отзывы.\n",
        "# Это поможет понять, как модель будет учиться отличать хорошие фильмы от плохих на основе текста отзыва."
      ]
    },
    {
      "cell_type": "code",
      "execution_count": 18,
      "metadata": {
        "colab": {
          "base_uri": "https://localhost:8080/"
        },
        "id": "CnNsDaV2z6tn",
        "outputId": "c60a1713-b352-4708-c4a8-9b7d609ec189"
      },
      "outputs": [
        {
          "output_type": "stream",
          "name": "stdout",
          "text": [
            "label 1: There are films that make careers. For George Romero, it was NIGHT OF THE LIVING DEAD; for Kevin Smith, CLERKS; for Robert Rodriguez, EL MARIACHI. Add...\n",
            "label 1: A blackly comic tale of a down-trodden priest, Nazarin showcases the economy that Luis Bunuel was able to achieve in being able to tell a deeply human...\n",
            "label 0: Scary Movie 1-4, Epic Movie, Date Movie, Meet the Spartans, Not another Teen Movie and Another Gay Movie. Making \"Superhero Movie\" the eleventh in a s...\n",
            "label 0: Poor Shirley MacLaine tries hard to lend some gravitas to this mawkish, gag-inducing \"feel-good\" movie, but she's trampled by the run-away sentimental...\n",
            "label 1: As a former Erasmus student I enjoyed this film very much. It was so realistic and funny. It really picked up the spirit that exists among Erasmus stu...\n",
            "label 1: My God, Ryan Gosling has made a lot of deep characters in his career, this is one of his wonderful acting jobs. For me this is a very deep movie, need...\n"
          ]
        }
      ],
      "source": [
        "# Проход по тестовым данным:\n",
        "for s, l in test_data:\n",
        "  # s — это текст отзыва, а l — метка (положительная или отрицательная)\n",
        "  # s.numpy().decode('utf-8') превращает текст отзыва из формата TensorFlow в обычный текст.\n",
        "  # l.numpy() превращает метку в число.\n",
        "  test_sentences.append(s.numpy().decode('utf-8'))\n",
        "  # Эти данные сохраняются в списки test_sentences и test_labels.\n",
        "  test_labels.append(l.numpy())\n",
        "\n",
        "# Вывод первых 6 примеров:\n",
        "# zip(test_labels[:6], test_sentences[:6]) объединяет метки и тексты для первых 6 примеров.\n",
        "for i, text in zip(test_labels[:6], test_sentences[:6]):\n",
        "  # text[:150] показывает только первые 150 символов текста, чтобы не печатать длинные отзывы полностью.\n",
        "  print(f'label {i}: {text[:150]}...')"
      ]
    },
    {
      "cell_type": "code",
      "execution_count": 19,
      "metadata": {
        "id": "DjPBTJTr0BLv"
      },
      "outputs": [],
      "source": [
        "# Преобразование меток обучения в массив NumPy:\n",
        "# train_labels — это список меток для обучающих данных.\n",
        "# np.array(train_labels) преобразует этот список в массив NumPy.\n",
        "# training_labels_final — это массив меток для обучающих данных.\n",
        "training_labels_final = np.array(train_labels)\n",
        "# Преобразование меток тестирования в массив NumPy:\n",
        "# test_labels — это список меток для тестовых данных.\n",
        "# np.array(test_labels) преобразует этот список в массив NumPy.\n",
        "# testing_labels_final — это массив меток для тестовых данных.\n",
        "testing_labels_final = np.array(test_labels)\n",
        "\n",
        "# Подготовка данных для анализа или обучения: Преобразование меток в массивы NumPy делает их удобными для обработки и анализа.\n",
        "# Массивы NumPy часто используются в машинном обучении для более быстрого и удобного выполнения математических операций."
      ]
    },
    {
      "cell_type": "markdown",
      "metadata": {
        "id": "FKWXwJQg0Gf4"
      },
      "source": [
        "**Function For Plot Visualization**"
      ]
    },
    {
      "cell_type": "code",
      "execution_count": 20,
      "metadata": {
        "id": "QQ_0V1fk0IUN"
      },
      "outputs": [],
      "source": [
        "def plot_graphs(history, string):\n",
        "  plt.figure(figsize=(5, 3))  # Создаем фигуру для графика\n",
        "  plt.plot(history.history[string])  # Рисуем график для значения 'string' из истории обучения\n",
        "  plt.plot(history.history['val_'+string])  # Рисуем график для значения 'val_' + 'string' из истории проверки\n",
        "  plt.xlabel(\"Epochs\")  # Подписываем ось X\n",
        "  plt.ylabel(string) # Подписываем ось Y\n",
        "  plt.legend([string, 'val_'+string]) # Добавляем легенду для графиков\n",
        "  plt.show()\n",
        "\n",
        "  # помогает понять, насколько хорошо модель учится и обобщается, и какие шаги можно предпринять для её улучшения."
      ]
    },
    {
      "cell_type": "markdown",
      "metadata": {
        "id": "ytiwkm9B0PCQ"
      },
      "source": [
        "**Function For Report and Confusion Matrix**"
      ]
    },
    {
      "cell_type": "code",
      "execution_count": 21,
      "metadata": {
        "id": "vwrNoVoD0IgA"
      },
      "outputs": [],
      "source": [
        "def report(x):\n",
        "  # Предсказания и оценка модели\n",
        "  predictions = x.predict(testing_padded)  # Получаем предсказания модели для тестовых данных\n",
        "  x.evaluate(testing_padded, testing_labels_final)  # Оцениваем модель на тестовых данных\n",
        "\n",
        "  # Бинаризация предсказаний:\n",
        "  binary_predictions = [1 if pred > 0.5 else 0 for pred in predictions] # Преобразуем предсказания в бинарный формат (0 или 1)\n",
        "\n",
        "  # Показываем 10 примеров предсказанных и истинных меток\n",
        "  for i in range(10):\n",
        "      print(f\"Predicted: {binary_predictions[i]}, Label: {1 if testing_labels_final[i] > 0.5 else 0}\")\n",
        "\n",
        "  # Печатаем отчет о классификации\n",
        "  report = classification_report(testing_labels_final, binary_predictions)\n",
        "  print(report)\n",
        "\n",
        "  # Вычисляем и отображаем матрицу ошибок (Confusion Matrix)\n",
        "  cm = confusion_matrix(testing_labels_final, binary_predictions)\n",
        "  confusion_df = pd.DataFrame(columns=[\"Positive\", \"Negative\"],\n",
        "                              index=[\"Positive\", \"Negative\"],\n",
        "                              data=cm)\n",
        "\n",
        "  # Создаем тепловую карту (heatmap) для матрицы ошибок\n",
        "  f, ax = plt.subplots(figsize=(4,4))\n",
        "  sns.heatmap(confusion_df, annot=True, cmap=\"Reds\", fmt='d', ax=ax)\n",
        "  plt.xlabel(\"Predicted Label\")\n",
        "  plt.xticks(size=12)\n",
        "  plt.yticks(size=12, rotation=0)\n",
        "  plt.ylabel(\"Actual Label\")\n",
        "  plt.title(\"Confusion Matrix\", size=14)\n",
        "  plt.show()\n",
        "\n",
        "  # Печатаем количество истинно положительных (TP), истинно отрицательных (TN),\n",
        "  # ложно положительных (FP) и ложно отрицательных (FN) примеров\n",
        "  print(\"TP:\", (cm[0,0]))\n",
        "  print(\"TN:\", (cm[1,1]))\n",
        "  print(\"FP:\", (cm[0,1]))\n",
        "  print(\"FN:\", (cm[1,0]))\n",
        "\n",
        "  # Отображаем тепловую карту\n",
        "  plt.show()\n",
        "# Мы можем оценить, насколько хорошо модель предсказывает метки и сравнивает предсказания с истинными метками.\n",
        "# Графики и матрица ошибок помогают понять, где модель ошибается и как её можно улучшить."
      ]
    },
    {
      "cell_type": "code",
      "execution_count": 22,
      "metadata": {
        "id": "5DXVcaNC0Iit"
      },
      "outputs": [],
      "source": [
        "vocab_size = 10000  # Максимальное количество уникальных слов в словаре, который будем использовать.\n",
        "max_length = 120  # Максимальная длина последовательности (текстового отзыва)(Длина текста, до которой будем обрезать или дополнять наши последовательности.)\n",
        "embedding_dim = 32  # Размерность векторного представления слов (будет использоваться в модели)\n",
        "trunc_type = 'post'  # Как обрезать длинные последовательности (обрезать в конце),(Как обрезать последовательности, если они длиннее max_length.)\n",
        "oov_tok = \"\"  # Токен для неизвестных слов (в этом случае он пустой)\n",
        "BATCH_SIZE=128  # Размер батча для обучения модели\n",
        "NUM_EPOCHS = 5  # Количество эпох для обучения модели\n",
        "\n",
        "# Инициализируем класс Tokenizer\n",
        "# Создаем объект Tokenizer, который будет работать с ограниченным словарем и с токеном для неизвестных слов.\n",
        "tokenizer = Tokenizer(num_words=vocab_size, oov_token=oov_tok)\n",
        "\n",
        "# Создаем словарь индексов слов на основе тренировочных предложений\n",
        "tokenizer.fit_on_texts(train_sentences)\n",
        "# Получаем словарь, где каждому слову соответствует уникальный индекс.\n",
        "word_index = tokenizer.word_index\n",
        "\n",
        "# Преобразуем текстовые отзывы в последовательности чисел и добавляем паддинг (дополняем до одной длины)\n",
        "# Преобразуем тренировочные предложения в числовые последовательности.\n",
        "sequences = tokenizer.texts_to_sequences(train_sentences)\n",
        "# Дополняем или обрезаем последовательности до max_length.\n",
        "padded = pad_sequences(sequences, maxlen=max_length, truncating=trunc_type)\n",
        "\n",
        "# Преобразуем тестовые отзывы в последовательности чисел и добавляем паддинг\n",
        "# Преобразуем тестовые предложения в числовые последовательности.\n",
        "testing_sequences = tokenizer.texts_to_sequences(test_sentences)\n",
        "# Дополняем или обрезаем тестовые последовательности до max_length.\n",
        "testing_padded = pad_sequences(testing_sequences, maxlen=max_length, truncating=trunc_type)\n",
        "\n",
        "# Мы подготовили текстовые данные для модели, преобразовав их в числовой формат и приведя их к одной длине.\n",
        "# Эти данные можно использовать для обучения модели машинного обучения или нейронной сети."
      ]
    },
    {
      "cell_type": "code",
      "execution_count": 23,
      "metadata": {
        "colab": {
          "base_uri": "https://localhost:8080/"
        },
        "id": "RVIJ6ehD0IlM",
        "outputId": "a8b23b34-ccfd-400e-e270-1097010a8a44"
      },
      "outputs": [
        {
          "output_type": "stream",
          "name": "stdout",
          "text": [
            "[   0    0    0    0    0    0    0    0    0    0    0    0    0    0\n",
            "    0    0    0    0    0    0    0    0    0    0    0    0    0    0\n",
            "    0    0    0    0    0    0    0    0    0    0    0    0    0    0\n",
            "    0    0    0    0    0    0    0    0    0    0    0    0    0    0\n",
            "    0    0    0    0    0    0    0    0    0    0    0    0   34   41\n",
            "   90   95 2466   38   34  341    6   12   29   67 2207   85  103    3\n",
            "    2  831 3144    5  542  118 2714  124 6521   16    4 7608 1070  121\n",
            "   12  129 1287   15   29    5    2 4098 1147 7608 1070  285    3   29\n",
            "    5    2   89    1 1574  448 8608 2127]\n"
          ]
        }
      ],
      "source": [
        "# testing_padded: Это массив с тестовыми последовательностями, где каждая последовательность преобразована в числовой формат и дополнена или обрезана до одной длины.\n",
        "print(testing_padded[-1]) # Выводит последнюю последовательность в массиве testing_padded.\n",
        "\n",
        "# Код покажет последнюю тестовую последовательность после преобразования и паддинга.\n",
        "# Это может помочь проверить, как последний текст был преобразован и дополнен."
      ]
    },
    {
      "cell_type": "code",
      "execution_count": 24,
      "metadata": {
        "id": "cIbtKjbnkXTP"
      },
      "outputs": [],
      "source": [
        "# Этот ↑ вывод представляет собой последовательность чисел, где:\n",
        "# 0: Места, которые были заполнены нулями, потому что текст был короче заданной длины (в нашем случае 120 слов).\n",
        "# Другие числа: Это индексы слов из словаря, которые были преобразованы в числовой формат.\n",
        "\n",
        "# Последняя последовательность из тестовых данных была преобразована в числовой формат и дополнена нулями до длины 120.\n",
        "# Места с нулями означают, что текст был короче и заполнялся нулями.\n",
        "# Остальные числа представляют собой индексы слов из словаря, где каждое число соответствует конкретному слову в тексте."
      ]
    },
    {
      "cell_type": "code",
      "execution_count": 25,
      "metadata": {
        "id": "NV5E33Kv0In1"
      },
      "outputs": [],
      "source": [
        "# Колбэк для ранней остановки\n",
        "epoch_callback = tf.keras.callbacks.EarlyStopping(\n",
        "    monitor='accuracy',  # Следим за метрикой 'accuracy' (точность)\n",
        "    patience=10,         # Если точность не улучшается в течение 10 эпох, остановим обучение\n",
        "    verbose=1,           # Печатаем сообщения о процессе остановки\n",
        "    mode='auto',         # Автоматически выбираем режим для метрики (увеличение или уменьшение)\n",
        "    restore_best_weights=False  # Не восстанавливаем лучшие веса модели\n",
        ")\n",
        "\n",
        "# Колбэк для уменьшения скорости обучения\n",
        "reduce_lr = tf.keras.callbacks.ReduceLROnPlateau(\n",
        "    monitor='val_accuracy',  # Следим за метрикой 'val_accuracy' (точность на валидации)\n",
        "    factor=0.2,              # Уменьшаем скорость обучения в 5 раз, когда точность не улучшается\n",
        "    patience=2               # Если точность не улучшается в течение 2 эпох, уменьшаем скорость обучения\n",
        ")\n",
        "# Ранняя остановка: Если точность модели не улучшается долго (10 эпох), обучение остановится. Это помогает избежать переобучения и экономит время.\n",
        "# Уменьшение скорости обучения: Если точность на валидации не улучшается (2 эпохи), скорость обучения уменьшается в 5 раз.\n",
        "# Это помогает модели лучше обучаться, когда она достигает плато в обучении."
      ]
    },
    {
      "cell_type": "code",
      "execution_count": 26,
      "metadata": {
        "id": "GVdmnHRWlmVc"
      },
      "outputs": [],
      "source": [
        "# Подытожим что мы сделали до етого момента:\n",
        "# Загрузили датасет:\n",
        "# Мы загрузили набор данных IMDB с отзывами о фильмах, который содержит отзывы и их метки (положительные или отрицательные).\n",
        "\n",
        "# Просмотрели информацию о датасете:\n",
        "# Проверили, сколько примеров в обучающем, тестовом и неаннотированном наборах данных.\n",
        "\n",
        "# Разделили данные на тренировочные и тестовые:\n",
        "# Разделили отзывы и метки на обучающие и тестовые наборы данных.\n",
        "\n",
        "# Преобразовали текст в числа(Токенизация):\n",
        "# Преобразовали текстовые отзывы в числовые последовательности, которые могут использоваться для обучения модели.\n",
        "# (Тексты преобразуются в числовые последовательности с помощью Tokenizer.)\n",
        "\n",
        "# Добавили нули для одинаковой длины:\n",
        "# Привели все числовые последовательности к одинаковой длине, добавляя нули в конце, если необходимо.\n",
        "# (Дополнение и обрезка: Последовательности слов дополнены до одной длины и обрезаны, если они слишком длинные.)\n",
        "\n",
        "# Определили колбэки для обучения модели:\n",
        "# Настроили колбэки для ранней остановки и уменьшения скорости обучения, чтобы улучшить процесс обучения и избежать переобучения.\n",
        "\n",
        "# Мы подготовили данные для обучения модели, преобразовали текстовые отзывы в числовой формат и настроили параметры для более эффективного обучения модели."
      ]
    },
    {
      "cell_type": "code",
      "execution_count": 27,
      "metadata": {
        "id": "rvnZ4SEKpeno"
      },
      "outputs": [],
      "source": [
        "# Теперь ⬇️ создадим и обучим разные типы рекуррентных нейронных сетей, чтобы сравнить их эффективность.\n",
        "# В каждом случае модель будет обучается на тех же данных, а результаты мы будем сравнивають, чтобы выбрать наилучший подход для классификации рецензий.\n",
        "\n",
        "# Будем использовать:\n",
        "\n",
        "# Flatten: Преобразует многомерные данные в одномерный вектор для последующего использования в полносвязных слоях. Он не учитывает последовательные зависимости.\n",
        "\n",
        "# LSTM: Захватывает долгосрочные зависимости в тексте и может лучше понимать контекст.\n",
        "\n",
        "# GRU: Похож на LSTM, но проще и быстрее.\n",
        "\n",
        "# Convolution RNN: Комбинирует свёртки и рекуррентные слои для лучшего извлечения признаков из текста.\n",
        "\n",
        "# SRNN: Простейший тип рекуррентной сети, может не справляться с сложными текстами.\n",
        "\n",
        "# BRNN: Использует рекуррентные слои в обоих направлениях для учета контекста с обеих сторон текста.\n",
        "\n",
        "# Deep BRNN: Расширяет BRNN, добавляя несколько слоев для более глубокого анализа текста."
      ]
    },
    {
      "cell_type": "markdown",
      "metadata": {
        "id": "FmXTE0iy0b5h"
      },
      "source": [
        "**Flatten**"
      ]
    },
    {
      "cell_type": "markdown",
      "metadata": {
        "id": "oWeVa8FX0ebo"
      },
      "source": [
        "Сначала просто используем слой Flatten после встраивания. Его главное преимущество в том, что он очень быстро тренируется."
      ]
    },
    {
      "cell_type": "code",
      "execution_count": 28,
      "metadata": {
        "colab": {
          "base_uri": "https://localhost:8080/",
          "height": 232
        },
        "id": "fK2qmBXL0Iqm",
        "outputId": "ac25b77d-71da-43a8-bcb4-ceee3371a000"
      },
      "outputs": [
        {
          "output_type": "display_data",
          "data": {
            "text/plain": [
              "\u001b[1mModel: \"sequential\"\u001b[0m\n"
            ],
            "text/html": [
              "<pre style=\"white-space:pre;overflow-x:auto;line-height:normal;font-family:Menlo,'DejaVu Sans Mono',consolas,'Courier New',monospace\"><span style=\"font-weight: bold\">Model: \"sequential\"</span>\n",
              "</pre>\n"
            ]
          },
          "metadata": {}
        },
        {
          "output_type": "display_data",
          "data": {
            "text/plain": [
              "┏━━━━━━━━━━━━━━━━━━━━━━━━━━━━━━━━━━━━━━┳━━━━━━━━━━━━━━━━━━━━━━━━━━━━━┳━━━━━━━━━━━━━━━━━┓\n",
              "┃\u001b[1m \u001b[0m\u001b[1mLayer (type)                        \u001b[0m\u001b[1m \u001b[0m┃\u001b[1m \u001b[0m\u001b[1mOutput Shape               \u001b[0m\u001b[1m \u001b[0m┃\u001b[1m \u001b[0m\u001b[1m        Param #\u001b[0m\u001b[1m \u001b[0m┃\n",
              "┡━━━━━━━━━━━━━━━━━━━━━━━━━━━━━━━━━━━━━━╇━━━━━━━━━━━━━━━━━━━━━━━━━━━━━╇━━━━━━━━━━━━━━━━━┩\n",
              "│ embedding (\u001b[38;5;33mEmbedding\u001b[0m)                │ (\u001b[38;5;34m1\u001b[0m, \u001b[38;5;34m120\u001b[0m, \u001b[38;5;34m32\u001b[0m)                │         \u001b[38;5;34m320,000\u001b[0m │\n",
              "├──────────────────────────────────────┼─────────────────────────────┼─────────────────┤\n",
              "│ flatten (\u001b[38;5;33mFlatten\u001b[0m)                    │ (\u001b[38;5;34m1\u001b[0m, \u001b[38;5;34m3840\u001b[0m)                   │               \u001b[38;5;34m0\u001b[0m │\n",
              "├──────────────────────────────────────┼─────────────────────────────┼─────────────────┤\n",
              "│ dense (\u001b[38;5;33mDense\u001b[0m)                        │ (\u001b[38;5;34m1\u001b[0m, \u001b[38;5;34m1\u001b[0m)                      │           \u001b[38;5;34m3,841\u001b[0m │\n",
              "└──────────────────────────────────────┴─────────────────────────────┴─────────────────┘\n"
            ],
            "text/html": [
              "<pre style=\"white-space:pre;overflow-x:auto;line-height:normal;font-family:Menlo,'DejaVu Sans Mono',consolas,'Courier New',monospace\">┏━━━━━━━━━━━━━━━━━━━━━━━━━━━━━━━━━━━━━━┳━━━━━━━━━━━━━━━━━━━━━━━━━━━━━┳━━━━━━━━━━━━━━━━━┓\n",
              "┃<span style=\"font-weight: bold\"> Layer (type)                         </span>┃<span style=\"font-weight: bold\"> Output Shape                </span>┃<span style=\"font-weight: bold\">         Param # </span>┃\n",
              "┡━━━━━━━━━━━━━━━━━━━━━━━━━━━━━━━━━━━━━━╇━━━━━━━━━━━━━━━━━━━━━━━━━━━━━╇━━━━━━━━━━━━━━━━━┩\n",
              "│ embedding (<span style=\"color: #0087ff; text-decoration-color: #0087ff\">Embedding</span>)                │ (<span style=\"color: #00af00; text-decoration-color: #00af00\">1</span>, <span style=\"color: #00af00; text-decoration-color: #00af00\">120</span>, <span style=\"color: #00af00; text-decoration-color: #00af00\">32</span>)                │         <span style=\"color: #00af00; text-decoration-color: #00af00\">320,000</span> │\n",
              "├──────────────────────────────────────┼─────────────────────────────┼─────────────────┤\n",
              "│ flatten (<span style=\"color: #0087ff; text-decoration-color: #0087ff\">Flatten</span>)                    │ (<span style=\"color: #00af00; text-decoration-color: #00af00\">1</span>, <span style=\"color: #00af00; text-decoration-color: #00af00\">3840</span>)                   │               <span style=\"color: #00af00; text-decoration-color: #00af00\">0</span> │\n",
              "├──────────────────────────────────────┼─────────────────────────────┼─────────────────┤\n",
              "│ dense (<span style=\"color: #0087ff; text-decoration-color: #0087ff\">Dense</span>)                        │ (<span style=\"color: #00af00; text-decoration-color: #00af00\">1</span>, <span style=\"color: #00af00; text-decoration-color: #00af00\">1</span>)                      │           <span style=\"color: #00af00; text-decoration-color: #00af00\">3,841</span> │\n",
              "└──────────────────────────────────────┴─────────────────────────────┴─────────────────┘\n",
              "</pre>\n"
            ]
          },
          "metadata": {}
        },
        {
          "output_type": "display_data",
          "data": {
            "text/plain": [
              "\u001b[1m Total params: \u001b[0m\u001b[38;5;34m323,841\u001b[0m (1.24 MB)\n"
            ],
            "text/html": [
              "<pre style=\"white-space:pre;overflow-x:auto;line-height:normal;font-family:Menlo,'DejaVu Sans Mono',consolas,'Courier New',monospace\"><span style=\"font-weight: bold\"> Total params: </span><span style=\"color: #00af00; text-decoration-color: #00af00\">323,841</span> (1.24 MB)\n",
              "</pre>\n"
            ]
          },
          "metadata": {}
        },
        {
          "output_type": "display_data",
          "data": {
            "text/plain": [
              "\u001b[1m Trainable params: \u001b[0m\u001b[38;5;34m323,841\u001b[0m (1.24 MB)\n"
            ],
            "text/html": [
              "<pre style=\"white-space:pre;overflow-x:auto;line-height:normal;font-family:Menlo,'DejaVu Sans Mono',consolas,'Courier New',monospace\"><span style=\"font-weight: bold\"> Trainable params: </span><span style=\"color: #00af00; text-decoration-color: #00af00\">323,841</span> (1.24 MB)\n",
              "</pre>\n"
            ]
          },
          "metadata": {}
        },
        {
          "output_type": "display_data",
          "data": {
            "text/plain": [
              "\u001b[1m Non-trainable params: \u001b[0m\u001b[38;5;34m0\u001b[0m (0.00 B)\n"
            ],
            "text/html": [
              "<pre style=\"white-space:pre;overflow-x:auto;line-height:normal;font-family:Menlo,'DejaVu Sans Mono',consolas,'Courier New',monospace\"><span style=\"font-weight: bold\"> Non-trainable params: </span><span style=\"color: #00af00; text-decoration-color: #00af00\">0</span> (0.00 B)\n",
              "</pre>\n"
            ]
          },
          "metadata": {}
        }
      ],
      "source": [
        "# Создаем модель с помощью Keras\n",
        "model = tf.keras.Sequential([\n",
        "    # Слой Embedding для преобразования слов в векторы фиксированной длины\n",
        "    tf.keras.layers.Embedding(vocab_size, embedding_dim),\n",
        "    # Преобразуем многомерные данные в одномерный вектор\n",
        "    tf.keras.layers.Flatten(),\n",
        "    # Полносвязный слой с активацией sigmoid для бинарной классификации\n",
        "    tf.keras.layers.Dense(1, activation='sigmoid')\n",
        "])\n",
        "\n",
        "# Настраиваем параметры для обучения модели. Используется функция потерь binary_crossentropy, оптимизатор adam, и метрика accuracy.\n",
        "model.compile(loss='binary_crossentropy', optimizer='adam', metrics=['accuracy'])\n",
        "\n",
        "# Пример входных данных для проверки модели. input_example создаёт случайные данные для проверки, как модель обрабатывает входные данные.\n",
        "input_example = np.random.randint(0, vocab_size, (1, max_length))\n",
        "\n",
        "# Создаем выход модели на основе примера входных данных (model(input_example) проверяет, как модель работает с примером входных данных.)\n",
        "model(input_example)\n",
        "\n",
        "# Печатаем сводку модели, чтобы увидеть её структуру\n",
        "model.summary()\n",
        "\n",
        "# Модель создана и готова для обучения.\n",
        "# Можно увидеть, как модель принимает входные данные и какие слои у неё есть."
      ]
    },
    {
      "cell_type": "code",
      "execution_count": 29,
      "metadata": {
        "id": "gVgVVWYs2ARO",
        "colab": {
          "base_uri": "https://localhost:8080/"
        },
        "outputId": "e568d28e-e119-4fd2-f896-1a5d4c6fc2ff"
      },
      "outputs": [
        {
          "output_type": "execute_result",
          "data": {
            "text/plain": [
              "<tf.Tensor: shape=(1, 1), dtype=float32, numpy=array([[0.49535704]], dtype=float32)>"
            ]
          },
          "metadata": {},
          "execution_count": 29
        }
      ],
      "source": [
        "# ❗❗❗\n",
        "# у меня выдавало:\n",
        "#  Total params: 0 (0.00 B)\n",
        "#  Trainable params: 0 (0.00 B)\n",
        "#  Non-trainable params: 0 (0.00 B)\n",
        "# чат сказал добавить:\n",
        "# Примерные входные данные для создания модели\n",
        "input_example = np.random.randint(0, vocab_size, (1, max_length))\n",
        "\n",
        "# Постройте модель на основе этих данных\n",
        "# model_lstm(input_example)\n",
        "model(input_example)"
      ]
    },
    {
      "cell_type": "code",
      "source": [
        "# Печатаем сводку модели, чтобы увидеть её структуру\n",
        "model.summary()"
      ],
      "metadata": {
        "colab": {
          "base_uri": "https://localhost:8080/",
          "height": 232
        },
        "id": "4mQYPs1uv6aH",
        "outputId": "cc71e8e1-a8bd-495c-d450-49bf72184202"
      },
      "execution_count": 30,
      "outputs": [
        {
          "output_type": "display_data",
          "data": {
            "text/plain": [
              "\u001b[1mModel: \"sequential\"\u001b[0m\n"
            ],
            "text/html": [
              "<pre style=\"white-space:pre;overflow-x:auto;line-height:normal;font-family:Menlo,'DejaVu Sans Mono',consolas,'Courier New',monospace\"><span style=\"font-weight: bold\">Model: \"sequential\"</span>\n",
              "</pre>\n"
            ]
          },
          "metadata": {}
        },
        {
          "output_type": "display_data",
          "data": {
            "text/plain": [
              "┏━━━━━━━━━━━━━━━━━━━━━━━━━━━━━━━━━━━━━━┳━━━━━━━━━━━━━━━━━━━━━━━━━━━━━┳━━━━━━━━━━━━━━━━━┓\n",
              "┃\u001b[1m \u001b[0m\u001b[1mLayer (type)                        \u001b[0m\u001b[1m \u001b[0m┃\u001b[1m \u001b[0m\u001b[1mOutput Shape               \u001b[0m\u001b[1m \u001b[0m┃\u001b[1m \u001b[0m\u001b[1m        Param #\u001b[0m\u001b[1m \u001b[0m┃\n",
              "┡━━━━━━━━━━━━━━━━━━━━━━━━━━━━━━━━━━━━━━╇━━━━━━━━━━━━━━━━━━━━━━━━━━━━━╇━━━━━━━━━━━━━━━━━┩\n",
              "│ embedding (\u001b[38;5;33mEmbedding\u001b[0m)                │ (\u001b[38;5;34m1\u001b[0m, \u001b[38;5;34m120\u001b[0m, \u001b[38;5;34m32\u001b[0m)                │         \u001b[38;5;34m320,000\u001b[0m │\n",
              "├──────────────────────────────────────┼─────────────────────────────┼─────────────────┤\n",
              "│ flatten (\u001b[38;5;33mFlatten\u001b[0m)                    │ (\u001b[38;5;34m1\u001b[0m, \u001b[38;5;34m3840\u001b[0m)                   │               \u001b[38;5;34m0\u001b[0m │\n",
              "├──────────────────────────────────────┼─────────────────────────────┼─────────────────┤\n",
              "│ dense (\u001b[38;5;33mDense\u001b[0m)                        │ (\u001b[38;5;34m1\u001b[0m, \u001b[38;5;34m1\u001b[0m)                      │           \u001b[38;5;34m3,841\u001b[0m │\n",
              "└──────────────────────────────────────┴─────────────────────────────┴─────────────────┘\n"
            ],
            "text/html": [
              "<pre style=\"white-space:pre;overflow-x:auto;line-height:normal;font-family:Menlo,'DejaVu Sans Mono',consolas,'Courier New',monospace\">┏━━━━━━━━━━━━━━━━━━━━━━━━━━━━━━━━━━━━━━┳━━━━━━━━━━━━━━━━━━━━━━━━━━━━━┳━━━━━━━━━━━━━━━━━┓\n",
              "┃<span style=\"font-weight: bold\"> Layer (type)                         </span>┃<span style=\"font-weight: bold\"> Output Shape                </span>┃<span style=\"font-weight: bold\">         Param # </span>┃\n",
              "┡━━━━━━━━━━━━━━━━━━━━━━━━━━━━━━━━━━━━━━╇━━━━━━━━━━━━━━━━━━━━━━━━━━━━━╇━━━━━━━━━━━━━━━━━┩\n",
              "│ embedding (<span style=\"color: #0087ff; text-decoration-color: #0087ff\">Embedding</span>)                │ (<span style=\"color: #00af00; text-decoration-color: #00af00\">1</span>, <span style=\"color: #00af00; text-decoration-color: #00af00\">120</span>, <span style=\"color: #00af00; text-decoration-color: #00af00\">32</span>)                │         <span style=\"color: #00af00; text-decoration-color: #00af00\">320,000</span> │\n",
              "├──────────────────────────────────────┼─────────────────────────────┼─────────────────┤\n",
              "│ flatten (<span style=\"color: #0087ff; text-decoration-color: #0087ff\">Flatten</span>)                    │ (<span style=\"color: #00af00; text-decoration-color: #00af00\">1</span>, <span style=\"color: #00af00; text-decoration-color: #00af00\">3840</span>)                   │               <span style=\"color: #00af00; text-decoration-color: #00af00\">0</span> │\n",
              "├──────────────────────────────────────┼─────────────────────────────┼─────────────────┤\n",
              "│ dense (<span style=\"color: #0087ff; text-decoration-color: #0087ff\">Dense</span>)                        │ (<span style=\"color: #00af00; text-decoration-color: #00af00\">1</span>, <span style=\"color: #00af00; text-decoration-color: #00af00\">1</span>)                      │           <span style=\"color: #00af00; text-decoration-color: #00af00\">3,841</span> │\n",
              "└──────────────────────────────────────┴─────────────────────────────┴─────────────────┘\n",
              "</pre>\n"
            ]
          },
          "metadata": {}
        },
        {
          "output_type": "display_data",
          "data": {
            "text/plain": [
              "\u001b[1m Total params: \u001b[0m\u001b[38;5;34m323,841\u001b[0m (1.24 MB)\n"
            ],
            "text/html": [
              "<pre style=\"white-space:pre;overflow-x:auto;line-height:normal;font-family:Menlo,'DejaVu Sans Mono',consolas,'Courier New',monospace\"><span style=\"font-weight: bold\"> Total params: </span><span style=\"color: #00af00; text-decoration-color: #00af00\">323,841</span> (1.24 MB)\n",
              "</pre>\n"
            ]
          },
          "metadata": {}
        },
        {
          "output_type": "display_data",
          "data": {
            "text/plain": [
              "\u001b[1m Trainable params: \u001b[0m\u001b[38;5;34m323,841\u001b[0m (1.24 MB)\n"
            ],
            "text/html": [
              "<pre style=\"white-space:pre;overflow-x:auto;line-height:normal;font-family:Menlo,'DejaVu Sans Mono',consolas,'Courier New',monospace\"><span style=\"font-weight: bold\"> Trainable params: </span><span style=\"color: #00af00; text-decoration-color: #00af00\">323,841</span> (1.24 MB)\n",
              "</pre>\n"
            ]
          },
          "metadata": {}
        },
        {
          "output_type": "display_data",
          "data": {
            "text/plain": [
              "\u001b[1m Non-trainable params: \u001b[0m\u001b[38;5;34m0\u001b[0m (0.00 B)\n"
            ],
            "text/html": [
              "<pre style=\"white-space:pre;overflow-x:auto;line-height:normal;font-family:Menlo,'DejaVu Sans Mono',consolas,'Courier New',monospace\"><span style=\"font-weight: bold\"> Non-trainable params: </span><span style=\"color: #00af00; text-decoration-color: #00af00\">0</span> (0.00 B)\n",
              "</pre>\n"
            ]
          },
          "metadata": {}
        }
      ]
    },
    {
      "cell_type": "code",
      "execution_count": 31,
      "metadata": {
        "id": "TiQArQG89BuZ"
      },
      "outputs": [],
      "source": [
        "# ↑\n",
        "# Embedding слой: Преобразует входные данные (векторы слов) в 32-мерные векторы. Размер выходных данных этого слоя: (1, 120, 32). Это означает, что на вход поступает последовательность из 120 слов, каждое из которых представлено вектором длиной 32.\n",
        "\n",
        "# Flatten слой: Преобразует многомерный выход из слоя Embedding в одномерный вектор. Размер выходных данных этого слоя: (1, 3840). Это означает, что все векторы слов объединяются в один длинный вектор длиной 3840.\n",
        "\n",
        "# Dense слой: Полносвязный слой, который преобразует одномерный вектор в выходной вектор длиной 1. Он используется для классификации (например, для бинарной классификации).\n",
        "\n",
        "# Параметры:\n",
        "\n",
        "# Embedding: 320,000 параметров. Это число зависит от размера словаря и размера векторов слов.\n",
        "# Dense: 3,841 параметр. Это количество параметров для весов и смещений в полносвязном слое.\n",
        "# Вся модель содержит 323,841 параметров, которые будут обучаться во время тренировки."
      ]
    },
    {
      "cell_type": "code",
      "execution_count": 32,
      "metadata": {
        "colab": {
          "base_uri": "https://localhost:8080/"
        },
        "id": "Ic7javTg0ff6",
        "outputId": "75b30932-835b-4df4-8197-81e777aee4f0"
      },
      "outputs": [
        {
          "output_type": "stream",
          "name": "stdout",
          "text": [
            "Epoch 1/5\n",
            "\u001b[1m196/196\u001b[0m \u001b[32m━━━━━━━━━━━━━━━━━━━━\u001b[0m\u001b[37m\u001b[0m \u001b[1m5s\u001b[0m 20ms/step - accuracy: 0.5799 - loss: 0.6702 - val_accuracy: 0.8003 - val_loss: 0.4599 - learning_rate: 0.0010\n",
            "Epoch 2/5\n",
            "\u001b[1m196/196\u001b[0m \u001b[32m━━━━━━━━━━━━━━━━━━━━\u001b[0m\u001b[37m\u001b[0m \u001b[1m3s\u001b[0m 10ms/step - accuracy: 0.8489 - loss: 0.3764 - val_accuracy: 0.8255 - val_loss: 0.3879 - learning_rate: 0.0010\n",
            "Epoch 3/5\n",
            "\u001b[1m196/196\u001b[0m \u001b[32m━━━━━━━━━━━━━━━━━━━━\u001b[0m\u001b[37m\u001b[0m \u001b[1m2s\u001b[0m 9ms/step - accuracy: 0.9078 - loss: 0.2544 - val_accuracy: 0.8323 - val_loss: 0.3722 - learning_rate: 0.0010\n",
            "Epoch 4/5\n",
            "\u001b[1m196/196\u001b[0m \u001b[32m━━━━━━━━━━━━━━━━━━━━\u001b[0m\u001b[37m\u001b[0m \u001b[1m2s\u001b[0m 8ms/step - accuracy: 0.9455 - loss: 0.1837 - val_accuracy: 0.8318 - val_loss: 0.3813 - learning_rate: 0.0010\n",
            "Epoch 5/5\n",
            "\u001b[1m196/196\u001b[0m \u001b[32m━━━━━━━━━━━━━━━━━━━━\u001b[0m\u001b[37m\u001b[0m \u001b[1m2s\u001b[0m 8ms/step - accuracy: 0.9699 - loss: 0.1254 - val_accuracy: 0.8302 - val_loss: 0.3973 - learning_rate: 0.0010\n"
          ]
        }
      ],
      "source": [
        "# Обучение модели\n",
        "history = model.fit(\n",
        "    padded,  # Входные данные для обучения модели (тренировочные данные).\n",
        "    training_labels_final,  # Метки (правильные ответы) для тренировочных данных.\n",
        "    epochs=NUM_EPOCHS,  # Сколько раз модель будет обучаться на всех данных (NUM_EPOCHS - это число эпох).\n",
        "    batch_size=128,  # Размер группы данных, которая обрабатывается за один раз (батч).\n",
        "    validation_data=(testing_padded, testing_labels_final),  # Данные для проверки качества модели во время обучения.\n",
        "    callbacks=[reduce_lr, epoch_callback]  # Функции обратного вызова для изменения обучения (например, уменьшение скорости обучения).\n",
        ")\n",
        "# Обучение: Модель будет обучаться на данных padded и training_labels_final.\n",
        "# Эпохи: Модель пройдет через данные 5 раз (сколько указано в NUM_EPOCHS).\n",
        "# Батч: Данные будут разделены на группы по 128 примеров для обработки.\n",
        "# Проверка: Во время обучения модель будет проверяться на данных testing_padded и testing_labels_final.\n",
        "# Функции обратного вызова: Используются для автоматического уменьшения скорости обучения и для раннего остановки, если модель перестает улучшаться.\n",
        "# Модель будет тренироваться и проверяться на данных, а результаты обучения можно отслеживать и анализировать."
      ]
    },
    {
      "cell_type": "code",
      "execution_count": 33,
      "metadata": {
        "id": "124N2gZa-I7j"
      },
      "outputs": [],
      "source": [
        "# ↑\n",
        "# Точность (accuracy): Улучшается с каждой эпохой. Модель становится более точной, и её способность правильно классифицировать увеличивается.\n",
        "# Потери (loss): Уменьшаются с каждой эпохой, что означает, что модель становится лучше в предсказаниях.\n",
        "\n",
        "# Точность на проверочных данных (val_accuracy): Меняется незначительно, но в целом остаётся на высоком уровне. Это хорошо, потому что модель хорошо работает на новых данных.\n",
        "# Потери на проверочных данных (val_loss): Немного увеличиваются, что может указывать на то, что модель начинает переобучаться\n",
        "# или её точность на новых данных может немного снизиться.\n",
        "\n",
        "# Скорость обучения (learning_rate):  Остаётся постоянной (0.001) в течение всех эпох, что означает, что скорость обучения не менялась во время обучения.\n",
        "\n",
        "# В общем, модель обучается хорошо, её точность растёт, но есть небольшие колебания в потерь на проверочных данных."
      ]
    },
    {
      "cell_type": "code",
      "execution_count": 34,
      "metadata": {
        "colab": {
          "base_uri": "https://localhost:8080/",
          "height": 605
        },
        "id": "ZGw4rS8O0fix",
        "outputId": "016a393e-338d-4c4e-ce6d-55d6ba848f12"
      },
      "outputs": [
        {
          "output_type": "display_data",
          "data": {
            "text/plain": [
              "<Figure size 500x300 with 1 Axes>"
            ],
            "image/png": "[encoded data removed]"
          },
          "metadata": {}
        },
        {
          "output_type": "display_data",
          "data": {
            "text/plain": [
              "<Figure size 500x300 with 1 Axes>"
            ],
            "image/png": "[encoded data removed]"
          },
          "metadata": {}
        }
      ],
      "source": [
        "plot_graphs(history, 'accuracy')  # Построение графика точности\n",
        "plot_graphs(history, 'loss')      # Построение графика потерь\n",
        "\n",
        "# График точности покажет, насколько хорошо модель обучалась. Если линия растёт, это значит, что модель становилась лучше.\n",
        "# График потерь покажет, насколько хорошо модель уменьшают свои ошибки. Если линия падает, это значит, что модель делает меньше ошибок.\n",
        "# Эти графики помогают понять, как модель обучалась и какие результаты были достигнуты."
      ]
    },
    {
      "cell_type": "code",
      "execution_count": 35,
      "metadata": {
        "colab": {
          "base_uri": "https://localhost:8080/",
          "height": 876
        },
        "id": "Hnpra5Tt1wIX",
        "outputId": "051f3c64-0d47-404b-d0e4-0ed965eb0cca"
      },
      "outputs": [
        {
          "output_type": "stream",
          "name": "stdout",
          "text": [
            "\u001b[1m782/782\u001b[0m \u001b[32m━━━━━━━━━━━━━━━━━━━━\u001b[0m\u001b[37m\u001b[0m \u001b[1m2s\u001b[0m 2ms/step\n",
            "\u001b[1m782/782\u001b[0m \u001b[32m━━━━━━━━━━━━━━━━━━━━\u001b[0m\u001b[37m\u001b[0m \u001b[1m1s\u001b[0m 1ms/step - accuracy: 0.8347 - loss: 0.3926\n",
            "Predicted: 1, Label: 1\n",
            "Predicted: 1, Label: 1\n",
            "Predicted: 0, Label: 0\n",
            "Predicted: 0, Label: 0\n",
            "Predicted: 1, Label: 1\n",
            "Predicted: 1, Label: 1\n",
            "Predicted: 1, Label: 1\n",
            "Predicted: 1, Label: 1\n",
            "Predicted: 1, Label: 0\n",
            "Predicted: 0, Label: 1\n",
            "              precision    recall  f1-score   support\n",
            "\n",
            "           0       0.82      0.84      0.83     12500\n",
            "           1       0.84      0.82      0.83     12500\n",
            "\n",
            "    accuracy                           0.83     25000\n",
            "   macro avg       0.83      0.83      0.83     25000\n",
            "weighted avg       0.83      0.83      0.83     25000\n",
            "\n"
          ]
        },
        {
          "output_type": "display_data",
          "data": {
            "text/plain": [
              "<Figure size 400x400 with 2 Axes>"
            ],
            "image/png": "[encoded data removed]"
          },
          "metadata": {}
        },
        {
          "output_type": "stream",
          "name": "stdout",
          "text": [
            "TP: 10522\n",
            "TN: 10234\n",
            "FP: 1978\n",
            "FN: 2266\n"
          ]
        }
      ],
      "source": [
        "# Этот код вызывает функцию report, которая проверяет, как хорошо модель работает после обучения.\n",
        "report(model)\n",
        "\n",
        "# Внутри функции report происходит следующее:\n",
        "# Модель делает предсказания для тестовых данных.\n",
        "# Модель оценивает свои ошибки на тестовых данных.\n",
        "# Предсказания преобразуются в бинарные значения (0 или 1).\n",
        "# Печатаются сравнения предсказаний и настоящих значений.\n",
        "# Создаются и отображаются матрица ошибок (confusion matrix) и её тепловая карта (heatmap)."
      ]
    },
    {
      "cell_type": "code",
      "execution_count": 36,
      "metadata": {
        "id": "1TvLoQtQ_ROI"
      },
      "outputs": [],
      "source": [
        "# ↑\n",
        "# Точность (accuracy) модели на тестовых данных — 83.47%. Это значит, что модель правильно предсказала 82.86% рецензий.\n",
        "\n",
        "# Большинство предсказаний совпадают с реальными метками.\n",
        "# Есть несколько ошибок: например, предсказано 1, а реальная метка 0 (и наоборот).\n",
        "\n",
        "# Оценка качества (отчет):\n",
        "  # Precision (точность): Как часто модель правильно предсказывает класс 0 и 1.\n",
        "    # Для класса 0: 82%\n",
        "    # Для класса 1: 84%\n",
        "  # Recall (полнота): Как хорошо модель находит все примеры класса 0 и 1.\n",
        "    # Для класса 0: 84%\n",
        "    # Для класса 1: 82%\n",
        "  # F1-score: Среднее значение precision и recall. Хорошо сбалансированное значение для обоих классов.\n",
        "\n",
        "# Матрица ошибок (confusion matrix):\n",
        "  # TP (True Positives): 10522. Верно предсказаны позитивные рецензии.\n",
        "  # TN (True Negatives): 10234. Верно предсказаны негативные рецензии.\n",
        "  # FP (False Positives): 1978. Негативные рецензии предсказаны как позитивные.\n",
        "  # FN (False Negatives): 2266. Позитивные рецензии предсказаны как негативные.\n",
        "\n",
        "# Модель в целом хорошо работает, но есть небольшие ошибки. Сбалансированное качество предсказаний для двух классов."
      ]
    },
    {
      "cell_type": "markdown",
      "metadata": {
        "id": "VEj43FGs17Pe"
      },
      "source": [
        "**LSTM(Long Short-Term Memory)**"
      ]
    },
    {
      "cell_type": "code",
      "execution_count": 37,
      "metadata": {
        "colab": {
          "base_uri": "https://localhost:8080/",
          "height": 269
        },
        "id": "Jtu1Fe742AOf",
        "outputId": "ec29865b-bf07-43ee-dc0d-cfc03a3699e8"
      },
      "outputs": [
        {
          "output_type": "stream",
          "name": "stderr",
          "text": [
            "/usr/local/lib/python3.10/dist-packages/keras/src/layers/core/embedding.py:90: UserWarning: Argument `input_length` is deprecated. Just remove it.\n",
            "  warnings.warn(\n"
          ]
        },
        {
          "output_type": "display_data",
          "data": {
            "text/plain": [
              "\u001b[1mModel: \"sequential_1\"\u001b[0m\n"
            ],
            "text/html": [
              "<pre style=\"white-space:pre;overflow-x:auto;line-height:normal;font-family:Menlo,'DejaVu Sans Mono',consolas,'Courier New',monospace\"><span style=\"font-weight: bold\">Model: \"sequential_1\"</span>\n",
              "</pre>\n"
            ]
          },
          "metadata": {}
        },
        {
          "output_type": "display_data",
          "data": {
            "text/plain": [
              "┏━━━━━━━━━━━━━━━━━━━━━━━━━━━━━━━━━━━━━━┳━━━━━━━━━━━━━━━━━━━━━━━━━━━━━┳━━━━━━━━━━━━━━━━━┓\n",
              "┃\u001b[1m \u001b[0m\u001b[1mLayer (type)                        \u001b[0m\u001b[1m \u001b[0m┃\u001b[1m \u001b[0m\u001b[1mOutput Shape               \u001b[0m\u001b[1m \u001b[0m┃\u001b[1m \u001b[0m\u001b[1m        Param #\u001b[0m\u001b[1m \u001b[0m┃\n",
              "┡━━━━━━━━━━━━━━━━━━━━━━━━━━━━━━━━━━━━━━╇━━━━━━━━━━━━━━━━━━━━━━━━━━━━━╇━━━━━━━━━━━━━━━━━┩\n",
              "│ embedding_1 (\u001b[38;5;33mEmbedding\u001b[0m)              │ (\u001b[38;5;34m1\u001b[0m, \u001b[38;5;34m120\u001b[0m, \u001b[38;5;34m16\u001b[0m)                │         \u001b[38;5;34m160,000\u001b[0m │\n",
              "├──────────────────────────────────────┼─────────────────────────────┼─────────────────┤\n",
              "│ lstm (\u001b[38;5;33mLSTM\u001b[0m)                          │ (\u001b[38;5;34m1\u001b[0m, \u001b[38;5;34m32\u001b[0m)                     │           \u001b[38;5;34m6,272\u001b[0m │\n",
              "├──────────────────────────────────────┼─────────────────────────────┼─────────────────┤\n",
              "│ dense_1 (\u001b[38;5;33mDense\u001b[0m)                      │ (\u001b[38;5;34m1\u001b[0m, \u001b[38;5;34m1\u001b[0m)                      │              \u001b[38;5;34m33\u001b[0m │\n",
              "└──────────────────────────────────────┴─────────────────────────────┴─────────────────┘\n"
            ],
            "text/html": [
              "<pre style=\"white-space:pre;overflow-x:auto;line-height:normal;font-family:Menlo,'DejaVu Sans Mono',consolas,'Courier New',monospace\">┏━━━━━━━━━━━━━━━━━━━━━━━━━━━━━━━━━━━━━━┳━━━━━━━━━━━━━━━━━━━━━━━━━━━━━┳━━━━━━━━━━━━━━━━━┓\n",
              "┃<span style=\"font-weight: bold\"> Layer (type)                         </span>┃<span style=\"font-weight: bold\"> Output Shape                </span>┃<span style=\"font-weight: bold\">         Param # </span>┃\n",
              "┡━━━━━━━━━━━━━━━━━━━━━━━━━━━━━━━━━━━━━━╇━━━━━━━━━━━━━━━━━━━━━━━━━━━━━╇━━━━━━━━━━━━━━━━━┩\n",
              "│ embedding_1 (<span style=\"color: #0087ff; text-decoration-color: #0087ff\">Embedding</span>)              │ (<span style=\"color: #00af00; text-decoration-color: #00af00\">1</span>, <span style=\"color: #00af00; text-decoration-color: #00af00\">120</span>, <span style=\"color: #00af00; text-decoration-color: #00af00\">16</span>)                │         <span style=\"color: #00af00; text-decoration-color: #00af00\">160,000</span> │\n",
              "├──────────────────────────────────────┼─────────────────────────────┼─────────────────┤\n",
              "│ lstm (<span style=\"color: #0087ff; text-decoration-color: #0087ff\">LSTM</span>)                          │ (<span style=\"color: #00af00; text-decoration-color: #00af00\">1</span>, <span style=\"color: #00af00; text-decoration-color: #00af00\">32</span>)                     │           <span style=\"color: #00af00; text-decoration-color: #00af00\">6,272</span> │\n",
              "├──────────────────────────────────────┼─────────────────────────────┼─────────────────┤\n",
              "│ dense_1 (<span style=\"color: #0087ff; text-decoration-color: #0087ff\">Dense</span>)                      │ (<span style=\"color: #00af00; text-decoration-color: #00af00\">1</span>, <span style=\"color: #00af00; text-decoration-color: #00af00\">1</span>)                      │              <span style=\"color: #00af00; text-decoration-color: #00af00\">33</span> │\n",
              "└──────────────────────────────────────┴─────────────────────────────┴─────────────────┘\n",
              "</pre>\n"
            ]
          },
          "metadata": {}
        },
        {
          "output_type": "display_data",
          "data": {
            "text/plain": [
              "\u001b[1m Total params: \u001b[0m\u001b[38;5;34m166,305\u001b[0m (649.63 KB)\n"
            ],
            "text/html": [
              "<pre style=\"white-space:pre;overflow-x:auto;line-height:normal;font-family:Menlo,'DejaVu Sans Mono',consolas,'Courier New',monospace\"><span style=\"font-weight: bold\"> Total params: </span><span style=\"color: #00af00; text-decoration-color: #00af00\">166,305</span> (649.63 KB)\n",
              "</pre>\n"
            ]
          },
          "metadata": {}
        },
        {
          "output_type": "display_data",
          "data": {
            "text/plain": [
              "\u001b[1m Trainable params: \u001b[0m\u001b[38;5;34m166,305\u001b[0m (649.63 KB)\n"
            ],
            "text/html": [
              "<pre style=\"white-space:pre;overflow-x:auto;line-height:normal;font-family:Menlo,'DejaVu Sans Mono',consolas,'Courier New',monospace\"><span style=\"font-weight: bold\"> Trainable params: </span><span style=\"color: #00af00; text-decoration-color: #00af00\">166,305</span> (649.63 KB)\n",
              "</pre>\n"
            ]
          },
          "metadata": {}
        },
        {
          "output_type": "display_data",
          "data": {
            "text/plain": [
              "\u001b[1m Non-trainable params: \u001b[0m\u001b[38;5;34m0\u001b[0m (0.00 B)\n"
            ],
            "text/html": [
              "<pre style=\"white-space:pre;overflow-x:auto;line-height:normal;font-family:Menlo,'DejaVu Sans Mono',consolas,'Courier New',monospace\"><span style=\"font-weight: bold\"> Non-trainable params: </span><span style=\"color: #00af00; text-decoration-color: #00af00\">0</span> (0.00 B)\n",
              "</pre>\n"
            ]
          },
          "metadata": {}
        }
      ],
      "source": [
        "# Этот код помогает создать и настроить модель для работы с текстом, используя слой LSTM для обработки последовательностей.\n",
        "\n",
        "embedding_dim = 16  # Размерность векторов для представления слов (В Embedding слое создаются векторы размером 16 для каждого слова.)\n",
        "lstm_dim = 32       # Количество нейронов в слое LSTM (LSTM слой использует 32 нейрона для обработки текста.)\n",
        "dense_dim = 6       # Количество нейронов в скрытом слое Dense\n",
        "\n",
        "# Определение модели с использованием LSTM\n",
        "model_lstm = tf.keras.Sequential([\n",
        "    # Слой для преобразования слов в векторы фиксированной длины\n",
        "    tf.keras.layers.Embedding(vocab_size, embedding_dim, input_length=max_length),\n",
        "\n",
        "    # LSTM слой для обработки последовательностей\n",
        "    tf.keras.layers.LSTM(lstm_dim),\n",
        "\n",
        "    # Полносвязный слой для получения конечного предсказания\n",
        "    tf.keras.layers.Dense(1, activation='sigmoid')\n",
        "])\n",
        "\n",
        "# Настройка параметров для обучения модели\n",
        "model_lstm.compile(loss='binary_crossentropy', optimizer='adam', metrics=['accuracy'])\n",
        "\n",
        "# Примерные входные данные для проверки модели\n",
        "input_example = np.random.randint(0, vocab_size, (1, max_length))\n",
        "\n",
        "# Построение модели на основе входных данных\n",
        "model_lstm(input_example)\n",
        "\n",
        "# Печать информации о модели\n",
        "model_lstm.summary()\n",
        "\n",
        "# Модель сначала превращает слова в векторы (слой Embedding),\n",
        "# затем обрабатывает последовательность с помощью LSTM, и в конце делает предсказание с помощью полносвязного слоя (Dense).\n"
      ]
    },
    {
      "cell_type": "code",
      "execution_count": 38,
      "metadata": {
        "id": "drP19OEUBGmq"
      },
      "outputs": [],
      "source": [
        "# ↑\n",
        "# Embedding: Входные данные преобразуются в векторы размером 16 для каждого слова. Выход имеет размер (1, 120, 16), где 120 — это длина последовательности слов.\n",
        "# LSTM: После обработки последовательности LSTM возвращает вектор размером 32. Это выход (1, 32).\n",
        "# Dense: Полносвязный слой (Dense) выдает результат с одним значением (1, 1).\n",
        "\n",
        "# Embedding: 160,000 параметров (для преобразования слов в векторы).\n",
        "# LSTM: 6,272 параметра (для обработки последовательностей).\n",
        "# Dense: 33 параметра (для окончательного предсказания).\n",
        "\n",
        "# Общее количество параметров: 166,305. Все параметры можно обучать.\n",
        "# Размер модели: 649.63 KB.\n",
        "# Модель имеет три слоя, где первый преобразует слова в векторы, второй обрабатывает последовательности, а третий делает предсказание."
      ]
    },
    {
      "cell_type": "code",
      "execution_count": 39,
      "metadata": {
        "colab": {
          "base_uri": "https://localhost:8080/"
        },
        "id": "__FkzuHW2AUH",
        "outputId": "5da27903-591a-4eb5-be3f-e62b0dfb9cfb"
      },
      "outputs": [
        {
          "output_type": "stream",
          "name": "stdout",
          "text": [
            "Epoch 1/5\n",
            "\u001b[1m196/196\u001b[0m \u001b[32m━━━━━━━━━━━━━━━━━━━━\u001b[0m\u001b[37m\u001b[0m \u001b[1m20s\u001b[0m 89ms/step - accuracy: 0.6088 - loss: 0.6238 - val_accuracy: 0.8171 - val_loss: 0.4112 - learning_rate: 0.0010\n",
            "Epoch 2/5\n",
            "\u001b[1m196/196\u001b[0m \u001b[32m━━━━━━━━━━━━━━━━━━━━\u001b[0m\u001b[37m\u001b[0m \u001b[1m18s\u001b[0m 93ms/step - accuracy: 0.8699 - loss: 0.3200 - val_accuracy: 0.8282 - val_loss: 0.4151 - learning_rate: 0.0010\n",
            "Epoch 3/5\n",
            "\u001b[1m196/196\u001b[0m \u001b[32m━━━━━━━━━━━━━━━━━━━━\u001b[0m\u001b[37m\u001b[0m \u001b[1m17s\u001b[0m 85ms/step - accuracy: 0.9063 - loss: 0.2495 - val_accuracy: 0.8128 - val_loss: 0.4361 - learning_rate: 0.0010\n",
            "Epoch 4/5\n",
            "\u001b[1m196/196\u001b[0m \u001b[32m━━━━━━━━━━━━━━━━━━━━\u001b[0m\u001b[37m\u001b[0m \u001b[1m21s\u001b[0m 87ms/step - accuracy: 0.9266 - loss: 0.2018 - val_accuracy: 0.8140 - val_loss: 0.4492 - learning_rate: 0.0010\n",
            "Epoch 5/5\n",
            "\u001b[1m196/196\u001b[0m \u001b[32m━━━━━━━━━━━━━━━━━━━━\u001b[0m\u001b[37m\u001b[0m \u001b[1m20s\u001b[0m 87ms/step - accuracy: 0.9474 - loss: 0.1624 - val_accuracy: 0.8152 - val_loss: 0.5000 - learning_rate: 2.0000e-04\n"
          ]
        }
      ],
      "source": [
        "# Этот код запускает процесс обучения модели LSTM.\n",
        "history_lstm = model_lstm.fit(\n",
        "    padded,\n",
        "    training_labels_final,\n",
        "    batch_size=BATCH_SIZE,\n",
        "    epochs=NUM_EPOCHS,\n",
        "    validation_data=(testing_padded, testing_labels_final),\n",
        "    callbacks=[epoch_callback, reduce_lr]\n",
        "    )\n",
        "# Этот код запускает обучение модели. По окончании каждой эпохи мы сможем увидеть,\n",
        "# насколько модель улучшает свои предсказания, сравнивая ошибки и точность на тренировочных и тестовых данных."
      ]
    },
    {
      "cell_type": "code",
      "execution_count": 40,
      "metadata": {
        "id": "meg4areMB-0y"
      },
      "outputs": [],
      "source": [
        "# ↑\n",
        "# Точность на тренировочных данных: Модель учится хорошо — точность увеличивается с 60.88% до 94.74% за 5 эпох.\n",
        "# Ошибка на проверочных данных: Хотя точность модели на тренировочных данных высокая, на проверочных данных она держится около 82%.\n",
        "#   Это может означать, что модель немного переобучилась.\n",
        "# Скорость обучения: В конце обучения скорость (learning_rate) была уменьшена, чтобы модель училась медленнее и точнее.\n",
        "\n",
        "# Модель учится хорошо, но нужно быть внимательным к проверочным данным, так как результаты могут указывать на переобучение."
      ]
    },
    {
      "cell_type": "code",
      "execution_count": 41,
      "metadata": {
        "colab": {
          "base_uri": "https://localhost:8080/",
          "height": 605
        },
        "id": "o1ZOxoe41wOW",
        "outputId": "7663e270-7c3e-4505-ebbe-bc9f73dcf0a7"
      },
      "outputs": [
        {
          "output_type": "display_data",
          "data": {
            "text/plain": [
              "<Figure size 500x300 with 1 Axes>"
            ],
            "image/png": "[encoded data removed]"
          },
          "metadata": {}
        },
        {
          "output_type": "display_data",
          "data": {
            "text/plain": [
              "<Figure size 500x300 with 1 Axes>"
            ],
            "image/png": "[encoded data removed]"
          },
          "metadata": {}
        }
      ],
      "source": [
        "# Эти строки строят два графика. Один показывает, как улучшалась точность модели, другой — как уменьшалась ошибка (потери).\n",
        "plot_graphs(history_lstm, 'accuracy')\n",
        "plot_graphs(history_lstm, 'loss')\n",
        "\n",
        "# График точности покажет, насколько хорошо модель обучалась. Если линия растёт, это значит, что модель становилась лучше.\n",
        "# График потерь покажет, насколько хорошо модель уменьшают свои ошибки. Если линия падает, это значит, что модель делает меньше ошибок.\n",
        "# Эти графики помогают понять, как модель обучалась и какие результаты были достигнуты."
      ]
    },
    {
      "cell_type": "code",
      "execution_count": 42,
      "metadata": {
        "colab": {
          "base_uri": "https://localhost:8080/",
          "height": 876
        },
        "id": "ywyERgdh1wRI",
        "outputId": "edf4cfd0-f8fe-43c0-d077-eda0c560770d"
      },
      "outputs": [
        {
          "output_type": "stream",
          "name": "stdout",
          "text": [
            "\u001b[1m782/782\u001b[0m \u001b[32m━━━━━━━━━━━━━━━━━━━━\u001b[0m\u001b[37m\u001b[0m \u001b[1m10s\u001b[0m 13ms/step\n",
            "\u001b[1m782/782\u001b[0m \u001b[32m━━━━━━━━━━━━━━━━━━━━\u001b[0m\u001b[37m\u001b[0m \u001b[1m10s\u001b[0m 13ms/step - accuracy: 0.8186 - loss: 0.4942\n",
            "Predicted: 1, Label: 1\n",
            "Predicted: 1, Label: 1\n",
            "Predicted: 0, Label: 0\n",
            "Predicted: 0, Label: 0\n",
            "Predicted: 1, Label: 1\n",
            "Predicted: 1, Label: 1\n",
            "Predicted: 1, Label: 1\n",
            "Predicted: 1, Label: 1\n",
            "Predicted: 1, Label: 0\n",
            "Predicted: 0, Label: 1\n",
            "              precision    recall  f1-score   support\n",
            "\n",
            "           0       0.80      0.85      0.82     12500\n",
            "           1       0.84      0.78      0.81     12500\n",
            "\n",
            "    accuracy                           0.82     25000\n",
            "   macro avg       0.82      0.82      0.81     25000\n",
            "weighted avg       0.82      0.82      0.81     25000\n",
            "\n"
          ]
        },
        {
          "output_type": "display_data",
          "data": {
            "text/plain": [
              "<Figure size 400x400 with 2 Axes>"
            ],
            "image/png": "[encoded data removed]"
          },
          "metadata": {}
        },
        {
          "output_type": "stream",
          "name": "stdout",
          "text": [
            "TP: 10601\n",
            "TN: 9779\n",
            "FP: 1899\n",
            "FN: 2721\n"
          ]
        }
      ],
      "source": [
        "report(model_lstm)"
      ]
    },
    {
      "cell_type": "code",
      "execution_count": 43,
      "metadata": {
        "id": "Cu5miBtODQLj"
      },
      "outputs": [],
      "source": [
        "# ↑\n",
        "# Точность модели составляет 82%. Это значит, что из 100 рецензий модель правильно классифицирует 82.\n",
        "# Precision и Recall для обоих классов (0 и 1) примерно равны, что говорит о сбалансированности модели. Модель хорошо предсказывает как положительные, так и отрицательные рецензии.\n",
        "# TP (True Positives) — 10601: это случаи, когда модель правильно предсказала положительные рецензии.\n",
        "# TN (True Negatives) — 9779: это случаи, когда модель правильно предсказала отрицательные рецензии.\n",
        "# FP (False Positives) — 1899: это случаи, когда модель ошибочно посчитала отрицательные рецензии положительными.\n",
        "# FN (False Negatives) — 2721: это случаи, когда модель ошибочно пропустила положительные рецензии.\n",
        "# Модель работает неплохо, но иногда ошибается, особенно при распознавании отрицательных рецензий."
      ]
    },
    {
      "cell_type": "markdown",
      "metadata": {
        "id": "jckV425B33XC"
      },
      "source": [
        "**GRU(Gated Recurrent Unit)**"
      ]
    },
    {
      "cell_type": "code",
      "execution_count": 44,
      "metadata": {
        "colab": {
          "base_uri": "https://localhost:8080/",
          "height": 265
        },
        "id": "kbjGxGCS1wTh",
        "outputId": "162af4f4-3d34-4fc1-aff9-30de53ed8fdb"
      },
      "outputs": [
        {
          "output_type": "display_data",
          "data": {
            "text/plain": [
              "\u001b[1mModel: \"sequential_2\"\u001b[0m\n"
            ],
            "text/html": [
              "<pre style=\"white-space:pre;overflow-x:auto;line-height:normal;font-family:Menlo,'DejaVu Sans Mono',consolas,'Courier New',monospace\"><span style=\"font-weight: bold\">Model: \"sequential_2\"</span>\n",
              "</pre>\n"
            ]
          },
          "metadata": {}
        },
        {
          "output_type": "display_data",
          "data": {
            "text/plain": [
              "┏━━━━━━━━━━━━━━━━━━━━━━━━━━━━━━━━━━━━━━┳━━━━━━━━━━━━━━━━━━━━━━━━━━━━━┳━━━━━━━━━━━━━━━━━┓\n",
              "┃\u001b[1m \u001b[0m\u001b[1mLayer (type)                        \u001b[0m\u001b[1m \u001b[0m┃\u001b[1m \u001b[0m\u001b[1mOutput Shape               \u001b[0m\u001b[1m \u001b[0m┃\u001b[1m \u001b[0m\u001b[1m        Param #\u001b[0m\u001b[1m \u001b[0m┃\n",
              "┡━━━━━━━━━━━━━━━━━━━━━━━━━━━━━━━━━━━━━━╇━━━━━━━━━━━━━━━━━━━━━━━━━━━━━╇━━━━━━━━━━━━━━━━━┩\n",
              "│ embedding_2 (\u001b[38;5;33mEmbedding\u001b[0m)              │ (\u001b[38;5;34m1\u001b[0m, \u001b[38;5;34m120\u001b[0m, \u001b[38;5;34m16\u001b[0m)                │         \u001b[38;5;34m160,000\u001b[0m │\n",
              "├──────────────────────────────────────┼─────────────────────────────┼─────────────────┤\n",
              "│ bidirectional (\u001b[38;5;33mBidirectional\u001b[0m)        │ (\u001b[38;5;34m1\u001b[0m, \u001b[38;5;34m64\u001b[0m)                     │           \u001b[38;5;34m9,600\u001b[0m │\n",
              "├──────────────────────────────────────┼─────────────────────────────┼─────────────────┤\n",
              "│ dense_2 (\u001b[38;5;33mDense\u001b[0m)                      │ (\u001b[38;5;34m1\u001b[0m, \u001b[38;5;34m6\u001b[0m)                      │             \u001b[38;5;34m390\u001b[0m │\n",
              "├──────────────────────────────────────┼─────────────────────────────┼─────────────────┤\n",
              "│ dense_3 (\u001b[38;5;33mDense\u001b[0m)                      │ (\u001b[38;5;34m1\u001b[0m, \u001b[38;5;34m1\u001b[0m)                      │               \u001b[38;5;34m7\u001b[0m │\n",
              "└──────────────────────────────────────┴─────────────────────────────┴─────────────────┘\n"
            ],
            "text/html": [
              "<pre style=\"white-space:pre;overflow-x:auto;line-height:normal;font-family:Menlo,'DejaVu Sans Mono',consolas,'Courier New',monospace\">┏━━━━━━━━━━━━━━━━━━━━━━━━━━━━━━━━━━━━━━┳━━━━━━━━━━━━━━━━━━━━━━━━━━━━━┳━━━━━━━━━━━━━━━━━┓\n",
              "┃<span style=\"font-weight: bold\"> Layer (type)                         </span>┃<span style=\"font-weight: bold\"> Output Shape                </span>┃<span style=\"font-weight: bold\">         Param # </span>┃\n",
              "┡━━━━━━━━━━━━━━━━━━━━━━━━━━━━━━━━━━━━━━╇━━━━━━━━━━━━━━━━━━━━━━━━━━━━━╇━━━━━━━━━━━━━━━━━┩\n",
              "│ embedding_2 (<span style=\"color: #0087ff; text-decoration-color: #0087ff\">Embedding</span>)              │ (<span style=\"color: #00af00; text-decoration-color: #00af00\">1</span>, <span style=\"color: #00af00; text-decoration-color: #00af00\">120</span>, <span style=\"color: #00af00; text-decoration-color: #00af00\">16</span>)                │         <span style=\"color: #00af00; text-decoration-color: #00af00\">160,000</span> │\n",
              "├──────────────────────────────────────┼─────────────────────────────┼─────────────────┤\n",
              "│ bidirectional (<span style=\"color: #0087ff; text-decoration-color: #0087ff\">Bidirectional</span>)        │ (<span style=\"color: #00af00; text-decoration-color: #00af00\">1</span>, <span style=\"color: #00af00; text-decoration-color: #00af00\">64</span>)                     │           <span style=\"color: #00af00; text-decoration-color: #00af00\">9,600</span> │\n",
              "├──────────────────────────────────────┼─────────────────────────────┼─────────────────┤\n",
              "│ dense_2 (<span style=\"color: #0087ff; text-decoration-color: #0087ff\">Dense</span>)                      │ (<span style=\"color: #00af00; text-decoration-color: #00af00\">1</span>, <span style=\"color: #00af00; text-decoration-color: #00af00\">6</span>)                      │             <span style=\"color: #00af00; text-decoration-color: #00af00\">390</span> │\n",
              "├──────────────────────────────────────┼─────────────────────────────┼─────────────────┤\n",
              "│ dense_3 (<span style=\"color: #0087ff; text-decoration-color: #0087ff\">Dense</span>)                      │ (<span style=\"color: #00af00; text-decoration-color: #00af00\">1</span>, <span style=\"color: #00af00; text-decoration-color: #00af00\">1</span>)                      │               <span style=\"color: #00af00; text-decoration-color: #00af00\">7</span> │\n",
              "└──────────────────────────────────────┴─────────────────────────────┴─────────────────┘\n",
              "</pre>\n"
            ]
          },
          "metadata": {}
        },
        {
          "output_type": "display_data",
          "data": {
            "text/plain": [
              "\u001b[1m Total params: \u001b[0m\u001b[38;5;34m169,997\u001b[0m (664.05 KB)\n"
            ],
            "text/html": [
              "<pre style=\"white-space:pre;overflow-x:auto;line-height:normal;font-family:Menlo,'DejaVu Sans Mono',consolas,'Courier New',monospace\"><span style=\"font-weight: bold\"> Total params: </span><span style=\"color: #00af00; text-decoration-color: #00af00\">169,997</span> (664.05 KB)\n",
              "</pre>\n"
            ]
          },
          "metadata": {}
        },
        {
          "output_type": "display_data",
          "data": {
            "text/plain": [
              "\u001b[1m Trainable params: \u001b[0m\u001b[38;5;34m169,997\u001b[0m (664.05 KB)\n"
            ],
            "text/html": [
              "<pre style=\"white-space:pre;overflow-x:auto;line-height:normal;font-family:Menlo,'DejaVu Sans Mono',consolas,'Courier New',monospace\"><span style=\"font-weight: bold\"> Trainable params: </span><span style=\"color: #00af00; text-decoration-color: #00af00\">169,997</span> (664.05 KB)\n",
              "</pre>\n"
            ]
          },
          "metadata": {}
        },
        {
          "output_type": "display_data",
          "data": {
            "text/plain": [
              "\u001b[1m Non-trainable params: \u001b[0m\u001b[38;5;34m0\u001b[0m (0.00 B)\n"
            ],
            "text/html": [
              "<pre style=\"white-space:pre;overflow-x:auto;line-height:normal;font-family:Menlo,'DejaVu Sans Mono',consolas,'Courier New',monospace\"><span style=\"font-weight: bold\"> Non-trainable params: </span><span style=\"color: #00af00; text-decoration-color: #00af00\">0</span> (0.00 B)\n",
              "</pre>\n"
            ]
          },
          "metadata": {}
        }
      ],
      "source": [
        "# Параметры для слоев модели\n",
        "embedding_dim = 16  # Размерность векторного представления слов (Embedding)\n",
        "gru_dim = 32  # Количество нейронов в слое GRU\n",
        "dense_dim = 6  # Количество нейронов в слое Dense (обычный слой)\n",
        "\n",
        "# Определение модели с GRU\n",
        "model_gru = tf.keras.Sequential([\n",
        "    # Слой, который преобразует слова в векторы\n",
        "    tf.keras.layers.Embedding(vocab_size, embedding_dim),\n",
        "\n",
        "    # Двухнаправленный GRU слой, который может обрабатывать информацию в обе стороны\n",
        "    tf.keras.layers.Bidirectional(tf.keras.layers.GRU(gru_dim)),\n",
        "\n",
        "    # Обычный плотный слой с 6 нейронами, который помогает учить сложные зависимости\n",
        "    tf.keras.layers.Dense(dense_dim, activation='relu'),\n",
        "\n",
        "    # Последний слой: один нейрон для предсказания 0 или 1 (плохая или хорошая рецензия)\n",
        "    tf.keras.layers.Dense(1, activation='sigmoid')\n",
        "])\n",
        "\n",
        "# Устанавливаем параметры для обучения модели\n",
        "model_gru.compile(loss='binary_crossentropy', optimizer='adam', metrics=['accuracy'])\n",
        "\n",
        "# Пример данных для запуска модели (рандомные данные для примера)\n",
        "input_example = np.random.randint(0, vocab_size, (1, max_length))\n",
        "\n",
        "# Строим модель на этих данных, чтобы она знала, какие размеры использовать\n",
        "model_gru(input_example)\n",
        "\n",
        "# Выводим информацию о слоях модели\n",
        "model_gru.summary()\n"
      ]
    },
    {
      "cell_type": "code",
      "execution_count": 45,
      "metadata": {
        "id": "wf9GWHXXEhMH"
      },
      "outputs": [],
      "source": [
        "# ↑\n",
        "# Из этого вывода можно сказать, что модель довольно простая, но мощная:\n",
        "\n",
        "# Первый слой (Embedding): превращает слова в числа размерностью 16 (160,000 параметров для этого).\n",
        "# Второй слой (Bidirectional GRU): обрабатывает информацию в двух направлениях (слева направо и справа налево), содержит 9,600 параметров.\n",
        "# Третий слой (Dense): слой с 6 нейронами, который помогает анализировать данные (390 параметров).\n",
        "# Четвертый слой (Dense): один выход для предсказания (0 или 1 — плохая или хорошая рецензия), всего 7 параметров.\n",
        "# Модель небольшая, около 170,000 параметров, и все они обучаемые."
      ]
    },
    {
      "cell_type": "code",
      "execution_count": 46,
      "metadata": {
        "colab": {
          "base_uri": "https://localhost:8080/"
        },
        "id": "KfmX5VKV4Ceq",
        "outputId": "4161eb29-c7eb-476b-8153-0c84bfb07c81"
      },
      "outputs": [
        {
          "output_type": "stream",
          "name": "stdout",
          "text": [
            "Epoch 1/5\n",
            "\u001b[1m196/196\u001b[0m \u001b[32m━━━━━━━━━━━━━━━━━━━━\u001b[0m\u001b[37m\u001b[0m \u001b[1m41s\u001b[0m 187ms/step - accuracy: 0.5549 - loss: 0.6701 - val_accuracy: 0.7688 - val_loss: 0.4853\n",
            "Epoch 2/5\n",
            "\u001b[1m196/196\u001b[0m \u001b[32m━━━━━━━━━━━━━━━━━━━━\u001b[0m\u001b[37m\u001b[0m \u001b[1m40s\u001b[0m 184ms/step - accuracy: 0.8299 - loss: 0.3981 - val_accuracy: 0.8288 - val_loss: 0.3974\n",
            "Epoch 3/5\n",
            "\u001b[1m196/196\u001b[0m \u001b[32m━━━━━━━━━━━━━━━━━━━━\u001b[0m\u001b[37m\u001b[0m \u001b[1m44s\u001b[0m 201ms/step - accuracy: 0.8878 - loss: 0.2910 - val_accuracy: 0.8249 - val_loss: 0.4002\n",
            "Epoch 4/5\n",
            "\u001b[1m196/196\u001b[0m \u001b[32m━━━━━━━━━━━━━━━━━━━━\u001b[0m\u001b[37m\u001b[0m \u001b[1m41s\u001b[0m 200ms/step - accuracy: 0.9113 - loss: 0.2419 - val_accuracy: 0.8180 - val_loss: 0.4263\n",
            "Epoch 5/5\n",
            "\u001b[1m196/196\u001b[0m \u001b[32m━━━━━━━━━━━━━━━━━━━━\u001b[0m\u001b[37m\u001b[0m \u001b[1m43s\u001b[0m 212ms/step - accuracy: 0.9342 - loss: 0.1910 - val_accuracy: 0.8168 - val_loss: 0.4697\n"
          ]
        }
      ],
      "source": [
        "# Этот код запускает процесс обучения модели\n",
        "history_gru = model_gru.fit(padded,\n",
        "                            training_labels_final,\n",
        "                            batch_size=BATCH_SIZE,\n",
        "                            epochs=NUM_EPOCHS,\n",
        "                            validation_data=(testing_padded, testing_labels_final))"
      ]
    },
    {
      "cell_type": "code",
      "execution_count": 47,
      "metadata": {
        "id": "oqCTzGYkE1XH"
      },
      "outputs": [],
      "source": [
        "# ↑\n",
        "# Тренировка:\n",
        "# Модель улучшалась с каждой эпохой, достигая точности 93.42% на обучающих данных.\n",
        "# Потери (loss) уменьшались, что означает, что модель лучше справляется с задачей.\n",
        "\n",
        "# Валидация:\n",
        "# Точность на валидационных данных (на тестах) немного колебалась, начиная с 76.88%, повысилась до 82.88 и снизилась до 81.68%.\n",
        "# Потери на валидационных данных сначала снижались, но потом начали расти, что может указывать на переобучение\n",
        "# (модель слишком хорошо запомнила тренировочные данные и хуже обобщает на новых данных).\n",
        "\n",
        "# Таким образом, модель работает хорошо на тренировочных данных, но её эффективность на новых данных может быть немного ниже."
      ]
    },
    {
      "cell_type": "code",
      "execution_count": 48,
      "metadata": {
        "colab": {
          "base_uri": "https://localhost:8080/",
          "height": 605
        },
        "id": "x2kEWJbO4Chi",
        "outputId": "b82b831d-3311-4b09-dbda-14cadfcc11ab"
      },
      "outputs": [
        {
          "output_type": "display_data",
          "data": {
            "text/plain": [
              "<Figure size 500x300 with 1 Axes>"
            ],
            "image/png": "[encoded data removed]"
          },
          "metadata": {}
        },
        {
          "output_type": "display_data",
          "data": {
            "text/plain": [
              "<Figure size 500x300 with 1 Axes>"
            ],
            "image/png": "[encoded data removed]"
          },
          "metadata": {}
        }
      ],
      "source": [
        "plot_graphs(history_gru, 'accuracy')\n",
        "plot_graphs(history_gru, 'loss')\n",
        "\n",
        "# График точности покажет, насколько хорошо модель обучалась. Если линия растёт, это значит, что модель становилась лучше.\n",
        "# График потерь покажет, насколько хорошо модель уменьшают свои ошибки. Если линия падает, это значит, что модель делает меньше ошибок.\n",
        "# Эти графики помогают понять, как модель обучалась и какие результаты были достигнуты."
      ]
    },
    {
      "cell_type": "code",
      "execution_count": 49,
      "metadata": {
        "colab": {
          "base_uri": "https://localhost:8080/",
          "height": 876
        },
        "id": "Dcb2vYEj4CkU",
        "outputId": "a5ab872e-8af5-40f2-e820-983a438f64b3"
      },
      "outputs": [
        {
          "output_type": "stream",
          "name": "stdout",
          "text": [
            "\u001b[1m782/782\u001b[0m \u001b[32m━━━━━━━━━━━━━━━━━━━━\u001b[0m\u001b[37m\u001b[0m \u001b[1m16s\u001b[0m 20ms/step\n",
            "\u001b[1m782/782\u001b[0m \u001b[32m━━━━━━━━━━━━━━━━━━━━\u001b[0m\u001b[37m\u001b[0m \u001b[1m17s\u001b[0m 22ms/step - accuracy: 0.8217 - loss: 0.4620\n",
            "Predicted: 1, Label: 1\n",
            "Predicted: 1, Label: 1\n",
            "Predicted: 0, Label: 0\n",
            "Predicted: 0, Label: 0\n",
            "Predicted: 1, Label: 1\n",
            "Predicted: 1, Label: 1\n",
            "Predicted: 1, Label: 1\n",
            "Predicted: 1, Label: 1\n",
            "Predicted: 1, Label: 0\n",
            "Predicted: 0, Label: 1\n",
            "              precision    recall  f1-score   support\n",
            "\n",
            "           0       0.80      0.84      0.82     12500\n",
            "           1       0.83      0.79      0.81     12500\n",
            "\n",
            "    accuracy                           0.82     25000\n",
            "   macro avg       0.82      0.82      0.82     25000\n",
            "weighted avg       0.82      0.82      0.82     25000\n",
            "\n"
          ]
        },
        {
          "output_type": "display_data",
          "data": {
            "text/plain": [
              "<Figure size 400x400 with 2 Axes>"
            ],
            "image/png": "[encoded data removed]"
          },
          "metadata": {}
        },
        {
          "output_type": "stream",
          "name": "stdout",
          "text": [
            "TP: 10524\n",
            "TN: 9896\n",
            "FP: 1976\n",
            "FN: 2604\n"
          ]
        }
      ],
      "source": [
        "report(model_gru)"
      ]
    },
    {
      "cell_type": "code",
      "execution_count": 50,
      "metadata": {
        "id": "vKQHAGdcFHUR"
      },
      "outputs": [],
      "source": [
        "# ↑\n",
        "# Точность модели:\n",
        "# Модель правильно определяет положительные рецензии (True Positives, TP) в 10524 случаях.\n",
        "# Модель правильно определяет отрицательные рецензии (True Negatives, TN) в 9896 случаях.\n",
        "# Ошибается, когда положительная рецензия определяется как отрицательная (False Positives, FN) в 1976 случаях.\n",
        "# Ошибается, когда отрицательная рецензия определяется как положительная (False Negatives, FP) в 2604 случаях.\n",
        "\n",
        "# Метрики:\n",
        "# Точность (Accuracy): 81.17% — модель правильно классифицирует 81.17% рецензий.\n",
        "# Precision для положительных рецензий: 83% — точность распознавания положительных рецензий.\n",
        "# Recall для отрицательных рецензий: 84% — полнота распознавания отрицательных рецензий.\n",
        "# F1-score: 82% — средняя мера качества модели.\n",
        "\n",
        "# Проблемы:\n",
        "# Модель имеет проблемы с ошибками (False Negatives) при распознавании отрицательных рецензий, что может повлиять на её общую эффективность."
      ]
    },
    {
      "cell_type": "markdown",
      "metadata": {
        "id": "JdXEt_LV4I2D"
      },
      "source": [
        "**Convolution RNN**"
      ]
    },
    {
      "cell_type": "code",
      "execution_count": 51,
      "metadata": {
        "colab": {
          "base_uri": "https://localhost:8080/",
          "height": 315
        },
        "id": "rHc5Nmbo4Cm-",
        "outputId": "71f7abef-40d0-4290-e297-e0bd8f0af989"
      },
      "outputs": [
        {
          "output_type": "display_data",
          "data": {
            "text/plain": [
              "\u001b[1mModel: \"sequential_3\"\u001b[0m\n"
            ],
            "text/html": [
              "<pre style=\"white-space:pre;overflow-x:auto;line-height:normal;font-family:Menlo,'DejaVu Sans Mono',consolas,'Courier New',monospace\"><span style=\"font-weight: bold\">Model: \"sequential_3\"</span>\n",
              "</pre>\n"
            ]
          },
          "metadata": {}
        },
        {
          "output_type": "display_data",
          "data": {
            "text/plain": [
              "┏━━━━━━━━━━━━━━━━━━━━━━━━━━━━━━━━━━━━━━┳━━━━━━━━━━━━━━━━━━━━━━━━━━━━━┳━━━━━━━━━━━━━━━━━┓\n",
              "┃\u001b[1m \u001b[0m\u001b[1mLayer (type)                        \u001b[0m\u001b[1m \u001b[0m┃\u001b[1m \u001b[0m\u001b[1mOutput Shape               \u001b[0m\u001b[1m \u001b[0m┃\u001b[1m \u001b[0m\u001b[1m        Param #\u001b[0m\u001b[1m \u001b[0m┃\n",
              "┡━━━━━━━━━━━━━━━━━━━━━━━━━━━━━━━━━━━━━━╇━━━━━━━━━━━━━━━━━━━━━━━━━━━━━╇━━━━━━━━━━━━━━━━━┩\n",
              "│ embedding_3 (\u001b[38;5;33mEmbedding\u001b[0m)              │ (\u001b[38;5;34m1\u001b[0m, \u001b[38;5;34m120\u001b[0m, \u001b[38;5;34m16\u001b[0m)                │         \u001b[38;5;34m160,000\u001b[0m │\n",
              "├──────────────────────────────────────┼─────────────────────────────┼─────────────────┤\n",
              "│ conv1d (\u001b[38;5;33mConv1D\u001b[0m)                      │ (\u001b[38;5;34m1\u001b[0m, \u001b[38;5;34m116\u001b[0m, \u001b[38;5;34m128\u001b[0m)               │          \u001b[38;5;34m10,368\u001b[0m │\n",
              "├──────────────────────────────────────┼─────────────────────────────┼─────────────────┤\n",
              "│ global_average_pooling1d             │ (\u001b[38;5;34m1\u001b[0m, \u001b[38;5;34m128\u001b[0m)                    │               \u001b[38;5;34m0\u001b[0m │\n",
              "│ (\u001b[38;5;33mGlobalAveragePooling1D\u001b[0m)             │                             │                 │\n",
              "├──────────────────────────────────────┼─────────────────────────────┼─────────────────┤\n",
              "│ dense_4 (\u001b[38;5;33mDense\u001b[0m)                      │ (\u001b[38;5;34m1\u001b[0m, \u001b[38;5;34m6\u001b[0m)                      │             \u001b[38;5;34m774\u001b[0m │\n",
              "├──────────────────────────────────────┼─────────────────────────────┼─────────────────┤\n",
              "│ dense_5 (\u001b[38;5;33mDense\u001b[0m)                      │ (\u001b[38;5;34m1\u001b[0m, \u001b[38;5;34m1\u001b[0m)                      │               \u001b[38;5;34m7\u001b[0m │\n",
              "└──────────────────────────────────────┴─────────────────────────────┴─────────────────┘\n"
            ],
            "text/html": [
              "<pre style=\"white-space:pre;overflow-x:auto;line-height:normal;font-family:Menlo,'DejaVu Sans Mono',consolas,'Courier New',monospace\">┏━━━━━━━━━━━━━━━━━━━━━━━━━━━━━━━━━━━━━━┳━━━━━━━━━━━━━━━━━━━━━━━━━━━━━┳━━━━━━━━━━━━━━━━━┓\n",
              "┃<span style=\"font-weight: bold\"> Layer (type)                         </span>┃<span style=\"font-weight: bold\"> Output Shape                </span>┃<span style=\"font-weight: bold\">         Param # </span>┃\n",
              "┡━━━━━━━━━━━━━━━━━━━━━━━━━━━━━━━━━━━━━━╇━━━━━━━━━━━━━━━━━━━━━━━━━━━━━╇━━━━━━━━━━━━━━━━━┩\n",
              "│ embedding_3 (<span style=\"color: #0087ff; text-decoration-color: #0087ff\">Embedding</span>)              │ (<span style=\"color: #00af00; text-decoration-color: #00af00\">1</span>, <span style=\"color: #00af00; text-decoration-color: #00af00\">120</span>, <span style=\"color: #00af00; text-decoration-color: #00af00\">16</span>)                │         <span style=\"color: #00af00; text-decoration-color: #00af00\">160,000</span> │\n",
              "├──────────────────────────────────────┼─────────────────────────────┼─────────────────┤\n",
              "│ conv1d (<span style=\"color: #0087ff; text-decoration-color: #0087ff\">Conv1D</span>)                      │ (<span style=\"color: #00af00; text-decoration-color: #00af00\">1</span>, <span style=\"color: #00af00; text-decoration-color: #00af00\">116</span>, <span style=\"color: #00af00; text-decoration-color: #00af00\">128</span>)               │          <span style=\"color: #00af00; text-decoration-color: #00af00\">10,368</span> │\n",
              "├──────────────────────────────────────┼─────────────────────────────┼─────────────────┤\n",
              "│ global_average_pooling1d             │ (<span style=\"color: #00af00; text-decoration-color: #00af00\">1</span>, <span style=\"color: #00af00; text-decoration-color: #00af00\">128</span>)                    │               <span style=\"color: #00af00; text-decoration-color: #00af00\">0</span> │\n",
              "│ (<span style=\"color: #0087ff; text-decoration-color: #0087ff\">GlobalAveragePooling1D</span>)             │                             │                 │\n",
              "├──────────────────────────────────────┼─────────────────────────────┼─────────────────┤\n",
              "│ dense_4 (<span style=\"color: #0087ff; text-decoration-color: #0087ff\">Dense</span>)                      │ (<span style=\"color: #00af00; text-decoration-color: #00af00\">1</span>, <span style=\"color: #00af00; text-decoration-color: #00af00\">6</span>)                      │             <span style=\"color: #00af00; text-decoration-color: #00af00\">774</span> │\n",
              "├──────────────────────────────────────┼─────────────────────────────┼─────────────────┤\n",
              "│ dense_5 (<span style=\"color: #0087ff; text-decoration-color: #0087ff\">Dense</span>)                      │ (<span style=\"color: #00af00; text-decoration-color: #00af00\">1</span>, <span style=\"color: #00af00; text-decoration-color: #00af00\">1</span>)                      │               <span style=\"color: #00af00; text-decoration-color: #00af00\">7</span> │\n",
              "└──────────────────────────────────────┴─────────────────────────────┴─────────────────┘\n",
              "</pre>\n"
            ]
          },
          "metadata": {}
        },
        {
          "output_type": "display_data",
          "data": {
            "text/plain": [
              "\u001b[1m Total params: \u001b[0m\u001b[38;5;34m171,149\u001b[0m (668.55 KB)\n"
            ],
            "text/html": [
              "<pre style=\"white-space:pre;overflow-x:auto;line-height:normal;font-family:Menlo,'DejaVu Sans Mono',consolas,'Courier New',monospace\"><span style=\"font-weight: bold\"> Total params: </span><span style=\"color: #00af00; text-decoration-color: #00af00\">171,149</span> (668.55 KB)\n",
              "</pre>\n"
            ]
          },
          "metadata": {}
        },
        {
          "output_type": "display_data",
          "data": {
            "text/plain": [
              "\u001b[1m Trainable params: \u001b[0m\u001b[38;5;34m171,149\u001b[0m (668.55 KB)\n"
            ],
            "text/html": [
              "<pre style=\"white-space:pre;overflow-x:auto;line-height:normal;font-family:Menlo,'DejaVu Sans Mono',consolas,'Courier New',monospace\"><span style=\"font-weight: bold\"> Trainable params: </span><span style=\"color: #00af00; text-decoration-color: #00af00\">171,149</span> (668.55 KB)\n",
              "</pre>\n"
            ]
          },
          "metadata": {}
        },
        {
          "output_type": "display_data",
          "data": {
            "text/plain": [
              "\u001b[1m Non-trainable params: \u001b[0m\u001b[38;5;34m0\u001b[0m (0.00 B)\n"
            ],
            "text/html": [
              "<pre style=\"white-space:pre;overflow-x:auto;line-height:normal;font-family:Menlo,'DejaVu Sans Mono',consolas,'Courier New',monospace\"><span style=\"font-weight: bold\"> Non-trainable params: </span><span style=\"color: #00af00; text-decoration-color: #00af00\">0</span> (0.00 B)\n",
              "</pre>\n"
            ]
          },
          "metadata": {}
        }
      ],
      "source": [
        "# Задаем параметры\n",
        "embedding_dim = 16  # Размерность векторов для слов\n",
        "filters = 128        # Количество фильтров для Conv1D\n",
        "kernel_size = 5      # Размер ядра свертки\n",
        "dense_dim = 6        # Размерность для полносвязного слоя\n",
        "\n",
        "# Определяем модель с Conv1D\n",
        "model_conv = tf.keras.Sequential([\n",
        "    tf.keras.layers.Embedding(vocab_size, embedding_dim),  # Преобразуем слова в векторы\n",
        "    tf.keras.layers.Conv1D(filters, kernel_size, activation='relu'),  # Применяем свертку\n",
        "    tf.keras.layers.GlobalAveragePooling1D(),  # Уменьшаем размерность данных\n",
        "    tf.keras.layers.Dense(dense_dim, activation='relu'),  # Полносвязный слой\n",
        "    tf.keras.layers.Dense(1, activation='sigmoid')  # Выходной слой для бинарной классификации\n",
        "])\n",
        "\n",
        "# Настраиваем параметры обучения\n",
        "model_conv.compile(loss='binary_crossentropy', optimizer='adam', metrics=['accuracy'])\n",
        "\n",
        "# Пример входных данных для создания модели\n",
        "input_example = np.random.randint(0, vocab_size, (1, max_length))\n",
        "\n",
        "# Создаем модель на основе этих данных\n",
        "model_conv(input_example)\n",
        "\n",
        "# Печатаем сводку модели\n",
        "model_conv.summary()\n",
        "\n",
        "# Модель использует сверточные слои для извлечения признаков из текстовых данных, затем обрабатывает их через полносвязные слои для классификации.\n",
        "#  Она хорошо подходит для обработки текстовых данных и предсказания категорий."
      ]
    },
    {
      "cell_type": "code",
      "execution_count": 52,
      "metadata": {
        "id": "Fl8arXTHGFdt"
      },
      "outputs": [],
      "source": [
        "# ↑\n",
        "# Embedding слой превращает слова в векторы размером 16, добавляет 160,000 параметров.\n",
        "# Conv1D слой применяет фильтры к тексту, добавляет 10,368 параметров.\n",
        "# GlobalAveragePooling1D слой сокращает данные до размера 128 без добавления новых параметров.\n",
        "# Dense слои добавляют 774 и 7 параметров соответственно.\n",
        "\n",
        "# Модель имеет 171,149 параметров, все из которых обучаемые.\n",
        "\n",
        "# Модель имеет разумное количество параметров для текста и должна хорошо работать на текстовых данных."
      ]
    },
    {
      "cell_type": "code",
      "execution_count": 53,
      "metadata": {
        "colab": {
          "base_uri": "https://localhost:8080/"
        },
        "id": "OWOW3L-g4Cp9",
        "outputId": "caaaee08-ae60-44a0-9146-2567509b7244"
      },
      "outputs": [
        {
          "output_type": "stream",
          "name": "stdout",
          "text": [
            "Epoch 1/5\n",
            "\u001b[1m196/196\u001b[0m \u001b[32m━━━━━━━━━━━━━━━━━━━━\u001b[0m\u001b[37m\u001b[0m \u001b[1m11s\u001b[0m 48ms/step - accuracy: 0.6386 - loss: 0.6279 - val_accuracy: 0.8244 - val_loss: 0.3930 - learning_rate: 0.0010\n",
            "Epoch 2/5\n",
            "\u001b[1m196/196\u001b[0m \u001b[32m━━━━━━━━━━━━━━━━━━━━\u001b[0m\u001b[37m\u001b[0m \u001b[1m8s\u001b[0m 39ms/step - accuracy: 0.8720 - loss: 0.3148 - val_accuracy: 0.8315 - val_loss: 0.3783 - learning_rate: 0.0010\n",
            "Epoch 3/5\n",
            "\u001b[1m196/196\u001b[0m \u001b[32m━━━━━━━━━━━━━━━━━━━━\u001b[0m\u001b[37m\u001b[0m \u001b[1m9s\u001b[0m 46ms/step - accuracy: 0.9063 - loss: 0.2419 - val_accuracy: 0.8246 - val_loss: 0.4097 - learning_rate: 0.0010\n",
            "Epoch 4/5\n",
            "\u001b[1m196/196\u001b[0m \u001b[32m━━━━━━━━━━━━━━━━━━━━\u001b[0m\u001b[37m\u001b[0m \u001b[1m10s\u001b[0m 45ms/step - accuracy: 0.9219 - loss: 0.2093 - val_accuracy: 0.8150 - val_loss: 0.4529 - learning_rate: 0.0010\n",
            "Epoch 5/5\n",
            "\u001b[1m196/196\u001b[0m \u001b[32m━━━━━━━━━━━━━━━━━━━━\u001b[0m\u001b[37m\u001b[0m \u001b[1m8s\u001b[0m 39ms/step - accuracy: 0.9434 - loss: 0.1709 - val_accuracy: 0.8231 - val_loss: 0.4420 - learning_rate: 2.0000e-04\n"
          ]
        }
      ],
      "source": [
        "# Этот код запускает процесс обучения модели\n",
        "history_conv = model_conv.fit(padded,\n",
        "                              training_labels_final,\n",
        "                              batch_size=BATCH_SIZE,\n",
        "                              epochs=NUM_EPOCHS,\n",
        "                              validation_data=(testing_padded, testing_labels_final), callbacks=[reduce_lr])"
      ]
    },
    {
      "cell_type": "code",
      "execution_count": 54,
      "metadata": {
        "id": "f3Xb9o9XG1u5"
      },
      "outputs": [],
      "source": [
        "# ↑\n",
        "# Модель становится лучше с каждой эпохой, точность (accuracy) растёт, а ошибка (loss) уменьшается.\n",
        "# В начале точность на тренировочных данных была 63.86%, а на последних эпохах достигла 94.34%.\n",
        "# Точность на валидационных данных тоже улучшилась, но последние значения немного снизились (до 82.31%).\n",
        "\n",
        "# Ошибка на валидационных данных увеличилась на последних эпохах, что может говорить о переобучении (overfitting).\n",
        "# Это значит, что модель хорошо учится на тренировочных данных, но хуже на новых данных.\n",
        "\n",
        "# Модель хорошо обучается, но возможно переобучается на тренировочных данных. Может понадобиться больше внимания к предотвращению переобучения."
      ]
    },
    {
      "cell_type": "code",
      "execution_count": 55,
      "metadata": {
        "colab": {
          "base_uri": "https://localhost:8080/",
          "height": 607
        },
        "id": "9xA_N4f80flk",
        "outputId": "bc36f01f-b825-4a0e-ed94-261419d9f789"
      },
      "outputs": [
        {
          "output_type": "display_data",
          "data": {
            "text/plain": [
              "<Figure size 500x300 with 1 Axes>"
            ],
            "image/png": "[encoded data removed]"
          },
          "metadata": {}
        },
        {
          "output_type": "display_data",
          "data": {
            "text/plain": [
              "<Figure size 500x300 with 1 Axes>"
            ],
            "image/png": "[encoded data removed]"
          },
          "metadata": {}
        }
      ],
      "source": [
        "plot_graphs(history_conv, \"accuracy\")\n",
        "plot_graphs(history_conv, \"loss\")\n",
        "\n",
        "# График точности покажет, насколько хорошо модель обучалась. Если линия растёт, это значит, что модель становилась лучше.\n",
        "# График потерь покажет, насколько хорошо модель уменьшают свои ошибки. Если линия падает, это значит, что модель делает меньше ошибок.\n",
        "# Эти графики помогают понять, как модель обучалась и какие результаты были достигнуты."
      ]
    },
    {
      "cell_type": "code",
      "execution_count": 56,
      "metadata": {
        "colab": {
          "base_uri": "https://localhost:8080/",
          "height": 876
        },
        "id": "c2U6sVhM4QFU",
        "outputId": "0a49fa5e-bae1-4909-b9ec-2dfe5a5b247c"
      },
      "outputs": [
        {
          "output_type": "stream",
          "name": "stdout",
          "text": [
            "\u001b[1m782/782\u001b[0m \u001b[32m━━━━━━━━━━━━━━━━━━━━\u001b[0m\u001b[37m\u001b[0m \u001b[1m3s\u001b[0m 4ms/step\n",
            "\u001b[1m782/782\u001b[0m \u001b[32m━━━━━━━━━━━━━━━━━━━━\u001b[0m\u001b[37m\u001b[0m \u001b[1m3s\u001b[0m 3ms/step - accuracy: 0.8247 - loss: 0.4396\n",
            "Predicted: 1, Label: 1\n",
            "Predicted: 1, Label: 1\n",
            "Predicted: 0, Label: 0\n",
            "Predicted: 0, Label: 0\n",
            "Predicted: 1, Label: 1\n",
            "Predicted: 1, Label: 1\n",
            "Predicted: 1, Label: 1\n",
            "Predicted: 1, Label: 1\n",
            "Predicted: 1, Label: 0\n",
            "Predicted: 0, Label: 1\n",
            "              precision    recall  f1-score   support\n",
            "\n",
            "           0       0.82      0.83      0.82     12500\n",
            "           1       0.82      0.82      0.82     12500\n",
            "\n",
            "    accuracy                           0.82     25000\n",
            "   macro avg       0.82      0.82      0.82     25000\n",
            "weighted avg       0.82      0.82      0.82     25000\n",
            "\n"
          ]
        },
        {
          "output_type": "display_data",
          "data": {
            "text/plain": [
              "<Figure size 400x400 with 2 Axes>"
            ],
            "image/png": "[encoded data removed]"
          },
          "metadata": {}
        },
        {
          "output_type": "stream",
          "name": "stdout",
          "text": [
            "TP: 10323\n",
            "TN: 10255\n",
            "FP: 2177\n",
            "FN: 2245\n"
          ]
        }
      ],
      "source": [
        "report(model_conv)"
      ]
    },
    {
      "cell_type": "code",
      "execution_count": 57,
      "metadata": {
        "id": "-7Dy4kDgIdQJ"
      },
      "outputs": [],
      "source": [
        "# ↑\n",
        "# Точность модели (Accuracy): Модель правильно предсказывает 82.47% случаев.\n",
        "\n",
        "# Precision (Точность):\n",
        "#   Для класса 0: 82% из всех предсказанных 0 верны.\n",
        "#   Для класса 1: 82% из всех предсказанных 1 верны.\n",
        "\n",
        "# Recall (Полнота):\n",
        "#   Для класса 0: 83% из всех реальных 0 модель правильно определяет.\n",
        "#   Для класса 1: 82% из всех реальных 1 модель правильно определяет.\n",
        "\n",
        "# F1-score: Это среднее между точностью и полнотой. Оба класса имеют F1-score 0.82.\n",
        "# TP (Истинные положительные): Модель правильно определила 10323 примера класса 1.\n",
        "# TN (Истинные отрицательные): Модель правильно определила 10255 примера класса 0.\n",
        "# FP (Ложные положительные): Модель ошибочно определила 2177 примеров класса 0 как класс 1.\n",
        "# FN (Ложные отрицательные): Модель ошибочно определила 2245 примеров класса 1 как класс 0.\n",
        "\n",
        "# Модель работает хорошо, но есть возможность улучшить её, уменьшив количество ложных отрицательных и ложных положительных."
      ]
    },
    {
      "cell_type": "markdown",
      "metadata": {
        "id": "O5PIE6Da4Tm-"
      },
      "source": [
        "**Simple Recurrent Neural Networks (SRNNs)**"
      ]
    },
    {
      "cell_type": "code",
      "execution_count": 58,
      "metadata": {
        "colab": {
          "base_uri": "https://localhost:8080/",
          "height": 331
        },
        "id": "Cs-sL8QN4QIG",
        "outputId": "70ff188b-453c-471d-af19-5165d443e09c"
      },
      "outputs": [
        {
          "output_type": "display_data",
          "data": {
            "text/plain": [
              "\u001b[1mModel: \"sequential_4\"\u001b[0m\n"
            ],
            "text/html": [
              "<pre style=\"white-space:pre;overflow-x:auto;line-height:normal;font-family:Menlo,'DejaVu Sans Mono',consolas,'Courier New',monospace\"><span style=\"font-weight: bold\">Model: \"sequential_4\"</span>\n",
              "</pre>\n"
            ]
          },
          "metadata": {}
        },
        {
          "output_type": "display_data",
          "data": {
            "text/plain": [
              "┏━━━━━━━━━━━━━━━━━━━━━━━━━━━━━━━━━━━━━━┳━━━━━━━━━━━━━━━━━━━━━━━━━━━━━┳━━━━━━━━━━━━━━━━━┓\n",
              "┃\u001b[1m \u001b[0m\u001b[1mLayer (type)                        \u001b[0m\u001b[1m \u001b[0m┃\u001b[1m \u001b[0m\u001b[1mOutput Shape               \u001b[0m\u001b[1m \u001b[0m┃\u001b[1m \u001b[0m\u001b[1m        Param #\u001b[0m\u001b[1m \u001b[0m┃\n",
              "┡━━━━━━━━━━━━━━━━━━━━━━━━━━━━━━━━━━━━━━╇━━━━━━━━━━━━━━━━━━━━━━━━━━━━━╇━━━━━━━━━━━━━━━━━┩\n",
              "│ embedding_4 (\u001b[38;5;33mEmbedding\u001b[0m)              │ (\u001b[38;5;34m1\u001b[0m, \u001b[38;5;34m120\u001b[0m, \u001b[38;5;34m32\u001b[0m)                │         \u001b[38;5;34m640,000\u001b[0m │\n",
              "├──────────────────────────────────────┼─────────────────────────────┼─────────────────┤\n",
              "│ dropout (\u001b[38;5;33mDropout\u001b[0m)                    │ (\u001b[38;5;34m1\u001b[0m, \u001b[38;5;34m120\u001b[0m, \u001b[38;5;34m32\u001b[0m)                │               \u001b[38;5;34m0\u001b[0m │\n",
              "├──────────────────────────────────────┼─────────────────────────────┼─────────────────┤\n",
              "│ simple_rnn (\u001b[38;5;33mSimpleRNN\u001b[0m)               │ (\u001b[38;5;34m1\u001b[0m, \u001b[38;5;34m32\u001b[0m)                     │           \u001b[38;5;34m2,080\u001b[0m │\n",
              "├──────────────────────────────────────┼─────────────────────────────┼─────────────────┤\n",
              "│ dense_6 (\u001b[38;5;33mDense\u001b[0m)                      │ (\u001b[38;5;34m1\u001b[0m, \u001b[38;5;34m256\u001b[0m)                    │           \u001b[38;5;34m8,448\u001b[0m │\n",
              "├──────────────────────────────────────┼─────────────────────────────┼─────────────────┤\n",
              "│ dropout_1 (\u001b[38;5;33mDropout\u001b[0m)                  │ (\u001b[38;5;34m1\u001b[0m, \u001b[38;5;34m256\u001b[0m)                    │               \u001b[38;5;34m0\u001b[0m │\n",
              "├──────────────────────────────────────┼─────────────────────────────┼─────────────────┤\n",
              "│ dense_7 (\u001b[38;5;33mDense\u001b[0m)                      │ (\u001b[38;5;34m1\u001b[0m, \u001b[38;5;34m1\u001b[0m)                      │             \u001b[38;5;34m257\u001b[0m │\n",
              "└──────────────────────────────────────┴─────────────────────────────┴─────────────────┘\n"
            ],
            "text/html": [
              "<pre style=\"white-space:pre;overflow-x:auto;line-height:normal;font-family:Menlo,'DejaVu Sans Mono',consolas,'Courier New',monospace\">┏━━━━━━━━━━━━━━━━━━━━━━━━━━━━━━━━━━━━━━┳━━━━━━━━━━━━━━━━━━━━━━━━━━━━━┳━━━━━━━━━━━━━━━━━┓\n",
              "┃<span style=\"font-weight: bold\"> Layer (type)                         </span>┃<span style=\"font-weight: bold\"> Output Shape                </span>┃<span style=\"font-weight: bold\">         Param # </span>┃\n",
              "┡━━━━━━━━━━━━━━━━━━━━━━━━━━━━━━━━━━━━━━╇━━━━━━━━━━━━━━━━━━━━━━━━━━━━━╇━━━━━━━━━━━━━━━━━┩\n",
              "│ embedding_4 (<span style=\"color: #0087ff; text-decoration-color: #0087ff\">Embedding</span>)              │ (<span style=\"color: #00af00; text-decoration-color: #00af00\">1</span>, <span style=\"color: #00af00; text-decoration-color: #00af00\">120</span>, <span style=\"color: #00af00; text-decoration-color: #00af00\">32</span>)                │         <span style=\"color: #00af00; text-decoration-color: #00af00\">640,000</span> │\n",
              "├──────────────────────────────────────┼─────────────────────────────┼─────────────────┤\n",
              "│ dropout (<span style=\"color: #0087ff; text-decoration-color: #0087ff\">Dropout</span>)                    │ (<span style=\"color: #00af00; text-decoration-color: #00af00\">1</span>, <span style=\"color: #00af00; text-decoration-color: #00af00\">120</span>, <span style=\"color: #00af00; text-decoration-color: #00af00\">32</span>)                │               <span style=\"color: #00af00; text-decoration-color: #00af00\">0</span> │\n",
              "├──────────────────────────────────────┼─────────────────────────────┼─────────────────┤\n",
              "│ simple_rnn (<span style=\"color: #0087ff; text-decoration-color: #0087ff\">SimpleRNN</span>)               │ (<span style=\"color: #00af00; text-decoration-color: #00af00\">1</span>, <span style=\"color: #00af00; text-decoration-color: #00af00\">32</span>)                     │           <span style=\"color: #00af00; text-decoration-color: #00af00\">2,080</span> │\n",
              "├──────────────────────────────────────┼─────────────────────────────┼─────────────────┤\n",
              "│ dense_6 (<span style=\"color: #0087ff; text-decoration-color: #0087ff\">Dense</span>)                      │ (<span style=\"color: #00af00; text-decoration-color: #00af00\">1</span>, <span style=\"color: #00af00; text-decoration-color: #00af00\">256</span>)                    │           <span style=\"color: #00af00; text-decoration-color: #00af00\">8,448</span> │\n",
              "├──────────────────────────────────────┼─────────────────────────────┼─────────────────┤\n",
              "│ dropout_1 (<span style=\"color: #0087ff; text-decoration-color: #0087ff\">Dropout</span>)                  │ (<span style=\"color: #00af00; text-decoration-color: #00af00\">1</span>, <span style=\"color: #00af00; text-decoration-color: #00af00\">256</span>)                    │               <span style=\"color: #00af00; text-decoration-color: #00af00\">0</span> │\n",
              "├──────────────────────────────────────┼─────────────────────────────┼─────────────────┤\n",
              "│ dense_7 (<span style=\"color: #0087ff; text-decoration-color: #0087ff\">Dense</span>)                      │ (<span style=\"color: #00af00; text-decoration-color: #00af00\">1</span>, <span style=\"color: #00af00; text-decoration-color: #00af00\">1</span>)                      │             <span style=\"color: #00af00; text-decoration-color: #00af00\">257</span> │\n",
              "└──────────────────────────────────────┴─────────────────────────────┴─────────────────┘\n",
              "</pre>\n"
            ]
          },
          "metadata": {}
        },
        {
          "output_type": "display_data",
          "data": {
            "text/plain": [
              "\u001b[1m Total params: \u001b[0m\u001b[38;5;34m650,785\u001b[0m (2.48 MB)\n"
            ],
            "text/html": [
              "<pre style=\"white-space:pre;overflow-x:auto;line-height:normal;font-family:Menlo,'DejaVu Sans Mono',consolas,'Courier New',monospace\"><span style=\"font-weight: bold\"> Total params: </span><span style=\"color: #00af00; text-decoration-color: #00af00\">650,785</span> (2.48 MB)\n",
              "</pre>\n"
            ]
          },
          "metadata": {}
        },
        {
          "output_type": "display_data",
          "data": {
            "text/plain": [
              "\u001b[1m Trainable params: \u001b[0m\u001b[38;5;34m650,785\u001b[0m (2.48 MB)\n"
            ],
            "text/html": [
              "<pre style=\"white-space:pre;overflow-x:auto;line-height:normal;font-family:Menlo,'DejaVu Sans Mono',consolas,'Courier New',monospace\"><span style=\"font-weight: bold\"> Trainable params: </span><span style=\"color: #00af00; text-decoration-color: #00af00\">650,785</span> (2.48 MB)\n",
              "</pre>\n"
            ]
          },
          "metadata": {}
        },
        {
          "output_type": "display_data",
          "data": {
            "text/plain": [
              "\u001b[1m Non-trainable params: \u001b[0m\u001b[38;5;34m0\u001b[0m (0.00 B)\n"
            ],
            "text/html": [
              "<pre style=\"white-space:pre;overflow-x:auto;line-height:normal;font-family:Menlo,'DejaVu Sans Mono',consolas,'Courier New',monospace\"><span style=\"font-weight: bold\"> Non-trainable params: </span><span style=\"color: #00af00; text-decoration-color: #00af00\">0</span> (0.00 B)\n",
              "</pre>\n"
            ]
          },
          "metadata": {}
        }
      ],
      "source": [
        "# Определяем параметры модели\n",
        "max_features = 20000  # Максимальное количество слов в словаре\n",
        "maxlen = 120          # Максимальная длина входных последовательностей\n",
        "embedding_vector_length = 32  # Размерность векторных представлений слов\n",
        "\n",
        "# Определение модели\n",
        "model_srnn = tf.keras.Sequential([  # Создаем модель с помощью Sequential\n",
        "    tf.keras.layers.Embedding(input_dim=max_features, output_dim=embedding_vector_length),  # Слой для векторного представления слов\n",
        "    tf.keras.layers.Dropout(0.25),  # Слой Dropout для уменьшения переобучения\n",
        "    tf.keras.layers.SimpleRNN(32),  # Рекуррентный слой SimpleRNN с 32 единицами\n",
        "    tf.keras.layers.Dense(units=256, activation='relu'),  # Полносвязный слой с 256 нейронами и функцией активации ReLU\n",
        "    tf.keras.layers.Dropout(0.25),  # Еще один слой Dropout\n",
        "    tf.keras.layers.Dense(units=1, activation='sigmoid')  # Полносвязный выходной слой с одной единицей и сигмоидной активацией\n",
        "])\n",
        "\n",
        "# Устанавливаем параметры для обучения модели\n",
        "model_srnn.compile(loss='binary_crossentropy',optimizer='adam',metrics=['accuracy'])  # Функция потерь и оптимизатор для бинарной классификации\n",
        "\n",
        "# Примерные входные данные для создания модели\n",
        "input_example = np.random.randint(0, vocab_size, (1, max_length))  # Создаем пример входных данных\n",
        "\n",
        "# Построение модели на основе этих данных\n",
        "model_srnn(input_example)  # Прогоняем примерные данные через модель\n",
        "\n",
        "# Печатаем сводку модели\n",
        "model_srnn.summary()  # Выводим информацию о слоях и параметрах модели\n",
        "\n",
        "# Модель: Это рекуррентная нейронная сеть (RNN) с дополнительными полносвязными слоями. Она принимает последовательности длиной 120 слов и обрабатывает их с помощью SimpleRNN."
      ]
    },
    {
      "cell_type": "code",
      "execution_count": 59,
      "metadata": {
        "id": "5YKV5kJ_Jaq5"
      },
      "outputs": [],
      "source": [
        "# ↑\n",
        "# Embedding Layer:\n",
        "# Размер выходных данных: (1, 120, 32)\n",
        "# Параметров: 640,000\n",
        "# Этот слой преобразует слова в векторы длиной 32.\n",
        "\n",
        "# Dropout Layers:\n",
        "# Эти слои не добавляют параметров.\n",
        "# Используются для предотвращения переобучения.\n",
        "\n",
        "# SimpleRNN Layer:\n",
        "# Размер выходных данных: (1, 32)\n",
        "# Параметров: 2,080\n",
        "# Этот слой обрабатывает последовательности и запоминает информацию.\n",
        "\n",
        "# Dense Layers:\n",
        "# Первый полносвязный слой:\n",
        "# Размер выходных данных: (1, 256)\n",
        "# Параметров: 8,448\n",
        "# Второй полносвязный слой (выходной слой):\n",
        "# Размер выходных данных: (1, 1)\n",
        "# Параметров: 257\n",
        "\n",
        "# Итог:\n",
        "# Всего параметров: 650,785\n",
        "# Обучаемые параметры: 650,785\n",
        "# Модель обрабатывает текст, создавая векторные представления слов, затем использует RNN для анализа последовательностей\n",
        "# и делает финальное предсказание с помощью полносвязных слоев. Модель предназначена для обработки текста и бинарной классификации."
      ]
    },
    {
      "cell_type": "code",
      "execution_count": 60,
      "metadata": {
        "colab": {
          "base_uri": "https://localhost:8080/"
        },
        "id": "TKZ_MLoZ4QKw",
        "outputId": "0b67fe3b-2a8a-4857-d417-b0a332626c3a"
      },
      "outputs": [
        {
          "output_type": "stream",
          "name": "stdout",
          "text": [
            "Epoch 1/5\n",
            "\u001b[1m196/196\u001b[0m \u001b[32m━━━━━━━━━━━━━━━━━━━━\u001b[0m\u001b[37m\u001b[0m \u001b[1m14s\u001b[0m 58ms/step - accuracy: 0.5217 - loss: 0.6885 - val_accuracy: 0.7700 - val_loss: 0.5045 - learning_rate: 0.0010\n",
            "Epoch 2/5\n",
            "\u001b[1m196/196\u001b[0m \u001b[32m━━━━━━━━━━━━━━━━━━━━\u001b[0m\u001b[37m\u001b[0m \u001b[1m11s\u001b[0m 59ms/step - accuracy: 0.8118 - loss: 0.4322 - val_accuracy: 0.7782 - val_loss: 0.4683 - learning_rate: 0.0010\n",
            "Epoch 3/5\n",
            "\u001b[1m196/196\u001b[0m \u001b[32m━━━━━━━━━━━━━━━━━━━━\u001b[0m\u001b[37m\u001b[0m \u001b[1m11s\u001b[0m 57ms/step - accuracy: 0.8892 - loss: 0.2857 - val_accuracy: 0.8140 - val_loss: 0.4622 - learning_rate: 0.0010\n",
            "Epoch 4/5\n",
            "\u001b[1m196/196\u001b[0m \u001b[32m━━━━━━━━━━━━━━━━━━━━\u001b[0m\u001b[37m\u001b[0m \u001b[1m20s\u001b[0m 54ms/step - accuracy: 0.9303 - loss: 0.1867 - val_accuracy: 0.7838 - val_loss: 0.5651 - learning_rate: 0.0010\n",
            "Epoch 5/5\n",
            "\u001b[1m196/196\u001b[0m \u001b[32m━━━━━━━━━━━━━━━━━━━━\u001b[0m\u001b[37m\u001b[0m \u001b[1m22s\u001b[0m 61ms/step - accuracy: 0.9549 - loss: 0.1160 - val_accuracy: 0.8068 - val_loss: 0.6933 - learning_rate: 0.0010\n"
          ]
        }
      ],
      "source": [
        "# Этот код запускает процесс обучения модели\n",
        "history_srnn = model_srnn.fit(padded,\n",
        "                              training_labels_final,\n",
        "                              batch_size=BATCH_SIZE,\n",
        "                              epochs=NUM_EPOCHS,\n",
        "                              validation_data=(testing_padded, testing_labels_final),\n",
        "                              callbacks=[reduce_lr, epoch_callback])"
      ]
    },
    {
      "cell_type": "code",
      "execution_count": 61,
      "metadata": {
        "id": "axLQo3QSKJnn"
      },
      "outputs": [],
      "source": [
        "# ↑\n",
        "# Точность (accuracy) растет с каждым эпохой, начиная с 52.17% и достигая 95.49%.\n",
        "# Потери (loss) уменьшаются с каждой эпохой, что хорошо, так как это значит, что модель становится лучше.\n",
        "\n",
        "# Точность на валидационных данных немного колеблется, начиная с 77.0% и достигая 80.68%.\n",
        "# Потери на валидационных данных тоже колеблются, начиная с 0.5045 и достигая 0.6933.\n",
        "\n",
        "# Модель обучается лучше с каждой эпохой, но валидационные показатели колеблются, что может означать, что модель переобучается или что данные слишком сложные.\n",
        "# Снижение скорости обучения в последних эпохах может помочь улучшить модель, но результаты на валидационных данных не улучшаются заметно.\n",
        "\n",
        "# Это значит, что хотя модель улучшает свои результаты на обучающих данных, её производительность на новых данных остаётся стабильной."
      ]
    },
    {
      "cell_type": "code",
      "execution_count": 62,
      "metadata": {
        "colab": {
          "base_uri": "https://localhost:8080/",
          "height": 605
        },
        "id": "JEcOZj294ZbY",
        "outputId": "842c4c0b-ad6a-4e34-e246-00366aee01ff"
      },
      "outputs": [
        {
          "output_type": "display_data",
          "data": {
            "text/plain": [
              "<Figure size 500x300 with 1 Axes>"
            ],
            "image/png": "[encoded data removed]"
          },
          "metadata": {}
        },
        {
          "output_type": "display_data",
          "data": {
            "text/plain": [
              "<Figure size 500x300 with 1 Axes>"
            ],
            "image/png": "[encoded data removed]"
          },
          "metadata": {}
        }
      ],
      "source": [
        "plot_graphs(history_srnn, \"accuracy\")\n",
        "plot_graphs(history_srnn, \"loss\")\n",
        "\n",
        "# График точности покажет, насколько хорошо модель обучалась. Если линия растёт, это значит, что модель становилась лучше.\n",
        "# График потерь покажет, насколько хорошо модель уменьшают свои ошибки. Если линия падает, это значит, что модель делает меньше ошибок.\n",
        "# Эти графики помогают понять, как модель обучалась и какие результаты были достигнуты."
      ]
    },
    {
      "cell_type": "code",
      "execution_count": 63,
      "metadata": {
        "colab": {
          "base_uri": "https://localhost:8080/",
          "height": 876
        },
        "id": "VrytUAbz4Zd5",
        "outputId": "1a7b7ef5-8697-4966-f5c2-649f2f6dda0d"
      },
      "outputs": [
        {
          "output_type": "stream",
          "name": "stdout",
          "text": [
            "\u001b[1m782/782\u001b[0m \u001b[32m━━━━━━━━━━━━━━━━━━━━\u001b[0m\u001b[37m\u001b[0m \u001b[1m7s\u001b[0m 8ms/step\n",
            "\u001b[1m782/782\u001b[0m \u001b[32m━━━━━━━━━━━━━━━━━━━━\u001b[0m\u001b[37m\u001b[0m \u001b[1m5s\u001b[0m 7ms/step - accuracy: 0.8089 - loss: 0.6847\n",
            "Predicted: 1, Label: 1\n",
            "Predicted: 1, Label: 1\n",
            "Predicted: 0, Label: 0\n",
            "Predicted: 0, Label: 0\n",
            "Predicted: 1, Label: 1\n",
            "Predicted: 1, Label: 1\n",
            "Predicted: 1, Label: 1\n",
            "Predicted: 1, Label: 1\n",
            "Predicted: 0, Label: 0\n",
            "Predicted: 0, Label: 1\n",
            "              precision    recall  f1-score   support\n",
            "\n",
            "           0       0.79      0.83      0.81     12500\n",
            "           1       0.82      0.78      0.80     12500\n",
            "\n",
            "    accuracy                           0.81     25000\n",
            "   macro avg       0.81      0.81      0.81     25000\n",
            "weighted avg       0.81      0.81      0.81     25000\n",
            "\n"
          ]
        },
        {
          "output_type": "display_data",
          "data": {
            "text/plain": [
              "<Figure size 400x400 with 2 Axes>"
            ],
            "image/png": "[encoded data removed]"
          },
          "metadata": {}
        },
        {
          "output_type": "stream",
          "name": "stdout",
          "text": [
            "TP: 10404\n",
            "TN: 9765\n",
            "FP: 2096\n",
            "FN: 2735\n"
          ]
        }
      ],
      "source": [
        "report(model_srnn)"
      ]
    },
    {
      "cell_type": "code",
      "execution_count": 64,
      "metadata": {
        "id": "Dra3YG4LKlb-"
      },
      "outputs": [],
      "source": [
        "# ↑\n",
        "# Точность (accuracy) модели составляет 80.89%. Это означает, что модель правильно предсказывает 80.89% всех случаев.\n",
        "\n",
        "# Потери (loss) модели равны 0.6847. Чем ниже это число, тем лучше, но здесь оно не идеальное.\n",
        "\n",
        "# Precision (точность):\n",
        "#   Для класса 0: 79% (из всех предсказанных 0, 81% действительно 0).\n",
        "#   Для класса 1: 82% (из всех предсказанных 1, 82% действительно 1).\n",
        "\n",
        "# Recall (полнота):\n",
        "#   Для класса 0: 83% (из всех настоящих 0, модель правильно предсказала 83%).\n",
        "#   Для класса 1: 78% (из всех настоящих 1, модель правильно предсказала 78%).\n",
        "\n",
        "# F1-Score:\n",
        "#   Для обоих классов около 0.81, что показывает, что модель хорошо сбалансирована между точностью и полнотой.\n",
        "\n",
        "# TP (True Positives): 10,404 (Правильно предсказанные 1).\n",
        "# TN (True Negatives): 9,765 (Правильно предсказанные 0).\n",
        "# FP (False Positives): 2,096 (Ошибочно предсказанные 1 вместо 0).\n",
        "# FN (False Negatives): 2,735 (Ошибочно предсказанные 0 вместо 1).\n",
        "\n",
        "# Модель работает довольно хорошо, но можно улучшить её, снизив количество ошибочных предсказаний (FP и FN)."
      ]
    },
    {
      "cell_type": "markdown",
      "metadata": {
        "id": "OP4Wo8EQ4eDT"
      },
      "source": [
        "**BRNN(Bidirectional Recurrent Neural Network)**"
      ]
    },
    {
      "cell_type": "code",
      "execution_count": 65,
      "metadata": {
        "colab": {
          "base_uri": "https://localhost:8080/",
          "height": 331
        },
        "id": "hOGfnc9k4Zgo",
        "outputId": "65f0bb0b-213c-456b-f308-6757ff8f160d"
      },
      "outputs": [
        {
          "output_type": "display_data",
          "data": {
            "text/plain": [
              "\u001b[1mModel: \"sequential_5\"\u001b[0m\n"
            ],
            "text/html": [
              "<pre style=\"white-space:pre;overflow-x:auto;line-height:normal;font-family:Menlo,'DejaVu Sans Mono',consolas,'Courier New',monospace\"><span style=\"font-weight: bold\">Model: \"sequential_5\"</span>\n",
              "</pre>\n"
            ]
          },
          "metadata": {}
        },
        {
          "output_type": "display_data",
          "data": {
            "text/plain": [
              "┏━━━━━━━━━━━━━━━━━━━━━━━━━━━━━━━━━━━━━━┳━━━━━━━━━━━━━━━━━━━━━━━━━━━━━┳━━━━━━━━━━━━━━━━━┓\n",
              "┃\u001b[1m \u001b[0m\u001b[1mLayer (type)                        \u001b[0m\u001b[1m \u001b[0m┃\u001b[1m \u001b[0m\u001b[1mOutput Shape               \u001b[0m\u001b[1m \u001b[0m┃\u001b[1m \u001b[0m\u001b[1m        Param #\u001b[0m\u001b[1m \u001b[0m┃\n",
              "┡━━━━━━━━━━━━━━━━━━━━━━━━━━━━━━━━━━━━━━╇━━━━━━━━━━━━━━━━━━━━━━━━━━━━━╇━━━━━━━━━━━━━━━━━┩\n",
              "│ embedding_5 (\u001b[38;5;33mEmbedding\u001b[0m)              │ (\u001b[38;5;34m1\u001b[0m, \u001b[38;5;34m120\u001b[0m, \u001b[38;5;34m16\u001b[0m)                │         \u001b[38;5;34m160,000\u001b[0m │\n",
              "├──────────────────────────────────────┼─────────────────────────────┼─────────────────┤\n",
              "│ dropout_2 (\u001b[38;5;33mDropout\u001b[0m)                  │ (\u001b[38;5;34m1\u001b[0m, \u001b[38;5;34m120\u001b[0m, \u001b[38;5;34m16\u001b[0m)                │               \u001b[38;5;34m0\u001b[0m │\n",
              "├──────────────────────────────────────┼─────────────────────────────┼─────────────────┤\n",
              "│ bidirectional_1 (\u001b[38;5;33mBidirectional\u001b[0m)      │ (\u001b[38;5;34m1\u001b[0m, \u001b[38;5;34m64\u001b[0m)                     │          \u001b[38;5;34m12,544\u001b[0m │\n",
              "├──────────────────────────────────────┼─────────────────────────────┼─────────────────┤\n",
              "│ dense_8 (\u001b[38;5;33mDense\u001b[0m)                      │ (\u001b[38;5;34m1\u001b[0m, \u001b[38;5;34m256\u001b[0m)                    │          \u001b[38;5;34m16,640\u001b[0m │\n",
              "├──────────────────────────────────────┼─────────────────────────────┼─────────────────┤\n",
              "│ dropout_3 (\u001b[38;5;33mDropout\u001b[0m)                  │ (\u001b[38;5;34m1\u001b[0m, \u001b[38;5;34m256\u001b[0m)                    │               \u001b[38;5;34m0\u001b[0m │\n",
              "├──────────────────────────────────────┼─────────────────────────────┼─────────────────┤\n",
              "│ dense_9 (\u001b[38;5;33mDense\u001b[0m)                      │ (\u001b[38;5;34m1\u001b[0m, \u001b[38;5;34m1\u001b[0m)                      │             \u001b[38;5;34m257\u001b[0m │\n",
              "└──────────────────────────────────────┴─────────────────────────────┴─────────────────┘\n"
            ],
            "text/html": [
              "<pre style=\"white-space:pre;overflow-x:auto;line-height:normal;font-family:Menlo,'DejaVu Sans Mono',consolas,'Courier New',monospace\">┏━━━━━━━━━━━━━━━━━━━━━━━━━━━━━━━━━━━━━━┳━━━━━━━━━━━━━━━━━━━━━━━━━━━━━┳━━━━━━━━━━━━━━━━━┓\n",
              "┃<span style=\"font-weight: bold\"> Layer (type)                         </span>┃<span style=\"font-weight: bold\"> Output Shape                </span>┃<span style=\"font-weight: bold\">         Param # </span>┃\n",
              "┡━━━━━━━━━━━━━━━━━━━━━━━━━━━━━━━━━━━━━━╇━━━━━━━━━━━━━━━━━━━━━━━━━━━━━╇━━━━━━━━━━━━━━━━━┩\n",
              "│ embedding_5 (<span style=\"color: #0087ff; text-decoration-color: #0087ff\">Embedding</span>)              │ (<span style=\"color: #00af00; text-decoration-color: #00af00\">1</span>, <span style=\"color: #00af00; text-decoration-color: #00af00\">120</span>, <span style=\"color: #00af00; text-decoration-color: #00af00\">16</span>)                │         <span style=\"color: #00af00; text-decoration-color: #00af00\">160,000</span> │\n",
              "├──────────────────────────────────────┼─────────────────────────────┼─────────────────┤\n",
              "│ dropout_2 (<span style=\"color: #0087ff; text-decoration-color: #0087ff\">Dropout</span>)                  │ (<span style=\"color: #00af00; text-decoration-color: #00af00\">1</span>, <span style=\"color: #00af00; text-decoration-color: #00af00\">120</span>, <span style=\"color: #00af00; text-decoration-color: #00af00\">16</span>)                │               <span style=\"color: #00af00; text-decoration-color: #00af00\">0</span> │\n",
              "├──────────────────────────────────────┼─────────────────────────────┼─────────────────┤\n",
              "│ bidirectional_1 (<span style=\"color: #0087ff; text-decoration-color: #0087ff\">Bidirectional</span>)      │ (<span style=\"color: #00af00; text-decoration-color: #00af00\">1</span>, <span style=\"color: #00af00; text-decoration-color: #00af00\">64</span>)                     │          <span style=\"color: #00af00; text-decoration-color: #00af00\">12,544</span> │\n",
              "├──────────────────────────────────────┼─────────────────────────────┼─────────────────┤\n",
              "│ dense_8 (<span style=\"color: #0087ff; text-decoration-color: #0087ff\">Dense</span>)                      │ (<span style=\"color: #00af00; text-decoration-color: #00af00\">1</span>, <span style=\"color: #00af00; text-decoration-color: #00af00\">256</span>)                    │          <span style=\"color: #00af00; text-decoration-color: #00af00\">16,640</span> │\n",
              "├──────────────────────────────────────┼─────────────────────────────┼─────────────────┤\n",
              "│ dropout_3 (<span style=\"color: #0087ff; text-decoration-color: #0087ff\">Dropout</span>)                  │ (<span style=\"color: #00af00; text-decoration-color: #00af00\">1</span>, <span style=\"color: #00af00; text-decoration-color: #00af00\">256</span>)                    │               <span style=\"color: #00af00; text-decoration-color: #00af00\">0</span> │\n",
              "├──────────────────────────────────────┼─────────────────────────────┼─────────────────┤\n",
              "│ dense_9 (<span style=\"color: #0087ff; text-decoration-color: #0087ff\">Dense</span>)                      │ (<span style=\"color: #00af00; text-decoration-color: #00af00\">1</span>, <span style=\"color: #00af00; text-decoration-color: #00af00\">1</span>)                      │             <span style=\"color: #00af00; text-decoration-color: #00af00\">257</span> │\n",
              "└──────────────────────────────────────┴─────────────────────────────┴─────────────────┘\n",
              "</pre>\n"
            ]
          },
          "metadata": {}
        },
        {
          "output_type": "display_data",
          "data": {
            "text/plain": [
              "\u001b[1m Total params: \u001b[0m\u001b[38;5;34m189,441\u001b[0m (740.00 KB)\n"
            ],
            "text/html": [
              "<pre style=\"white-space:pre;overflow-x:auto;line-height:normal;font-family:Menlo,'DejaVu Sans Mono',consolas,'Courier New',monospace\"><span style=\"font-weight: bold\"> Total params: </span><span style=\"color: #00af00; text-decoration-color: #00af00\">189,441</span> (740.00 KB)\n",
              "</pre>\n"
            ]
          },
          "metadata": {}
        },
        {
          "output_type": "display_data",
          "data": {
            "text/plain": [
              "\u001b[1m Trainable params: \u001b[0m\u001b[38;5;34m189,441\u001b[0m (740.00 KB)\n"
            ],
            "text/html": [
              "<pre style=\"white-space:pre;overflow-x:auto;line-height:normal;font-family:Menlo,'DejaVu Sans Mono',consolas,'Courier New',monospace\"><span style=\"font-weight: bold\"> Trainable params: </span><span style=\"color: #00af00; text-decoration-color: #00af00\">189,441</span> (740.00 KB)\n",
              "</pre>\n"
            ]
          },
          "metadata": {}
        },
        {
          "output_type": "display_data",
          "data": {
            "text/plain": [
              "\u001b[1m Non-trainable params: \u001b[0m\u001b[38;5;34m0\u001b[0m (0.00 B)\n"
            ],
            "text/html": [
              "<pre style=\"white-space:pre;overflow-x:auto;line-height:normal;font-family:Menlo,'DejaVu Sans Mono',consolas,'Courier New',monospace\"><span style=\"font-weight: bold\"> Non-trainable params: </span><span style=\"color: #00af00; text-decoration-color: #00af00\">0</span> (0.00 B)\n",
              "</pre>\n"
            ]
          },
          "metadata": {}
        }
      ],
      "source": [
        "# Задаём параметры для модели\n",
        "max_features = 20000  # Максимальное количество уникальных слов\n",
        "maxlen = 120  # Максимальная длина входной последовательности\n",
        "embedding_vector_length = 32  # Размерность векторов для слов\n",
        "\n",
        "# Определяем модель\n",
        "model_brnn = tf.keras.Sequential([\n",
        "    # Входной слой: преобразует слова в векторы размером 32\n",
        "    tf.keras.layers.Embedding(vocab_size, embedding_dim),\n",
        "    # Слой Dropout: случайно обнуляет 20% входных данных, чтобы избежать переобучения\n",
        "    tf.keras.layers.Dropout(0.2),\n",
        "    # Двунаправленный LSTM: извлекает информацию из последовательности в обоих направлениях\n",
        "    tf.keras.layers.Bidirectional(tf.keras.layers.LSTM(32)),\n",
        "    # Полносвязный слой: 256 нейронов с ReLU активацией\n",
        "    tf.keras.layers.Dense(units=256, activation='relu'),\n",
        "    # Ещё один слой Dropout для предотвращения переобучения\n",
        "    tf.keras.layers.Dropout(0.2),\n",
        "    # Выходной слой: 1 нейрон с сигмоидной активацией для бинарной классификации\n",
        "    tf.keras.layers.Dense(units=1, activation='sigmoid')\n",
        "])\n",
        "\n",
        "# Компилируем модель с функцией потерь и оптимизатором\n",
        "model_brnn.compile(loss='binary_crossentropy', optimizer='adam', metrics=['accuracy'])\n",
        "\n",
        "# Создаём примерные входные данные для проверки модели\n",
        "input_example = np.random.randint(0, vocab_size, (1, max_length))\n",
        "\n",
        "# Построение модели на основе этих данных\n",
        "model_brnn(input_example)\n",
        "\n",
        "# Печатаем сводку модели, чтобы увидеть её структуру и параметры\n",
        "model_brnn.summary()\n",
        "\n",
        "# Модель: Использует LSTM в обе стороны для обработки текста, что позволяет лучше понимать контекст.\n",
        "# Dropout: Помогает избежать переобучения, обнуляя случайные входные данные.\n",
        "# Dense слои: Преобразуют данные в разные размеры и активации.\n",
        "# Выходной слой: Используется для предсказания класса (0 или 1).\n",
        "# Вывод: Модель может хорошо работать с текстовыми данными и должна показывать хорошие результаты в задаче бинарной классификации."
      ]
    },
    {
      "cell_type": "code",
      "execution_count": 66,
      "metadata": {
        "id": "uGWFvdYELQm5"
      },
      "outputs": [],
      "source": [
        "# ↑\n",
        "# Embedding: Преобразует слова в векторы размером 16. У него 160,000 параметров.\n",
        "# Dropout: Случайно обнуляет 20% данных в слоях, чтобы модель не переобучалась.\n",
        "# Bidirectional LSTM: Работает с текстом в обоих направлениях и имеет 12,544 параметров.\n",
        "# Dense слои:\n",
        "# Первый Dense слой: 256 нейронов с активацией ReLU.\n",
        "# Второй Dense слой: 1 нейрон для бинарной классификации.\n",
        "# Вывод: Модель имеет 189,441 параметров и должна хорошо справляться с задачей бинарной классификации текста.\n"
      ]
    },
    {
      "cell_type": "code",
      "execution_count": 67,
      "metadata": {
        "colab": {
          "base_uri": "https://localhost:8080/"
        },
        "id": "6Isti_0d4QNE",
        "outputId": "439ca2a7-914d-4fa0-df85-6b17025eb575"
      },
      "outputs": [
        {
          "output_type": "stream",
          "name": "stdout",
          "text": [
            "Epoch 1/5\n",
            "\u001b[1m196/196\u001b[0m \u001b[32m━━━━━━━━━━━━━━━━━━━━\u001b[0m\u001b[37m\u001b[0m \u001b[1m34s\u001b[0m 153ms/step - accuracy: 0.6163 - loss: 0.6134 - val_accuracy: 0.8132 - val_loss: 0.4131\n",
            "Epoch 2/5\n",
            "\u001b[1m196/196\u001b[0m \u001b[32m━━━━━━━━━━━━━━━━━━━━\u001b[0m\u001b[37m\u001b[0m \u001b[1m30s\u001b[0m 151ms/step - accuracy: 0.8720 - loss: 0.3106 - val_accuracy: 0.8306 - val_loss: 0.3994\n",
            "Epoch 3/5\n",
            "\u001b[1m196/196\u001b[0m \u001b[32m━━━━━━━━━━━━━━━━━━━━\u001b[0m\u001b[37m\u001b[0m \u001b[1m48s\u001b[0m 186ms/step - accuracy: 0.9023 - loss: 0.2509 - val_accuracy: 0.8195 - val_loss: 0.4193\n",
            "Epoch 4/5\n",
            "\u001b[1m196/196\u001b[0m \u001b[32m━━━━━━━━━━━━━━━━━━━━\u001b[0m\u001b[37m\u001b[0m \u001b[1m34s\u001b[0m 153ms/step - accuracy: 0.9200 - loss: 0.2103 - val_accuracy: 0.8170 - val_loss: 0.4274\n",
            "Epoch 5/5\n",
            "\u001b[1m196/196\u001b[0m \u001b[32m━━━━━━━━━━━━━━━━━━━━\u001b[0m\u001b[37m\u001b[0m \u001b[1m31s\u001b[0m 159ms/step - accuracy: 0.9365 - loss: 0.1759 - val_accuracy: 0.8132 - val_loss: 0.4717\n"
          ]
        }
      ],
      "source": [
        "# Этот код запускает процесс обучения модели\n",
        "history_brnn = model_brnn.fit(padded,\n",
        "                              training_labels_final,\n",
        "                              batch_size=BATCH_SIZE,\n",
        "                              epochs=NUM_EPOCHS,\n",
        "                              validation_data=(testing_padded, testing_labels_final))"
      ]
    },
    {
      "cell_type": "code",
      "execution_count": 68,
      "metadata": {
        "id": "0KVSrkpJLfsB"
      },
      "outputs": [],
      "source": [
        "# ↑\n",
        "# Точность (accuracy) модели растет: от 61.63% на первой эпохе до 93.65% на последней.\n",
        "# Потери (loss) уменьшаются: от 0.6134 до 0.1759.\n",
        "\n",
        "# Точность на валидации (val_accuracy) сначала растет, но затем начинает падать: от 83.06% до 81.32%.\n",
        "# Потери на валидации (val_loss) сначала уменьшаются, а затем увеличиваются: от 0.3995 до 0.4717.\n",
        "\n",
        "# Модель становится точнее на тренировочных данных, но может переобучаться, так как точность на валидационных данных начинает снижаться.\n",
        "# Это может означать, что модель слишком сложная или требует доработки, например, регуляризации."
      ]
    },
    {
      "cell_type": "code",
      "execution_count": 69,
      "metadata": {
        "colab": {
          "base_uri": "https://localhost:8080/",
          "height": 605
        },
        "id": "qvWtVWE14hDz",
        "outputId": "1e83f6de-c39e-432a-af39-2222842156cd"
      },
      "outputs": [
        {
          "output_type": "display_data",
          "data": {
            "text/plain": [
              "<Figure size 500x300 with 1 Axes>"
            ],
            "image/png": "[encoded data removed]"
          },
          "metadata": {}
        },
        {
          "output_type": "display_data",
          "data": {
            "text/plain": [
              "<Figure size 500x300 with 1 Axes>"
            ],
            "image/png": "[encoded data removed]"
          },
          "metadata": {}
        }
      ],
      "source": [
        "plot_graphs(history_brnn, \"accuracy\")\n",
        "plot_graphs(history_brnn, \"loss\")\n",
        "\n",
        "# График точности покажет, насколько хорошо модель обучалась. Если линия растёт, это значит, что модель становилась лучше.\n",
        "# График потерь покажет, насколько хорошо модель уменьшают свои ошибки. Если линия падает, это значит, что модель делает меньше ошибок.\n",
        "# Эти графики помогают понять, как модель обучалась и какие результаты были достигнуты."
      ]
    },
    {
      "cell_type": "code",
      "execution_count": 70,
      "metadata": {
        "colab": {
          "base_uri": "https://localhost:8080/",
          "height": 876
        },
        "id": "rSaWXe7b4hG5",
        "outputId": "4cda7faf-62fc-4a07-c6fb-eb2ae511200a"
      },
      "outputs": [
        {
          "output_type": "stream",
          "name": "stdout",
          "text": [
            "\u001b[1m782/782\u001b[0m \u001b[32m━━━━━━━━━━━━━━━━━━━━\u001b[0m\u001b[37m\u001b[0m \u001b[1m15s\u001b[0m 19ms/step\n",
            "\u001b[1m782/782\u001b[0m \u001b[32m━━━━━━━━━━━━━━━━━━━━\u001b[0m\u001b[37m\u001b[0m \u001b[1m15s\u001b[0m 19ms/step - accuracy: 0.8169 - loss: 0.4695\n",
            "Predicted: 1, Label: 1\n",
            "Predicted: 1, Label: 1\n",
            "Predicted: 0, Label: 0\n",
            "Predicted: 0, Label: 0\n",
            "Predicted: 1, Label: 1\n",
            "Predicted: 1, Label: 1\n",
            "Predicted: 1, Label: 1\n",
            "Predicted: 1, Label: 1\n",
            "Predicted: 1, Label: 0\n",
            "Predicted: 0, Label: 1\n",
            "              precision    recall  f1-score   support\n",
            "\n",
            "           0       0.80      0.83      0.82     12500\n",
            "           1       0.82      0.80      0.81     12500\n",
            "\n",
            "    accuracy                           0.81     25000\n",
            "   macro avg       0.81      0.81      0.81     25000\n",
            "weighted avg       0.81      0.81      0.81     25000\n",
            "\n"
          ]
        },
        {
          "output_type": "display_data",
          "data": {
            "text/plain": [
              "<Figure size 400x400 with 2 Axes>"
            ],
            "image/png": "[encoded data removed]"
          },
          "metadata": {}
        },
        {
          "output_type": "stream",
          "name": "stdout",
          "text": [
            "TP: 10345\n",
            "TN: 9986\n",
            "FP: 2155\n",
            "FN: 2514\n"
          ]
        }
      ],
      "source": [
        "report(model_brnn)"
      ]
    },
    {
      "cell_type": "code",
      "execution_count": 71,
      "metadata": {
        "id": "CtgGFNm8LwGi"
      },
      "outputs": [],
      "source": [
        "# ↑\n",
        "# Точность (accuracy) модели: 81.69%. Это означает, что модель правильно предсказывает класс в 81.69% случаев.\n",
        "# Точность (precision) для класса 0: 80%, а для класса 1: 82%. Модель лучше распознает класс 1, чем класс 0.\n",
        "# Полнота (recall) для класса 0: 83%, а для класса 1: 80%. Модель лучше находит примеры класса 0, чем класса 1.\n",
        "# F1-оценка для класса 0: 82%, а для класса 1: 81%. Это средняя оценка точности и полноты.\n",
        "# Число ошибок:\n",
        "  # FP (ложно положительные): 2155. Модель ошибочно предсказывает класс 1, когда это класс 0.\n",
        "  # FN (ложно отрицательные): 2514. Модель ошибочно предсказывает класс 0, когда это класс 1.\n",
        "# Модель хорошо работает, но лучше распознает класс 0. Она делает больше ошибок на классе 1"
      ]
    },
    {
      "cell_type": "markdown",
      "metadata": {
        "id": "49Mm1Jwx4nzK"
      },
      "source": [
        "**Deep BRNN**"
      ]
    },
    {
      "cell_type": "code",
      "execution_count": 72,
      "metadata": {
        "colab": {
          "base_uri": "https://localhost:8080/",
          "height": 431
        },
        "id": "hwWuT-EE4hJx",
        "outputId": "69ea266a-58cf-44bd-bc5a-708195ef3888"
      },
      "outputs": [
        {
          "output_type": "display_data",
          "data": {
            "text/plain": [
              "\u001b[1mModel: \"sequential_6\"\u001b[0m\n"
            ],
            "text/html": [
              "<pre style=\"white-space:pre;overflow-x:auto;line-height:normal;font-family:Menlo,'DejaVu Sans Mono',consolas,'Courier New',monospace\"><span style=\"font-weight: bold\">Model: \"sequential_6\"</span>\n",
              "</pre>\n"
            ]
          },
          "metadata": {}
        },
        {
          "output_type": "display_data",
          "data": {
            "text/plain": [
              "┏━━━━━━━━━━━━━━━━━━━━━━━━━━━━━━━━━━━━━━┳━━━━━━━━━━━━━━━━━━━━━━━━━━━━━┳━━━━━━━━━━━━━━━━━┓\n",
              "┃\u001b[1m \u001b[0m\u001b[1mLayer (type)                        \u001b[0m\u001b[1m \u001b[0m┃\u001b[1m \u001b[0m\u001b[1mOutput Shape               \u001b[0m\u001b[1m \u001b[0m┃\u001b[1m \u001b[0m\u001b[1m        Param #\u001b[0m\u001b[1m \u001b[0m┃\n",
              "┡━━━━━━━━━━━━━━━━━━━━━━━━━━━━━━━━━━━━━━╇━━━━━━━━━━━━━━━━━━━━━━━━━━━━━╇━━━━━━━━━━━━━━━━━┩\n",
              "│ embedding_6 (\u001b[38;5;33mEmbedding\u001b[0m)              │ (\u001b[38;5;34m1\u001b[0m, \u001b[38;5;34m120\u001b[0m, \u001b[38;5;34m32\u001b[0m)                │         \u001b[38;5;34m640,000\u001b[0m │\n",
              "├──────────────────────────────────────┼─────────────────────────────┼─────────────────┤\n",
              "│ dropout_4 (\u001b[38;5;33mDropout\u001b[0m)                  │ (\u001b[38;5;34m1\u001b[0m, \u001b[38;5;34m120\u001b[0m, \u001b[38;5;34m32\u001b[0m)                │               \u001b[38;5;34m0\u001b[0m │\n",
              "├──────────────────────────────────────┼─────────────────────────────┼─────────────────┤\n",
              "│ bidirectional_2 (\u001b[38;5;33mBidirectional\u001b[0m)      │ (\u001b[38;5;34m1\u001b[0m, \u001b[38;5;34m120\u001b[0m, \u001b[38;5;34m128\u001b[0m)               │          \u001b[38;5;34m49,664\u001b[0m │\n",
              "├──────────────────────────────────────┼─────────────────────────────┼─────────────────┤\n",
              "│ bidirectional_3 (\u001b[38;5;33mBidirectional\u001b[0m)      │ (\u001b[38;5;34m1\u001b[0m, \u001b[38;5;34m128\u001b[0m)                    │          \u001b[38;5;34m98,816\u001b[0m │\n",
              "├──────────────────────────────────────┼─────────────────────────────┼─────────────────┤\n",
              "│ dense_10 (\u001b[38;5;33mDense\u001b[0m)                     │ (\u001b[38;5;34m1\u001b[0m, \u001b[38;5;34m256\u001b[0m)                    │          \u001b[38;5;34m33,024\u001b[0m │\n",
              "├──────────────────────────────────────┼─────────────────────────────┼─────────────────┤\n",
              "│ dropout_5 (\u001b[38;5;33mDropout\u001b[0m)                  │ (\u001b[38;5;34m1\u001b[0m, \u001b[38;5;34m256\u001b[0m)                    │               \u001b[38;5;34m0\u001b[0m │\n",
              "├──────────────────────────────────────┼─────────────────────────────┼─────────────────┤\n",
              "│ dense_11 (\u001b[38;5;33mDense\u001b[0m)                     │ (\u001b[38;5;34m1\u001b[0m, \u001b[38;5;34m32\u001b[0m)                     │           \u001b[38;5;34m8,224\u001b[0m │\n",
              "├──────────────────────────────────────┼─────────────────────────────┼─────────────────┤\n",
              "│ dropout_6 (\u001b[38;5;33mDropout\u001b[0m)                  │ (\u001b[38;5;34m1\u001b[0m, \u001b[38;5;34m32\u001b[0m)                     │               \u001b[38;5;34m0\u001b[0m │\n",
              "├──────────────────────────────────────┼─────────────────────────────┼─────────────────┤\n",
              "│ dense_12 (\u001b[38;5;33mDense\u001b[0m)                     │ (\u001b[38;5;34m1\u001b[0m, \u001b[38;5;34m1\u001b[0m)                      │              \u001b[38;5;34m33\u001b[0m │\n",
              "└──────────────────────────────────────┴─────────────────────────────┴─────────────────┘\n"
            ],
            "text/html": [
              "<pre style=\"white-space:pre;overflow-x:auto;line-height:normal;font-family:Menlo,'DejaVu Sans Mono',consolas,'Courier New',monospace\">┏━━━━━━━━━━━━━━━━━━━━━━━━━━━━━━━━━━━━━━┳━━━━━━━━━━━━━━━━━━━━━━━━━━━━━┳━━━━━━━━━━━━━━━━━┓\n",
              "┃<span style=\"font-weight: bold\"> Layer (type)                         </span>┃<span style=\"font-weight: bold\"> Output Shape                </span>┃<span style=\"font-weight: bold\">         Param # </span>┃\n",
              "┡━━━━━━━━━━━━━━━━━━━━━━━━━━━━━━━━━━━━━━╇━━━━━━━━━━━━━━━━━━━━━━━━━━━━━╇━━━━━━━━━━━━━━━━━┩\n",
              "│ embedding_6 (<span style=\"color: #0087ff; text-decoration-color: #0087ff\">Embedding</span>)              │ (<span style=\"color: #00af00; text-decoration-color: #00af00\">1</span>, <span style=\"color: #00af00; text-decoration-color: #00af00\">120</span>, <span style=\"color: #00af00; text-decoration-color: #00af00\">32</span>)                │         <span style=\"color: #00af00; text-decoration-color: #00af00\">640,000</span> │\n",
              "├──────────────────────────────────────┼─────────────────────────────┼─────────────────┤\n",
              "│ dropout_4 (<span style=\"color: #0087ff; text-decoration-color: #0087ff\">Dropout</span>)                  │ (<span style=\"color: #00af00; text-decoration-color: #00af00\">1</span>, <span style=\"color: #00af00; text-decoration-color: #00af00\">120</span>, <span style=\"color: #00af00; text-decoration-color: #00af00\">32</span>)                │               <span style=\"color: #00af00; text-decoration-color: #00af00\">0</span> │\n",
              "├──────────────────────────────────────┼─────────────────────────────┼─────────────────┤\n",
              "│ bidirectional_2 (<span style=\"color: #0087ff; text-decoration-color: #0087ff\">Bidirectional</span>)      │ (<span style=\"color: #00af00; text-decoration-color: #00af00\">1</span>, <span style=\"color: #00af00; text-decoration-color: #00af00\">120</span>, <span style=\"color: #00af00; text-decoration-color: #00af00\">128</span>)               │          <span style=\"color: #00af00; text-decoration-color: #00af00\">49,664</span> │\n",
              "├──────────────────────────────────────┼─────────────────────────────┼─────────────────┤\n",
              "│ bidirectional_3 (<span style=\"color: #0087ff; text-decoration-color: #0087ff\">Bidirectional</span>)      │ (<span style=\"color: #00af00; text-decoration-color: #00af00\">1</span>, <span style=\"color: #00af00; text-decoration-color: #00af00\">128</span>)                    │          <span style=\"color: #00af00; text-decoration-color: #00af00\">98,816</span> │\n",
              "├──────────────────────────────────────┼─────────────────────────────┼─────────────────┤\n",
              "│ dense_10 (<span style=\"color: #0087ff; text-decoration-color: #0087ff\">Dense</span>)                     │ (<span style=\"color: #00af00; text-decoration-color: #00af00\">1</span>, <span style=\"color: #00af00; text-decoration-color: #00af00\">256</span>)                    │          <span style=\"color: #00af00; text-decoration-color: #00af00\">33,024</span> │\n",
              "├──────────────────────────────────────┼─────────────────────────────┼─────────────────┤\n",
              "│ dropout_5 (<span style=\"color: #0087ff; text-decoration-color: #0087ff\">Dropout</span>)                  │ (<span style=\"color: #00af00; text-decoration-color: #00af00\">1</span>, <span style=\"color: #00af00; text-decoration-color: #00af00\">256</span>)                    │               <span style=\"color: #00af00; text-decoration-color: #00af00\">0</span> │\n",
              "├──────────────────────────────────────┼─────────────────────────────┼─────────────────┤\n",
              "│ dense_11 (<span style=\"color: #0087ff; text-decoration-color: #0087ff\">Dense</span>)                     │ (<span style=\"color: #00af00; text-decoration-color: #00af00\">1</span>, <span style=\"color: #00af00; text-decoration-color: #00af00\">32</span>)                     │           <span style=\"color: #00af00; text-decoration-color: #00af00\">8,224</span> │\n",
              "├──────────────────────────────────────┼─────────────────────────────┼─────────────────┤\n",
              "│ dropout_6 (<span style=\"color: #0087ff; text-decoration-color: #0087ff\">Dropout</span>)                  │ (<span style=\"color: #00af00; text-decoration-color: #00af00\">1</span>, <span style=\"color: #00af00; text-decoration-color: #00af00\">32</span>)                     │               <span style=\"color: #00af00; text-decoration-color: #00af00\">0</span> │\n",
              "├──────────────────────────────────────┼─────────────────────────────┼─────────────────┤\n",
              "│ dense_12 (<span style=\"color: #0087ff; text-decoration-color: #0087ff\">Dense</span>)                     │ (<span style=\"color: #00af00; text-decoration-color: #00af00\">1</span>, <span style=\"color: #00af00; text-decoration-color: #00af00\">1</span>)                      │              <span style=\"color: #00af00; text-decoration-color: #00af00\">33</span> │\n",
              "└──────────────────────────────────────┴─────────────────────────────┴─────────────────┘\n",
              "</pre>\n"
            ]
          },
          "metadata": {}
        },
        {
          "output_type": "display_data",
          "data": {
            "text/plain": [
              "\u001b[1m Total params: \u001b[0m\u001b[38;5;34m829,761\u001b[0m (3.17 MB)\n"
            ],
            "text/html": [
              "<pre style=\"white-space:pre;overflow-x:auto;line-height:normal;font-family:Menlo,'DejaVu Sans Mono',consolas,'Courier New',monospace\"><span style=\"font-weight: bold\"> Total params: </span><span style=\"color: #00af00; text-decoration-color: #00af00\">829,761</span> (3.17 MB)\n",
              "</pre>\n"
            ]
          },
          "metadata": {}
        },
        {
          "output_type": "display_data",
          "data": {
            "text/plain": [
              "\u001b[1m Trainable params: \u001b[0m\u001b[38;5;34m829,761\u001b[0m (3.17 MB)\n"
            ],
            "text/html": [
              "<pre style=\"white-space:pre;overflow-x:auto;line-height:normal;font-family:Menlo,'DejaVu Sans Mono',consolas,'Courier New',monospace\"><span style=\"font-weight: bold\"> Trainable params: </span><span style=\"color: #00af00; text-decoration-color: #00af00\">829,761</span> (3.17 MB)\n",
              "</pre>\n"
            ]
          },
          "metadata": {}
        },
        {
          "output_type": "display_data",
          "data": {
            "text/plain": [
              "\u001b[1m Non-trainable params: \u001b[0m\u001b[38;5;34m0\u001b[0m (0.00 B)\n"
            ],
            "text/html": [
              "<pre style=\"white-space:pre;overflow-x:auto;line-height:normal;font-family:Menlo,'DejaVu Sans Mono',consolas,'Courier New',monospace\"><span style=\"font-weight: bold\"> Non-trainable params: </span><span style=\"color: #00af00; text-decoration-color: #00af00\">0</span> (0.00 B)\n",
              "</pre>\n"
            ]
          },
          "metadata": {}
        }
      ],
      "source": [
        "max_features = 20000  # Максимальное количество уникальных слов, которые будем использовать\n",
        "maxlen = 120  # Максимальная длина текста (слова). Тексты длиннее будут обрезаться\n",
        "embedding_vector_length = 32  # Размер векторов для представления слов\n",
        "\n",
        "# Определение модели\n",
        "model_dbrnn = tf.keras.Sequential([ # Sigmoid: Функция активации для предсказания вероятности принадлежности к классу.\n",
        "    # Преобразование слов в векторы фиксированной длины\n",
        "    tf.keras.layers.Embedding(input_dim=max_features, output_dim=embedding_vector_length),\n",
        "    # Слой для случайного \"выключения\" некоторых нейронов, чтобы предотвратить переобучение\n",
        "    tf.keras.layers.Dropout(0.25),\n",
        "    # Двунаправленный LSTM, который обрабатывает текст с обеих сторон\n",
        "    tf.keras.layers.Bidirectional(tf.keras.layers.LSTM(64, return_sequences=True)),\n",
        "    # Двунаправленный LSTM, который обрабатывает текст, учитывая всю последовательность\n",
        "    tf.keras.layers.Bidirectional(tf.keras.layers.LSTM(64)),\n",
        "    # Полносвязный слой с 256 нейронами и функцией активации ReLU\n",
        "    tf.keras.layers.Dense(units=256, activation='relu'),\n",
        "    # Еще один слой Dropout для предотвращения переобучения\n",
        "    tf.keras.layers.Dropout(0.2),\n",
        "    # Полносвязный слой с 32 нейронами и функцией активации ReLU\n",
        "    tf.keras.layers.Dense(units=32, activation='relu'),\n",
        "    # Еще один слой Dropout\n",
        "    tf.keras.layers.Dropout(0.2),\n",
        "    # Выходной слой с одним нейроном и функцией активации sigmoid для бинарной классификации\n",
        "    tf.keras.layers.Dense(units=1, activation='sigmoid')\n",
        "])\n",
        "\n",
        "# Настройка параметров обучения модели\n",
        "model_dbrnn.compile(loss='binary_crossentropy', optimizer='adam', metrics=['accuracy'])\n",
        "\n",
        "# Примерные входные данные для создания модели\n",
        "input_example = np.random.randint(0, vocab_size, (1, maxlen))\n",
        "\n",
        "# Постройте модель на основе этих данных\n",
        "model_dbrnn(input_example)\n",
        "\n",
        "# Печать структуры модели\n",
        "model_dbrnn.summary()\n",
        "\n",
        "# Модель имеет сложную архитектуру с несколькими слоями, которые помогут ей хорошо работать с текстами.\n",
        "# Двунаправленные LSTM и Dropout помогут ей захватывать сложные зависимости в тексте и избегать переобучения.\n"
      ]
    },
    {
      "cell_type": "code",
      "execution_count": 73,
      "metadata": {
        "id": "IAgFyBdCNn4F"
      },
      "outputs": [],
      "source": [
        "# ↑\n",
        "# Общее количество параметров: Модель имеет 829,761 параметров. Эти параметры настраиваются во время обучения модели.\n",
        "# Embedding (Встраивание): Преобразует слова в векторы длиной 32. Обрабатывает текст длиной до 120 слов.\n",
        "# Bidirectional LSTM: Два слоя Bidirectional LSTM помогают модели понимать текст, читая его как слева направо, так и справа налево.\n",
        "# Dense (Полносвязные слои): После LSTM идут полносвязные слои, которые помогают модели сделать окончательное предсказание.\n",
        "# Dropout: Используется, чтобы модель не переобучалась, случайно \"выключая\" некоторые нейроны во время тренировки."
      ]
    },
    {
      "cell_type": "code",
      "execution_count": 74,
      "metadata": {
        "colab": {
          "base_uri": "https://localhost:8080/"
        },
        "id": "jiGLHsUC4hMY",
        "outputId": "265f6317-acbe-4853-d962-2be717252192"
      },
      "outputs": [
        {
          "output_type": "stream",
          "name": "stdout",
          "text": [
            "Epoch 1/5\n",
            "\u001b[1m196/196\u001b[0m \u001b[32m━━━━━━━━━━━━━━━━━━━━\u001b[0m\u001b[37m\u001b[0m \u001b[1m191s\u001b[0m 937ms/step - accuracy: 0.6242 - loss: 0.6070 - val_accuracy: 0.8238 - val_loss: 0.3916 - learning_rate: 0.0010\n",
            "Epoch 2/5\n",
            "\u001b[1m196/196\u001b[0m \u001b[32m━━━━━━━━━━━━━━━━━━━━\u001b[0m\u001b[37m\u001b[0m \u001b[1m201s\u001b[0m 932ms/step - accuracy: 0.8784 - loss: 0.3071 - val_accuracy: 0.8128 - val_loss: 0.4050 - learning_rate: 0.0010\n",
            "Epoch 3/5\n",
            "\u001b[1m196/196\u001b[0m \u001b[32m━━━━━━━━━━━━━━━━━━━━\u001b[0m\u001b[37m\u001b[0m \u001b[1m202s\u001b[0m 934ms/step - accuracy: 0.9099 - loss: 0.2372 - val_accuracy: 0.8194 - val_loss: 0.4057 - learning_rate: 0.0010\n",
            "Epoch 4/5\n",
            "\u001b[1m196/196\u001b[0m \u001b[32m━━━━━━━━━━━━━━━━━━━━\u001b[0m\u001b[37m\u001b[0m \u001b[1m238s\u001b[0m 1s/step - accuracy: 0.9416 - loss: 0.1698 - val_accuracy: 0.8154 - val_loss: 0.5005 - learning_rate: 2.0000e-04\n",
            "Epoch 5/5\n",
            "\u001b[1m196/196\u001b[0m \u001b[32m━━━━━━━━━━━━━━━━━━━━\u001b[0m\u001b[37m\u001b[0m \u001b[1m265s\u001b[0m 1s/step - accuracy: 0.9527 - loss: 0.1386 - val_accuracy: 0.8145 - val_loss: 0.5041 - learning_rate: 2.0000e-04\n"
          ]
        }
      ],
      "source": [
        "# Этот код запускает процесс обучения модели\n",
        "history_dbrnn = model_dbrnn.fit(padded,\n",
        "                              training_labels_final,\n",
        "                              batch_size=BATCH_SIZE,\n",
        "                              epochs=NUM_EPOCHS,\n",
        "                              validation_data=(testing_padded, testing_labels_final), callbacks=[reduce_lr, epoch_callback])\n"
      ]
    },
    {
      "cell_type": "code",
      "execution_count": 75,
      "metadata": {
        "id": "6PgNilFtNrom"
      },
      "outputs": [],
      "source": [
        "# ↑\n",
        "# Точность на тренировочных данных: Модель постепенно улучшала свою точность на тренировочных данных с 62.42% до 95.27% за 5 эпох.\n",
        "# Потери на тренировочных данных: Потери (loss) уменьшались, что означает, что модель лучше справляется с задачей, обучаясь на тренировочных данных.\n",
        "# Точность на валидационных данных: Точность на валидационных данных колебалась, начиная с 82.38% и достигая 81.45% к концу обучения.\n",
        "# Это говорит о том, что модель может переобучаться (показывать хорошие результаты на тренировочных данных, но не всегда на новых данных).\n",
        "# Потери на валидационных данных: Потери на валидационных данных увеличивались в последние эпохи, что также может указывать на переобучение.\n",
        "# Изменение скорости обучения: В конце обучения скорость обучения была снижена. Это помогает модели лучше находить оптимальные параметры.\n",
        "\n",
        "# Модель улучшалась на тренировочных данных, но имела некоторые колебания на валидационных данных, что может указывать на переобучение.\n",
        "# Нужно следить за тем, чтобы модель не слишком сильно переобучалась и хорошо работала на новых данных."
      ]
    },
    {
      "cell_type": "code",
      "execution_count": 76,
      "metadata": {
        "colab": {
          "base_uri": "https://localhost:8080/",
          "height": 605
        },
        "id": "NwLcgMfd4hPK",
        "outputId": "ac84e2ae-cc40-45b6-8642-dd6b32da78f9"
      },
      "outputs": [
        {
          "output_type": "display_data",
          "data": {
            "text/plain": [
              "<Figure size 500x300 with 1 Axes>"
            ],
            "image/png": "[encoded data removed]"
          },
          "metadata": {}
        },
        {
          "output_type": "display_data",
          "data": {
            "text/plain": [
              "<Figure size 500x300 with 1 Axes>"
            ],
            "image/png": "[encoded data removed]"
          },
          "metadata": {}
        }
      ],
      "source": [
        "plot_graphs(history_dbrnn, \"accuracy\")\n",
        "plot_graphs(history_dbrnn, \"loss\")\n",
        "\n",
        "# График точности покажет, насколько хорошо модель обучалась. Если линия растёт, это значит, что модель становилась лучше.\n",
        "# График потерь покажет, насколько хорошо модель уменьшают свои ошибки. Если линия падает, это значит, что модель делает меньше ошибок.\n",
        "# Эти графики помогают понять, как модель обучалась и какие результаты были достигнуты."
      ]
    },
    {
      "cell_type": "code",
      "execution_count": 77,
      "metadata": {
        "colab": {
          "base_uri": "https://localhost:8080/",
          "height": 876
        },
        "id": "E1IgPURk4wze",
        "outputId": "e97efd8d-d68b-481b-ee65-d2368cc4eb9f"
      },
      "outputs": [
        {
          "output_type": "stream",
          "name": "stdout",
          "text": [
            "\u001b[1m782/782\u001b[0m \u001b[32m━━━━━━━━━━━━━━━━━━━━\u001b[0m\u001b[37m\u001b[0m \u001b[1m53s\u001b[0m 67ms/step\n",
            "\u001b[1m782/782\u001b[0m \u001b[32m━━━━━━━━━━━━━━━━━━━━\u001b[0m\u001b[37m\u001b[0m \u001b[1m52s\u001b[0m 67ms/step - accuracy: 0.8187 - loss: 0.4966\n",
            "Predicted: 1, Label: 1\n",
            "Predicted: 1, Label: 1\n",
            "Predicted: 0, Label: 0\n",
            "Predicted: 0, Label: 0\n",
            "Predicted: 1, Label: 1\n",
            "Predicted: 1, Label: 1\n",
            "Predicted: 1, Label: 1\n",
            "Predicted: 1, Label: 1\n",
            "Predicted: 1, Label: 0\n",
            "Predicted: 0, Label: 1\n",
            "              precision    recall  f1-score   support\n",
            "\n",
            "           0       0.80      0.84      0.82     12500\n",
            "           1       0.83      0.79      0.81     12500\n",
            "\n",
            "    accuracy                           0.81     25000\n",
            "   macro avg       0.82      0.81      0.81     25000\n",
            "weighted avg       0.82      0.81      0.81     25000\n",
            "\n"
          ]
        },
        {
          "output_type": "display_data",
          "data": {
            "text/plain": [
              "<Figure size 400x400 with 2 Axes>"
            ],
            "image/png": "[encoded data removed]"
          },
          "metadata": {}
        },
        {
          "output_type": "stream",
          "name": "stdout",
          "text": [
            "TP: 10446\n",
            "TN: 9917\n",
            "FP: 2054\n",
            "FN: 2583\n"
          ]
        }
      ],
      "source": [
        "report(model_dbrnn)"
      ]
    },
    {
      "cell_type": "code",
      "execution_count": 78,
      "metadata": {
        "id": "zCDIqE-sUuK5"
      },
      "outputs": [],
      "source": [
        "# ↑\n",
        "# Точность (Accuracy): 81.87%. Модель правильно классифицировала 81.87% всех примеров.\n",
        "\n",
        "# Precision:\n",
        "# Для класса 0: 80%. Это значит, что из всех предсказанных как 0, 80% действительно были 0.\n",
        "# Для класса 1: 83%. Это значит, что из всех предсказанных как 1, 83% действительно были 1.\n",
        "\n",
        "# Recall:\n",
        "# Для класса 0: 84%. Это значит, что из всех настоящих 0, 84% были правильно предсказаны.\n",
        "# Для класса 1: 79%. Это значит, что из всех настоящих 1, 79% были правильно предсказаны.\n",
        "\n",
        "# F1-Score:\n",
        "# Для класса 0: 82%. Это среднее значение precision и recall для класса 0.\n",
        "# Для класса 1: 81%. Это среднее значение precision и recall для класса 1.\n",
        "\n",
        "# TP (True Positives): 10446. Правильно предсказанных положительных примеров.\n",
        "# TN (True Negatives): 9917. Правильно предсказанных отрицательных примеров.\n",
        "# FP (False Positives): 2054. Неправильно предсказанных положительных примеров.\n",
        "# FN (False Negatives): 2583. Неправильно предсказанных отрицательных примеров.\n",
        "\n",
        "# Вывод: Модель работает хорошо, но у неё есть немного больше ошибок в предсказаниях для класса 1.\n",
        "# Точность и F1-Score для обоих классов близки друг к другу, что говорит о сбалансированности модели."
      ]
    },
    {
      "cell_type": "code",
      "execution_count": 79,
      "metadata": {
        "id": "lpbxm5SpPYKo"
      },
      "outputs": [],
      "source": [
        "# Мы создали и обучили разные типы рекуррентных нейронных сетей, сравним их эффективность:\n",
        "\n",
        "# Вот краткий вывод из сравнения различных типов рекуррентных нейронных сетей:\n",
        "# Flatten:\n",
        "  # Тренировочная точность: 96.99%\n",
        "  # Валидационная точность: 83.02%\n",
        "  # Вывод: Хорошие результаты, но точность на валидации не всегда стабильна.\n",
        "\n",
        "  # LSTM:\n",
        "  # Тренировочная точность: 94.74%\n",
        "  # Валидационная точность: 81.52%\n",
        "  # Вывод: Хорошие результаты, но точность на валидации немного ниже, чем у Flatten.\n",
        "\n",
        "# GRU:\n",
        "  # Тренировочная точность: 93.42%\n",
        "  # Валидационная точность: 81.68%\n",
        "  # Вывод: Результаты сопоставимы с LSTM. Валидационная точность немного выше, но тренировочная точность ниже.\n",
        "\n",
        "# Convolution RNN:\n",
        "  # Тренировочная точность: 94.34%\n",
        "  # Валидационная точность: 82.31%\n",
        "  # Вывод: Хорошие результаты, тренировочная точность и точность на валидации немного выше, чем у GRU.\n",
        "\n",
        "# SRNN:\n",
        "  # Тренировочная точность: 95.49%\n",
        "  # Валидационная точность: 80.68%\n",
        "  # Вывод: Высокая тренировочная точность, но точность на валидации ниже, чем у других моделей.\n",
        "\n",
        "# BRNN:\n",
        "  # Тренировочная точность: 93.65%\n",
        "  # Валидационная точность: 81.32%\n",
        "  # Вывод: Тренировочная точность ниже, чем у других моделей. Точность на валидации не высокая.\n",
        "\n",
        "# Deep BRNN:\n",
        "  # Тренировочная точность: 95.27%\n",
        "  # Валидационная точность: 81.45%\n",
        "  # Вывод: Хорошие результаты, но точность на валидации немного ниже, чем у Flatten.\n",
        "\n",
        "\n",
        "# Наилучшие результаты у модели Flatten и Deep BRNN по тренировочной точности, но у Flatten также лучше точность на валидации.\n",
        "# LSTM и Convolution RNN показывают стабильные результаты с хорошей точностью на валидации.\n",
        "# GRU и BRNN имеют немного худшие результаты по точности на валидации.\n",
        "# Выбор модели зависит от важности точности на валидации и требований к скорости обучения и вычислительным ресурсам.\n",
        "\n",
        "# Наилучшие результаты у модель Flatten по тренировочной точности и по точность на валидации.\n",
        "# SRNN и Deep BRNN показывают высокие результаты на тренировочной точности\n",
        "# GRU и Convolution RNN показывают стабильные результаты с хорошей точностью на валидации.\n",
        "# LSTM, BRNN и Deep BRNN имеют немного худшие результаты по точности на валидации.\n",
        "# Выбор модели зависит от важности точности на валидации и требований к скорости обучения и вычислительным ресурсам."
      ]
    },
    {
      "cell_type": "markdown",
      "metadata": {
        "id": "Q6ILwkna0een"
      },
      "source": [
        "Наилучшие результаты у модели Flatten, SRNN и Deep BRNN по тренировочной точности, но у Flatten также лучше точность на валидации, а у SRNN самая низкая точность на валидации.\n",
        "\n",
        "\n",
        "GRU и Convolution RNN показывают стабильные результаты с хорошей точностью на валидации.\n",
        "\n",
        "\n",
        "LSTM, BRNN и Deep BRNN имеют немного худшие результаты по точности на валидации.\n",
        "\n",
        "\n",
        "Выбор модели зависит от важности точности на валидации и требований к скорости обучения и вычислительным ресурсам.\n",
        "\n",
        "\n",
        "\n",
        "\n",
        "\n",
        "\n"
      ]
    }
  ],
  "metadata": {
    "colab": {
      "provenance": []
    },
    "kernelspec": {
      "display_name": "Python 3",
      "name": "python3"
    },
    "language_info": {
      "name": "python"
    },
    "widgets": {
      "application/vnd.jupyter.widget-state+json": {
        "3140d5342d1340f8ab8acdfae74d79fb": {
          "model_module": "@jupyter-widgets/controls",
          "model_name": "HBoxModel",
          "model_module_version": "1.5.0",
          "state": {
            "_dom_classes": [],
            "_model_module": "@jupyter-widgets/controls",
            "_model_module_version": "1.5.0",
            "_model_name": "HBoxModel",
            "_view_count": null,
            "_view_module": "@jupyter-widgets/controls",
            "_view_module_version": "1.5.0",
            "_view_name": "HBoxView",
            "box_style": "",
            "children": [
              "IPY_MODEL_bf94be06417640d9883dc7fde0f65db9",
              "IPY_MODEL_b4151fa1df2048ab865647c3f581f9bc",
              "IPY_MODEL_a566fe36d96f4d768d8e27bead3f7533"
            ],
            "layout": "IPY_MODEL_5c0d8c2ea5e74550801613d49420d7cc"
          }
        },
        "bf94be06417640d9883dc7fde0f65db9": {
          "model_module": "@jupyter-widgets/controls",
          "model_name": "HTMLModel",
          "model_module_version": "1.5.0",
          "state": {
            "_dom_classes": [],
            "_model_module": "@jupyter-widgets/controls",
            "_model_module_version": "1.5.0",
            "_model_name": "HTMLModel",
            "_view_count": null,
            "_view_module": "@jupyter-widgets/controls",
            "_view_module_version": "1.5.0",
            "_view_name": "HTMLView",
            "description": "",
            "description_tooltip": null,
            "layout": "IPY_MODEL_84a7bd81875b40ee806849ceac6f8ffc",
            "placeholder": "​",
            "style": "IPY_MODEL_71831e5be7bd4c79b5ca6ff951793d0b",
            "value": "Dl Completed...: 100%"
          }
        },
        "b4151fa1df2048ab865647c3f581f9bc": {
          "model_module": "@jupyter-widgets/controls",
          "model_name": "FloatProgressModel",
          "model_module_version": "1.5.0",
          "state": {
            "_dom_classes": [],
            "_model_module": "@jupyter-widgets/controls",
            "_model_module_version": "1.5.0",
            "_model_name": "FloatProgressModel",
            "_view_count": null,
            "_view_module": "@jupyter-widgets/controls",
            "_view_module_version": "1.5.0",
            "_view_name": "ProgressView",
            "bar_style": "success",
            "description": "",
            "description_tooltip": null,
            "layout": "IPY_MODEL_b55fc506d2314362a8924bbab54b87f9",
            "max": 1,
            "min": 0,
            "orientation": "horizontal",
            "style": "IPY_MODEL_d50b928c1afc46f9a7ce59bcb9d7300f",
            "value": 1
          }
        },
        "a566fe36d96f4d768d8e27bead3f7533": {
          "model_module": "@jupyter-widgets/controls",
          "model_name": "HTMLModel",
          "model_module_version": "1.5.0",
          "state": {
            "_dom_classes": [],
            "_model_module": "@jupyter-widgets/controls",
            "_model_module_version": "1.5.0",
            "_model_name": "HTMLModel",
            "_view_count": null,
            "_view_module": "@jupyter-widgets/controls",
            "_view_module_version": "1.5.0",
            "_view_name": "HTMLView",
            "description": "",
            "description_tooltip": null,
            "layout": "IPY_MODEL_9273dc713a9d43339fdaddca6b750a2d",
            "placeholder": "​",
            "style": "IPY_MODEL_99a8611453de4b1ab16c692cf87ba58d",
            "value": " 1/1 [00:08&lt;00:00,  8.06s/ url]"
          }
        },
        "5c0d8c2ea5e74550801613d49420d7cc": {
          "model_module": "@jupyter-widgets/base",
          "model_name": "LayoutModel",
          "model_module_version": "1.2.0",
          "state": {
            "_model_module": "@jupyter-widgets/base",
            "_model_module_version": "1.2.0",
            "_model_name": "LayoutModel",
            "_view_count": null,
            "_view_module": "@jupyter-widgets/base",
            "_view_module_version": "1.2.0",
            "_view_name": "LayoutView",
            "align_content": null,
            "align_items": null,
            "align_self": null,
            "border": null,
            "bottom": null,
            "display": null,
            "flex": null,
            "flex_flow": null,
            "grid_area": null,
            "grid_auto_columns": null,
            "grid_auto_flow": null,
            "grid_auto_rows": null,
            "grid_column": null,
            "grid_gap": null,
            "grid_row": null,
            "grid_template_areas": null,
            "grid_template_columns": null,
            "grid_template_rows": null,
            "height": null,
            "justify_content": null,
            "justify_items": null,
            "left": null,
            "margin": null,
            "max_height": null,
            "max_width": null,
            "min_height": null,
            "min_width": null,
            "object_fit": null,
            "object_position": null,
            "order": null,
            "overflow": null,
            "overflow_x": null,
            "overflow_y": null,
            "padding": null,
            "right": null,
            "top": null,
            "visibility": null,
            "width": null
          }
        },
        "84a7bd81875b40ee806849ceac6f8ffc": {
          "model_module": "@jupyter-widgets/base",
          "model_name": "LayoutModel",
          "model_module_version": "1.2.0",
          "state": {
            "_model_module": "@jupyter-widgets/base",
            "_model_module_version": "1.2.0",
            "_model_name": "LayoutModel",
            "_view_count": null,
            "_view_module": "@jupyter-widgets/base",
            "_view_module_version": "1.2.0",
            "_view_name": "LayoutView",
            "align_content": null,
            "align_items": null,
            "align_self": null,
            "border": null,
            "bottom": null,
            "display": null,
            "flex": null,
            "flex_flow": null,
            "grid_area": null,
            "grid_auto_columns": null,
            "grid_auto_flow": null,
            "grid_auto_rows": null,
            "grid_column": null,
            "grid_gap": null,
            "grid_row": null,
            "grid_template_areas": null,
            "grid_template_columns": null,
            "grid_template_rows": null,
            "height": null,
            "justify_content": null,
            "justify_items": null,
            "left": null,
            "margin": null,
            "max_height": null,
            "max_width": null,
            "min_height": null,
            "min_width": null,
            "object_fit": null,
            "object_position": null,
            "order": null,
            "overflow": null,
            "overflow_x": null,
            "overflow_y": null,
            "padding": null,
            "right": null,
            "top": null,
            "visibility": null,
            "width": null
          }
        },
        "71831e5be7bd4c79b5ca6ff951793d0b": {
          "model_module": "@jupyter-widgets/controls",
          "model_name": "DescriptionStyleModel",
          "model_module_version": "1.5.0",
          "state": {
            "_model_module": "@jupyter-widgets/controls",
            "_model_module_version": "1.5.0",
            "_model_name": "DescriptionStyleModel",
            "_view_count": null,
            "_view_module": "@jupyter-widgets/base",
            "_view_module_version": "1.2.0",
            "_view_name": "StyleView",
            "description_width": ""
          }
        },
        "b55fc506d2314362a8924bbab54b87f9": {
          "model_module": "@jupyter-widgets/base",
          "model_name": "LayoutModel",
          "model_module_version": "1.2.0",
          "state": {
            "_model_module": "@jupyter-widgets/base",
            "_model_module_version": "1.2.0",
            "_model_name": "LayoutModel",
            "_view_count": null,
            "_view_module": "@jupyter-widgets/base",
            "_view_module_version": "1.2.0",
            "_view_name": "LayoutView",
            "align_content": null,
            "align_items": null,
            "align_self": null,
            "border": null,
            "bottom": null,
            "display": null,
            "flex": null,
            "flex_flow": null,
            "grid_area": null,
            "grid_auto_columns": null,
            "grid_auto_flow": null,
            "grid_auto_rows": null,
            "grid_column": null,
            "grid_gap": null,
            "grid_row": null,
            "grid_template_areas": null,
            "grid_template_columns": null,
            "grid_template_rows": null,
            "height": null,
            "justify_content": null,
            "justify_items": null,
            "left": null,
            "margin": null,
            "max_height": null,
            "max_width": null,
            "min_height": null,
            "min_width": null,
            "object_fit": null,
            "object_position": null,
            "order": null,
            "overflow": null,
            "overflow_x": null,
            "overflow_y": null,
            "padding": null,
            "right": null,
            "top": null,
            "visibility": null,
            "width": "20px"
          }
        },
        "d50b928c1afc46f9a7ce59bcb9d7300f": {
          "model_module": "@jupyter-widgets/controls",
          "model_name": "ProgressStyleModel",
          "model_module_version": "1.5.0",
          "state": {
            "_model_module": "@jupyter-widgets/controls",
            "_model_module_version": "1.5.0",
            "_model_name": "ProgressStyleModel",
            "_view_count": null,
            "_view_module": "@jupyter-widgets/base",
            "_view_module_version": "1.2.0",
            "_view_name": "StyleView",
            "bar_color": null,
            "description_width": ""
          }
        },
        "9273dc713a9d43339fdaddca6b750a2d": {
          "model_module": "@jupyter-widgets/base",
          "model_name": "LayoutModel",
          "model_module_version": "1.2.0",
          "state": {
            "_model_module": "@jupyter-widgets/base",
            "_model_module_version": "1.2.0",
            "_model_name": "LayoutModel",
            "_view_count": null,
            "_view_module": "@jupyter-widgets/base",
            "_view_module_version": "1.2.0",
            "_view_name": "LayoutView",
            "align_content": null,
            "align_items": null,
            "align_self": null,
            "border": null,
            "bottom": null,
            "display": null,
            "flex": null,
            "flex_flow": null,
            "grid_area": null,
            "grid_auto_columns": null,
            "grid_auto_flow": null,
            "grid_auto_rows": null,
            "grid_column": null,
            "grid_gap": null,
            "grid_row": null,
            "grid_template_areas": null,
            "grid_template_columns": null,
            "grid_template_rows": null,
            "height": null,
            "justify_content": null,
            "justify_items": null,
            "left": null,
            "margin": null,
            "max_height": null,
            "max_width": null,
            "min_height": null,
            "min_width": null,
            "object_fit": null,
            "object_position": null,
            "order": null,
            "overflow": null,
            "overflow_x": null,
            "overflow_y": null,
            "padding": null,
            "right": null,
            "top": null,
            "visibility": null,
            "width": null
          }
        },
        "99a8611453de4b1ab16c692cf87ba58d": {
          "model_module": "@jupyter-widgets/controls",
          "model_name": "DescriptionStyleModel",
          "model_module_version": "1.5.0",
          "state": {
            "_model_module": "@jupyter-widgets/controls",
            "_model_module_version": "1.5.0",
            "_model_name": "DescriptionStyleModel",
            "_view_count": null,
            "_view_module": "@jupyter-widgets/base",
            "_view_module_version": "1.2.0",
            "_view_name": "StyleView",
            "description_width": ""
          }
        },
        "e3cfc37054fd45688fade7f8a9a92958": {
          "model_module": "@jupyter-widgets/controls",
          "model_name": "HBoxModel",
          "model_module_version": "1.5.0",
          "state": {
            "_dom_classes": [],
            "_model_module": "@jupyter-widgets/controls",
            "_model_module_version": "1.5.0",
            "_model_name": "HBoxModel",
            "_view_count": null,
            "_view_module": "@jupyter-widgets/controls",
            "_view_module_version": "1.5.0",
            "_view_name": "HBoxView",
            "box_style": "",
            "children": [
              "IPY_MODEL_c6f0e2caff1b48f79b929c1306a80e05",
              "IPY_MODEL_847a8cf002cc4212b9d33808db6ce67a",
              "IPY_MODEL_d2f963d4bca04d7e93e866c01e269c5f"
            ],
            "layout": "IPY_MODEL_2a36fca6e9c244c69e83b2def66d9a20"
          }
        },
        "c6f0e2caff1b48f79b929c1306a80e05": {
          "model_module": "@jupyter-widgets/controls",
          "model_name": "HTMLModel",
          "model_module_version": "1.5.0",
          "state": {
            "_dom_classes": [],
            "_model_module": "@jupyter-widgets/controls",
            "_model_module_version": "1.5.0",
            "_model_name": "HTMLModel",
            "_view_count": null,
            "_view_module": "@jupyter-widgets/controls",
            "_view_module_version": "1.5.0",
            "_view_name": "HTMLView",
            "description": "",
            "description_tooltip": null,
            "layout": "IPY_MODEL_c996a3b7c38143c8b0dd905360c84833",
            "placeholder": "​",
            "style": "IPY_MODEL_55dd47a265134faea64801bfefb62ef8",
            "value": "Dl Size...: 100%"
          }
        },
        "847a8cf002cc4212b9d33808db6ce67a": {
          "model_module": "@jupyter-widgets/controls",
          "model_name": "FloatProgressModel",
          "model_module_version": "1.5.0",
          "state": {
            "_dom_classes": [],
            "_model_module": "@jupyter-widgets/controls",
            "_model_module_version": "1.5.0",
            "_model_name": "FloatProgressModel",
            "_view_count": null,
            "_view_module": "@jupyter-widgets/controls",
            "_view_module_version": "1.5.0",
            "_view_name": "ProgressView",
            "bar_style": "success",
            "description": "",
            "description_tooltip": null,
            "layout": "IPY_MODEL_54e326ca40d24c3180c229cd796ff558",
            "max": 1,
            "min": 0,
            "orientation": "horizontal",
            "style": "IPY_MODEL_92b73f4b94b14d28b1cf388a70abb249",
            "value": 1
          }
        },
        "d2f963d4bca04d7e93e866c01e269c5f": {
          "model_module": "@jupyter-widgets/controls",
          "model_name": "HTMLModel",
          "model_module_version": "1.5.0",
          "state": {
            "_dom_classes": [],
            "_model_module": "@jupyter-widgets/controls",
            "_model_module_version": "1.5.0",
            "_model_name": "HTMLModel",
            "_view_count": null,
            "_view_module": "@jupyter-widgets/controls",
            "_view_module_version": "1.5.0",
            "_view_name": "HTMLView",
            "description": "",
            "description_tooltip": null,
            "layout": "IPY_MODEL_cde391f189734e2e9bf0d85a0392a9e4",
            "placeholder": "​",
            "style": "IPY_MODEL_b0343b1337cd4cab8260bc1f6f59504e",
            "value": " 80/80 [00:08&lt;00:00,  9.17 MiB/s]"
          }
        },
        "2a36fca6e9c244c69e83b2def66d9a20": {
          "model_module": "@jupyter-widgets/base",
          "model_name": "LayoutModel",
          "model_module_version": "1.2.0",
          "state": {
            "_model_module": "@jupyter-widgets/base",
            "_model_module_version": "1.2.0",
            "_model_name": "LayoutModel",
            "_view_count": null,
            "_view_module": "@jupyter-widgets/base",
            "_view_module_version": "1.2.0",
            "_view_name": "LayoutView",
            "align_content": null,
            "align_items": null,
            "align_self": null,
            "border": null,
            "bottom": null,
            "display": null,
            "flex": null,
            "flex_flow": null,
            "grid_area": null,
            "grid_auto_columns": null,
            "grid_auto_flow": null,
            "grid_auto_rows": null,
            "grid_column": null,
            "grid_gap": null,
            "grid_row": null,
            "grid_template_areas": null,
            "grid_template_columns": null,
            "grid_template_rows": null,
            "height": null,
            "justify_content": null,
            "justify_items": null,
            "left": null,
            "margin": null,
            "max_height": null,
            "max_width": null,
            "min_height": null,
            "min_width": null,
            "object_fit": null,
            "object_position": null,
            "order": null,
            "overflow": null,
            "overflow_x": null,
            "overflow_y": null,
            "padding": null,
            "right": null,
            "top": null,
            "visibility": null,
            "width": null
          }
        },
        "c996a3b7c38143c8b0dd905360c84833": {
          "model_module": "@jupyter-widgets/base",
          "model_name": "LayoutModel",
          "model_module_version": "1.2.0",
          "state": {
            "_model_module": "@jupyter-widgets/base",
            "_model_module_version": "1.2.0",
            "_model_name": "LayoutModel",
            "_view_count": null,
            "_view_module": "@jupyter-widgets/base",
            "_view_module_version": "1.2.0",
            "_view_name": "LayoutView",
            "align_content": null,
            "align_items": null,
            "align_self": null,
            "border": null,
            "bottom": null,
            "display": null,
            "flex": null,
            "flex_flow": null,
            "grid_area": null,
            "grid_auto_columns": null,
            "grid_auto_flow": null,
            "grid_auto_rows": null,
            "grid_column": null,
            "grid_gap": null,
            "grid_row": null,
            "grid_template_areas": null,
            "grid_template_columns": null,
            "grid_template_rows": null,
            "height": null,
            "justify_content": null,
            "justify_items": null,
            "left": null,
            "margin": null,
            "max_height": null,
            "max_width": null,
            "min_height": null,
            "min_width": null,
            "object_fit": null,
            "object_position": null,
            "order": null,
            "overflow": null,
            "overflow_x": null,
            "overflow_y": null,
            "padding": null,
            "right": null,
            "top": null,
            "visibility": null,
            "width": null
          }
        },
        "55dd47a265134faea64801bfefb62ef8": {
          "model_module": "@jupyter-widgets/controls",
          "model_name": "DescriptionStyleModel",
          "model_module_version": "1.5.0",
          "state": {
            "_model_module": "@jupyter-widgets/controls",
            "_model_module_version": "1.5.0",
            "_model_name": "DescriptionStyleModel",
            "_view_count": null,
            "_view_module": "@jupyter-widgets/base",
            "_view_module_version": "1.2.0",
            "_view_name": "StyleView",
            "description_width": ""
          }
        },
        "54e326ca40d24c3180c229cd796ff558": {
          "model_module": "@jupyter-widgets/base",
          "model_name": "LayoutModel",
          "model_module_version": "1.2.0",
          "state": {
            "_model_module": "@jupyter-widgets/base",
            "_model_module_version": "1.2.0",
            "_model_name": "LayoutModel",
            "_view_count": null,
            "_view_module": "@jupyter-widgets/base",
            "_view_module_version": "1.2.0",
            "_view_name": "LayoutView",
            "align_content": null,
            "align_items": null,
            "align_self": null,
            "border": null,
            "bottom": null,
            "display": null,
            "flex": null,
            "flex_flow": null,
            "grid_area": null,
            "grid_auto_columns": null,
            "grid_auto_flow": null,
            "grid_auto_rows": null,
            "grid_column": null,
            "grid_gap": null,
            "grid_row": null,
            "grid_template_areas": null,
            "grid_template_columns": null,
            "grid_template_rows": null,
            "height": null,
            "justify_content": null,
            "justify_items": null,
            "left": null,
            "margin": null,
            "max_height": null,
            "max_width": null,
            "min_height": null,
            "min_width": null,
            "object_fit": null,
            "object_position": null,
            "order": null,
            "overflow": null,
            "overflow_x": null,
            "overflow_y": null,
            "padding": null,
            "right": null,
            "top": null,
            "visibility": null,
            "width": "20px"
          }
        },
        "92b73f4b94b14d28b1cf388a70abb249": {
          "model_module": "@jupyter-widgets/controls",
          "model_name": "ProgressStyleModel",
          "model_module_version": "1.5.0",
          "state": {
            "_model_module": "@jupyter-widgets/controls",
            "_model_module_version": "1.5.0",
            "_model_name": "ProgressStyleModel",
            "_view_count": null,
            "_view_module": "@jupyter-widgets/base",
            "_view_module_version": "1.2.0",
            "_view_name": "StyleView",
            "bar_color": null,
            "description_width": ""
          }
        },
        "cde391f189734e2e9bf0d85a0392a9e4": {
          "model_module": "@jupyter-widgets/base",
          "model_name": "LayoutModel",
          "model_module_version": "1.2.0",
          "state": {
            "_model_module": "@jupyter-widgets/base",
            "_model_module_version": "1.2.0",
            "_model_name": "LayoutModel",
            "_view_count": null,
            "_view_module": "@jupyter-widgets/base",
            "_view_module_version": "1.2.0",
            "_view_name": "LayoutView",
            "align_content": null,
            "align_items": null,
            "align_self": null,
            "border": null,
            "bottom": null,
            "display": null,
            "flex": null,
            "flex_flow": null,
            "grid_area": null,
            "grid_auto_columns": null,
            "grid_auto_flow": null,
            "grid_auto_rows": null,
            "grid_column": null,
            "grid_gap": null,
            "grid_row": null,
            "grid_template_areas": null,
            "grid_template_columns": null,
            "grid_template_rows": null,
            "height": null,
            "justify_content": null,
            "justify_items": null,
            "left": null,
            "margin": null,
            "max_height": null,
            "max_width": null,
            "min_height": null,
            "min_width": null,
            "object_fit": null,
            "object_position": null,
            "order": null,
            "overflow": null,
            "overflow_x": null,
            "overflow_y": null,
            "padding": null,
            "right": null,
            "top": null,
            "visibility": null,
            "width": null
          }
        },
        "b0343b1337cd4cab8260bc1f6f59504e": {
          "model_module": "@jupyter-widgets/controls",
          "model_name": "DescriptionStyleModel",
          "model_module_version": "1.5.0",
          "state": {
            "_model_module": "@jupyter-widgets/controls",
            "_model_module_version": "1.5.0",
            "_model_name": "DescriptionStyleModel",
            "_view_count": null,
            "_view_module": "@jupyter-widgets/base",
            "_view_module_version": "1.2.0",
            "_view_name": "StyleView",
            "description_width": ""
          }
        },
        "7546303d6c974376902cbea93c07399b": {
          "model_module": "@jupyter-widgets/controls",
          "model_name": "HBoxModel",
          "model_module_version": "1.5.0",
          "state": {
            "_dom_classes": [],
            "_model_module": "@jupyter-widgets/controls",
            "_model_module_version": "1.5.0",
            "_model_name": "HBoxModel",
            "_view_count": null,
            "_view_module": "@jupyter-widgets/controls",
            "_view_module_version": "1.5.0",
            "_view_name": "HBoxView",
            "box_style": "",
            "children": [
              "IPY_MODEL_a6b66f5c196144fa9d93aca3a54d6b2c",
              "IPY_MODEL_4605e1a740d64903956a9cef477c26a4",
              "IPY_MODEL_405863a964ca4d11b98dcdb7bb9c1e40"
            ],
            "layout": "IPY_MODEL_ec98b0c3c85e4e81a3d7650baeeb89bb"
          }
        },
        "a6b66f5c196144fa9d93aca3a54d6b2c": {
          "model_module": "@jupyter-widgets/controls",
          "model_name": "HTMLModel",
          "model_module_version": "1.5.0",
          "state": {
            "_dom_classes": [],
            "_model_module": "@jupyter-widgets/controls",
            "_model_module_version": "1.5.0",
            "_model_name": "HTMLModel",
            "_view_count": null,
            "_view_module": "@jupyter-widgets/controls",
            "_view_module_version": "1.5.0",
            "_view_name": "HTMLView",
            "description": "",
            "description_tooltip": null,
            "layout": "IPY_MODEL_4d2370fa509e4e11873d984dea36f56c",
            "placeholder": "​",
            "style": "IPY_MODEL_1faf727801a44de3b5f6cf46e2328e93",
            "value": "Generating splits...: 100%"
          }
        },
        "4605e1a740d64903956a9cef477c26a4": {
          "model_module": "@jupyter-widgets/controls",
          "model_name": "FloatProgressModel",
          "model_module_version": "1.5.0",
          "state": {
            "_dom_classes": [],
            "_model_module": "@jupyter-widgets/controls",
            "_model_module_version": "1.5.0",
            "_model_name": "FloatProgressModel",
            "_view_count": null,
            "_view_module": "@jupyter-widgets/controls",
            "_view_module_version": "1.5.0",
            "_view_name": "ProgressView",
            "bar_style": "",
            "description": "",
            "description_tooltip": null,
            "layout": "IPY_MODEL_ba3408c6f3e741ab9ee98aa16e1bb937",
            "max": 3,
            "min": 0,
            "orientation": "horizontal",
            "style": "IPY_MODEL_bf354a9cdf79417f8eea7fd413d17f90",
            "value": 3
          }
        },
        "405863a964ca4d11b98dcdb7bb9c1e40": {
          "model_module": "@jupyter-widgets/controls",
          "model_name": "HTMLModel",
          "model_module_version": "1.5.0",
          "state": {
            "_dom_classes": [],
            "_model_module": "@jupyter-widgets/controls",
            "_model_module_version": "1.5.0",
            "_model_name": "HTMLModel",
            "_view_count": null,
            "_view_module": "@jupyter-widgets/controls",
            "_view_module_version": "1.5.0",
            "_view_name": "HTMLView",
            "description": "",
            "description_tooltip": null,
            "layout": "IPY_MODEL_1f1db333878545abbdc29f0251d5c7d1",
            "placeholder": "​",
            "style": "IPY_MODEL_af932b5a54cb4145921b2c171b49fa9d",
            "value": " 3/3 [00:49&lt;00:00, 16.11s/ splits]"
          }
        },
        "ec98b0c3c85e4e81a3d7650baeeb89bb": {
          "model_module": "@jupyter-widgets/base",
          "model_name": "LayoutModel",
          "model_module_version": "1.2.0",
          "state": {
            "_model_module": "@jupyter-widgets/base",
            "_model_module_version": "1.2.0",
            "_model_name": "LayoutModel",
            "_view_count": null,
            "_view_module": "@jupyter-widgets/base",
            "_view_module_version": "1.2.0",
            "_view_name": "LayoutView",
            "align_content": null,
            "align_items": null,
            "align_self": null,
            "border": null,
            "bottom": null,
            "display": null,
            "flex": null,
            "flex_flow": null,
            "grid_area": null,
            "grid_auto_columns": null,
            "grid_auto_flow": null,
            "grid_auto_rows": null,
            "grid_column": null,
            "grid_gap": null,
            "grid_row": null,
            "grid_template_areas": null,
            "grid_template_columns": null,
            "grid_template_rows": null,
            "height": null,
            "justify_content": null,
            "justify_items": null,
            "left": null,
            "margin": null,
            "max_height": null,
            "max_width": null,
            "min_height": null,
            "min_width": null,
            "object_fit": null,
            "object_position": null,
            "order": null,
            "overflow": null,
            "overflow_x": null,
            "overflow_y": null,
            "padding": null,
            "right": null,
            "top": null,
            "visibility": "hidden",
            "width": null
          }
        },
        "4d2370fa509e4e11873d984dea36f56c": {
          "model_module": "@jupyter-widgets/base",
          "model_name": "LayoutModel",
          "model_module_version": "1.2.0",
          "state": {
            "_model_module": "@jupyter-widgets/base",
            "_model_module_version": "1.2.0",
            "_model_name": "LayoutModel",
            "_view_count": null,
            "_view_module": "@jupyter-widgets/base",
            "_view_module_version": "1.2.0",
            "_view_name": "LayoutView",
            "align_content": null,
            "align_items": null,
            "align_self": null,
            "border": null,
            "bottom": null,
            "display": null,
            "flex": null,
            "flex_flow": null,
            "grid_area": null,
            "grid_auto_columns": null,
            "grid_auto_flow": null,
            "grid_auto_rows": null,
            "grid_column": null,
            "grid_gap": null,
            "grid_row": null,
            "grid_template_areas": null,
            "grid_template_columns": null,
            "grid_template_rows": null,
            "height": null,
            "justify_content": null,
            "justify_items": null,
            "left": null,
            "margin": null,
            "max_height": null,
            "max_width": null,
            "min_height": null,
            "min_width": null,
            "object_fit": null,
            "object_position": null,
            "order": null,
            "overflow": null,
            "overflow_x": null,
            "overflow_y": null,
            "padding": null,
            "right": null,
            "top": null,
            "visibility": null,
            "width": null
          }
        },
        "1faf727801a44de3b5f6cf46e2328e93": {
          "model_module": "@jupyter-widgets/controls",
          "model_name": "DescriptionStyleModel",
          "model_module_version": "1.5.0",
          "state": {
            "_model_module": "@jupyter-widgets/controls",
            "_model_module_version": "1.5.0",
            "_model_name": "DescriptionStyleModel",
            "_view_count": null,
            "_view_module": "@jupyter-widgets/base",
            "_view_module_version": "1.2.0",
            "_view_name": "StyleView",
            "description_width": ""
          }
        },
        "ba3408c6f3e741ab9ee98aa16e1bb937": {
          "model_module": "@jupyter-widgets/base",
          "model_name": "LayoutModel",
          "model_module_version": "1.2.0",
          "state": {
            "_model_module": "@jupyter-widgets/base",
            "_model_module_version": "1.2.0",
            "_model_name": "LayoutModel",
            "_view_count": null,
            "_view_module": "@jupyter-widgets/base",
            "_view_module_version": "1.2.0",
            "_view_name": "LayoutView",
            "align_content": null,
            "align_items": null,
            "align_self": null,
            "border": null,
            "bottom": null,
            "display": null,
            "flex": null,
            "flex_flow": null,
            "grid_area": null,
            "grid_auto_columns": null,
            "grid_auto_flow": null,
            "grid_auto_rows": null,
            "grid_column": null,
            "grid_gap": null,
            "grid_row": null,
            "grid_template_areas": null,
            "grid_template_columns": null,
            "grid_template_rows": null,
            "height": null,
            "justify_content": null,
            "justify_items": null,
            "left": null,
            "margin": null,
            "max_height": null,
            "max_width": null,
            "min_height": null,
            "min_width": null,
            "object_fit": null,
            "object_position": null,
            "order": null,
            "overflow": null,
            "overflow_x": null,
            "overflow_y": null,
            "padding": null,
            "right": null,
            "top": null,
            "visibility": null,
            "width": null
          }
        },
        "bf354a9cdf79417f8eea7fd413d17f90": {
          "model_module": "@jupyter-widgets/controls",
          "model_name": "ProgressStyleModel",
          "model_module_version": "1.5.0",
          "state": {
            "_model_module": "@jupyter-widgets/controls",
            "_model_module_version": "1.5.0",
            "_model_name": "ProgressStyleModel",
            "_view_count": null,
            "_view_module": "@jupyter-widgets/base",
            "_view_module_version": "1.2.0",
            "_view_name": "StyleView",
            "bar_color": null,
            "description_width": ""
          }
        },
        "1f1db333878545abbdc29f0251d5c7d1": {
          "model_module": "@jupyter-widgets/base",
          "model_name": "LayoutModel",
          "model_module_version": "1.2.0",
          "state": {
            "_model_module": "@jupyter-widgets/base",
            "_model_module_version": "1.2.0",
            "_model_name": "LayoutModel",
            "_view_count": null,
            "_view_module": "@jupyter-widgets/base",
            "_view_module_version": "1.2.0",
            "_view_name": "LayoutView",
            "align_content": null,
            "align_items": null,
            "align_self": null,
            "border": null,
            "bottom": null,
            "display": null,
            "flex": null,
            "flex_flow": null,
            "grid_area": null,
            "grid_auto_columns": null,
            "grid_auto_flow": null,
            "grid_auto_rows": null,
            "grid_column": null,
            "grid_gap": null,
            "grid_row": null,
            "grid_template_areas": null,
            "grid_template_columns": null,
            "grid_template_rows": null,
            "height": null,
            "justify_content": null,
            "justify_items": null,
            "left": null,
            "margin": null,
            "max_height": null,
            "max_width": null,
            "min_height": null,
            "min_width": null,
            "object_fit": null,
            "object_position": null,
            "order": null,
            "overflow": null,
            "overflow_x": null,
            "overflow_y": null,
            "padding": null,
            "right": null,
            "top": null,
            "visibility": null,
            "width": null
          }
        },
        "af932b5a54cb4145921b2c171b49fa9d": {
          "model_module": "@jupyter-widgets/controls",
          "model_name": "DescriptionStyleModel",
          "model_module_version": "1.5.0",
          "state": {
            "_model_module": "@jupyter-widgets/controls",
            "_model_module_version": "1.5.0",
            "_model_name": "DescriptionStyleModel",
            "_view_count": null,
            "_view_module": "@jupyter-widgets/base",
            "_view_module_version": "1.2.0",
            "_view_name": "StyleView",
            "description_width": ""
          }
        },
        "b16425068b3f44fd973ff6b39617afce": {
          "model_module": "@jupyter-widgets/controls",
          "model_name": "HBoxModel",
          "model_module_version": "1.5.0",
          "state": {
            "_dom_classes": [],
            "_model_module": "@jupyter-widgets/controls",
            "_model_module_version": "1.5.0",
            "_model_name": "HBoxModel",
            "_view_count": null,
            "_view_module": "@jupyter-widgets/controls",
            "_view_module_version": "1.5.0",
            "_view_name": "HBoxView",
            "box_style": "",
            "children": [
              "IPY_MODEL_bb79bf5862b74810832515d3ab42e10c",
              "IPY_MODEL_eee1d080110d482cafe5e5c6d597225e",
              "IPY_MODEL_cb2f881b9d334b03b0e22c870aaa35da"
            ],
            "layout": "IPY_MODEL_3a304c8c49d944ee9f66df1ec8e2ca7b"
          }
        },
        "bb79bf5862b74810832515d3ab42e10c": {
          "model_module": "@jupyter-widgets/controls",
          "model_name": "HTMLModel",
          "model_module_version": "1.5.0",
          "state": {
            "_dom_classes": [],
            "_model_module": "@jupyter-widgets/controls",
            "_model_module_version": "1.5.0",
            "_model_name": "HTMLModel",
            "_view_count": null,
            "_view_module": "@jupyter-widgets/controls",
            "_view_module_version": "1.5.0",
            "_view_name": "HTMLView",
            "description": "",
            "description_tooltip": null,
            "layout": "IPY_MODEL_eb050fbe2c7e4ed2aa3ffe5e82131b46",
            "placeholder": "​",
            "style": "IPY_MODEL_9314ee1095d44ac69f9ebb4a459a68b4",
            "value": "Generating train examples...:  99%"
          }
        },
        "eee1d080110d482cafe5e5c6d597225e": {
          "model_module": "@jupyter-widgets/controls",
          "model_name": "FloatProgressModel",
          "model_module_version": "1.5.0",
          "state": {
            "_dom_classes": [],
            "_model_module": "@jupyter-widgets/controls",
            "_model_module_version": "1.5.0",
            "_model_name": "FloatProgressModel",
            "_view_count": null,
            "_view_module": "@jupyter-widgets/controls",
            "_view_module_version": "1.5.0",
            "_view_name": "ProgressView",
            "bar_style": "",
            "description": "",
            "description_tooltip": null,
            "layout": "IPY_MODEL_995f007a275949e38c35aa31e789a7dd",
            "max": 25000,
            "min": 0,
            "orientation": "horizontal",
            "style": "IPY_MODEL_6c9a4d936e0c4f5588e49b92c153609e",
            "value": 25000
          }
        },
        "cb2f881b9d334b03b0e22c870aaa35da": {
          "model_module": "@jupyter-widgets/controls",
          "model_name": "HTMLModel",
          "model_module_version": "1.5.0",
          "state": {
            "_dom_classes": [],
            "_model_module": "@jupyter-widgets/controls",
            "_model_module_version": "1.5.0",
            "_model_name": "HTMLModel",
            "_view_count": null,
            "_view_module": "@jupyter-widgets/controls",
            "_view_module_version": "1.5.0",
            "_view_name": "HTMLView",
            "description": "",
            "description_tooltip": null,
            "layout": "IPY_MODEL_c172705ff7124aee88bd3881aafcec73",
            "placeholder": "​",
            "style": "IPY_MODEL_a483a07a6769450db952773bc03b8eb7",
            "value": " 24727/25000 [00:15&lt;00:00, 2965.97 examples/s]"
          }
        },
        "3a304c8c49d944ee9f66df1ec8e2ca7b": {
          "model_module": "@jupyter-widgets/base",
          "model_name": "LayoutModel",
          "model_module_version": "1.2.0",
          "state": {
            "_model_module": "@jupyter-widgets/base",
            "_model_module_version": "1.2.0",
            "_model_name": "LayoutModel",
            "_view_count": null,
            "_view_module": "@jupyter-widgets/base",
            "_view_module_version": "1.2.0",
            "_view_name": "LayoutView",
            "align_content": null,
            "align_items": null,
            "align_self": null,
            "border": null,
            "bottom": null,
            "display": null,
            "flex": null,
            "flex_flow": null,
            "grid_area": null,
            "grid_auto_columns": null,
            "grid_auto_flow": null,
            "grid_auto_rows": null,
            "grid_column": null,
            "grid_gap": null,
            "grid_row": null,
            "grid_template_areas": null,
            "grid_template_columns": null,
            "grid_template_rows": null,
            "height": null,
            "justify_content": null,
            "justify_items": null,
            "left": null,
            "margin": null,
            "max_height": null,
            "max_width": null,
            "min_height": null,
            "min_width": null,
            "object_fit": null,
            "object_position": null,
            "order": null,
            "overflow": null,
            "overflow_x": null,
            "overflow_y": null,
            "padding": null,
            "right": null,
            "top": null,
            "visibility": "hidden",
            "width": null
          }
        },
        "eb050fbe2c7e4ed2aa3ffe5e82131b46": {
          "model_module": "@jupyter-widgets/base",
          "model_name": "LayoutModel",
          "model_module_version": "1.2.0",
          "state": {
            "_model_module": "@jupyter-widgets/base",
            "_model_module_version": "1.2.0",
            "_model_name": "LayoutModel",
            "_view_count": null,
            "_view_module": "@jupyter-widgets/base",
            "_view_module_version": "1.2.0",
            "_view_name": "LayoutView",
            "align_content": null,
            "align_items": null,
            "align_self": null,
            "border": null,
            "bottom": null,
            "display": null,
            "flex": null,
            "flex_flow": null,
            "grid_area": null,
            "grid_auto_columns": null,
            "grid_auto_flow": null,
            "grid_auto_rows": null,
            "grid_column": null,
            "grid_gap": null,
            "grid_row": null,
            "grid_template_areas": null,
            "grid_template_columns": null,
            "grid_template_rows": null,
            "height": null,
            "justify_content": null,
            "justify_items": null,
            "left": null,
            "margin": null,
            "max_height": null,
            "max_width": null,
            "min_height": null,
            "min_width": null,
            "object_fit": null,
            "object_position": null,
            "order": null,
            "overflow": null,
            "overflow_x": null,
            "overflow_y": null,
            "padding": null,
            "right": null,
            "top": null,
            "visibility": null,
            "width": null
          }
        },
        "9314ee1095d44ac69f9ebb4a459a68b4": {
          "model_module": "@jupyter-widgets/controls",
          "model_name": "DescriptionStyleModel",
          "model_module_version": "1.5.0",
          "state": {
            "_model_module": "@jupyter-widgets/controls",
            "_model_module_version": "1.5.0",
            "_model_name": "DescriptionStyleModel",
            "_view_count": null,
            "_view_module": "@jupyter-widgets/base",
            "_view_module_version": "1.2.0",
            "_view_name": "StyleView",
            "description_width": ""
          }
        },
        "995f007a275949e38c35aa31e789a7dd": {
          "model_module": "@jupyter-widgets/base",
          "model_name": "LayoutModel",
          "model_module_version": "1.2.0",
          "state": {
            "_model_module": "@jupyter-widgets/base",
            "_model_module_version": "1.2.0",
            "_model_name": "LayoutModel",
            "_view_count": null,
            "_view_module": "@jupyter-widgets/base",
            "_view_module_version": "1.2.0",
            "_view_name": "LayoutView",
            "align_content": null,
            "align_items": null,
            "align_self": null,
            "border": null,
            "bottom": null,
            "display": null,
            "flex": null,
            "flex_flow": null,
            "grid_area": null,
            "grid_auto_columns": null,
            "grid_auto_flow": null,
            "grid_auto_rows": null,
            "grid_column": null,
            "grid_gap": null,
            "grid_row": null,
            "grid_template_areas": null,
            "grid_template_columns": null,
            "grid_template_rows": null,
            "height": null,
            "justify_content": null,
            "justify_items": null,
            "left": null,
            "margin": null,
            "max_height": null,
            "max_width": null,
            "min_height": null,
            "min_width": null,
            "object_fit": null,
            "object_position": null,
            "order": null,
            "overflow": null,
            "overflow_x": null,
            "overflow_y": null,
            "padding": null,
            "right": null,
            "top": null,
            "visibility": null,
            "width": null
          }
        },
        "6c9a4d936e0c4f5588e49b92c153609e": {
          "model_module": "@jupyter-widgets/controls",
          "model_name": "ProgressStyleModel",
          "model_module_version": "1.5.0",
          "state": {
            "_model_module": "@jupyter-widgets/controls",
            "_model_module_version": "1.5.0",
            "_model_name": "ProgressStyleModel",
            "_view_count": null,
            "_view_module": "@jupyter-widgets/base",
            "_view_module_version": "1.2.0",
            "_view_name": "StyleView",
            "bar_color": null,
            "description_width": ""
          }
        },
        "c172705ff7124aee88bd3881aafcec73": {
          "model_module": "@jupyter-widgets/base",
          "model_name": "LayoutModel",
          "model_module_version": "1.2.0",
          "state": {
            "_model_module": "@jupyter-widgets/base",
            "_model_module_version": "1.2.0",
            "_model_name": "LayoutModel",
            "_view_count": null,
            "_view_module": "@jupyter-widgets/base",
            "_view_module_version": "1.2.0",
            "_view_name": "LayoutView",
            "align_content": null,
            "align_items": null,
            "align_self": null,
            "border": null,
            "bottom": null,
            "display": null,
            "flex": null,
            "flex_flow": null,
            "grid_area": null,
            "grid_auto_columns": null,
            "grid_auto_flow": null,
            "grid_auto_rows": null,
            "grid_column": null,
            "grid_gap": null,
            "grid_row": null,
            "grid_template_areas": null,
            "grid_template_columns": null,
            "grid_template_rows": null,
            "height": null,
            "justify_content": null,
            "justify_items": null,
            "left": null,
            "margin": null,
            "max_height": null,
            "max_width": null,
            "min_height": null,
            "min_width": null,
            "object_fit": null,
            "object_position": null,
            "order": null,
            "overflow": null,
            "overflow_x": null,
            "overflow_y": null,
            "padding": null,
            "right": null,
            "top": null,
            "visibility": null,
            "width": null
          }
        },
        "a483a07a6769450db952773bc03b8eb7": {
          "model_module": "@jupyter-widgets/controls",
          "model_name": "DescriptionStyleModel",
          "model_module_version": "1.5.0",
          "state": {
            "_model_module": "@jupyter-widgets/controls",
            "_model_module_version": "1.5.0",
            "_model_name": "DescriptionStyleModel",
            "_view_count": null,
            "_view_module": "@jupyter-widgets/base",
            "_view_module_version": "1.2.0",
            "_view_name": "StyleView",
            "description_width": ""
          }
        },
        "9a6966e8d1a449918e56308beb59ec99": {
          "model_module": "@jupyter-widgets/controls",
          "model_name": "HBoxModel",
          "model_module_version": "1.5.0",
          "state": {
            "_dom_classes": [],
            "_model_module": "@jupyter-widgets/controls",
            "_model_module_version": "1.5.0",
            "_model_name": "HBoxModel",
            "_view_count": null,
            "_view_module": "@jupyter-widgets/controls",
            "_view_module_version": "1.5.0",
            "_view_name": "HBoxView",
            "box_style": "",
            "children": [
              "IPY_MODEL_7679d22e731a419895d1a6e281bb3e3f",
              "IPY_MODEL_9448c674169649c0a5ccb857ede51c86",
              "IPY_MODEL_55787ff4e0f24923b42227ab93b6e6f7"
            ],
            "layout": "IPY_MODEL_b5dccd375fe24c85b4c82d99bf667e61"
          }
        },
        "7679d22e731a419895d1a6e281bb3e3f": {
          "model_module": "@jupyter-widgets/controls",
          "model_name": "HTMLModel",
          "model_module_version": "1.5.0",
          "state": {
            "_dom_classes": [],
            "_model_module": "@jupyter-widgets/controls",
            "_model_module_version": "1.5.0",
            "_model_name": "HTMLModel",
            "_view_count": null,
            "_view_module": "@jupyter-widgets/controls",
            "_view_module_version": "1.5.0",
            "_view_name": "HTMLView",
            "description": "",
            "description_tooltip": null,
            "layout": "IPY_MODEL_0232b8168d5346048093386fa6b4ad73",
            "placeholder": "​",
            "style": "IPY_MODEL_b5eed9d6b72b494c8a4df08308aa750e",
            "value": "Shuffling /root/tensorflow_datasets/imdb_reviews/plain_text/incomplete.RRHJZ3_1.0.0/imdb_reviews-train.tfrecord*...:   0%"
          }
        },
        "9448c674169649c0a5ccb857ede51c86": {
          "model_module": "@jupyter-widgets/controls",
          "model_name": "FloatProgressModel",
          "model_module_version": "1.5.0",
          "state": {
            "_dom_classes": [],
            "_model_module": "@jupyter-widgets/controls",
            "_model_module_version": "1.5.0",
            "_model_name": "FloatProgressModel",
            "_view_count": null,
            "_view_module": "@jupyter-widgets/controls",
            "_view_module_version": "1.5.0",
            "_view_name": "ProgressView",
            "bar_style": "",
            "description": "",
            "description_tooltip": null,
            "layout": "IPY_MODEL_b9fc4b0328df44059c03354176fcda4a",
            "max": 25000,
            "min": 0,
            "orientation": "horizontal",
            "style": "IPY_MODEL_e3d64f720aea4b6cbf787f6276d4d1f5",
            "value": 25000
          }
        },
        "55787ff4e0f24923b42227ab93b6e6f7": {
          "model_module": "@jupyter-widgets/controls",
          "model_name": "HTMLModel",
          "model_module_version": "1.5.0",
          "state": {
            "_dom_classes": [],
            "_model_module": "@jupyter-widgets/controls",
            "_model_module_version": "1.5.0",
            "_model_name": "HTMLModel",
            "_view_count": null,
            "_view_module": "@jupyter-widgets/controls",
            "_view_module_version": "1.5.0",
            "_view_name": "HTMLView",
            "description": "",
            "description_tooltip": null,
            "layout": "IPY_MODEL_bd5d79a0d23742eb9e8a6634ffe3e696",
            "placeholder": "​",
            "style": "IPY_MODEL_7417b2fd2f1244b3a203299eb2020c07",
            "value": " 0/25000 [00:00&lt;?, ? examples/s]"
          }
        },
        "b5dccd375fe24c85b4c82d99bf667e61": {
          "model_module": "@jupyter-widgets/base",
          "model_name": "LayoutModel",
          "model_module_version": "1.2.0",
          "state": {
            "_model_module": "@jupyter-widgets/base",
            "_model_module_version": "1.2.0",
            "_model_name": "LayoutModel",
            "_view_count": null,
            "_view_module": "@jupyter-widgets/base",
            "_view_module_version": "1.2.0",
            "_view_name": "LayoutView",
            "align_content": null,
            "align_items": null,
            "align_self": null,
            "border": null,
            "bottom": null,
            "display": null,
            "flex": null,
            "flex_flow": null,
            "grid_area": null,
            "grid_auto_columns": null,
            "grid_auto_flow": null,
            "grid_auto_rows": null,
            "grid_column": null,
            "grid_gap": null,
            "grid_row": null,
            "grid_template_areas": null,
            "grid_template_columns": null,
            "grid_template_rows": null,
            "height": null,
            "justify_content": null,
            "justify_items": null,
            "left": null,
            "margin": null,
            "max_height": null,
            "max_width": null,
            "min_height": null,
            "min_width": null,
            "object_fit": null,
            "object_position": null,
            "order": null,
            "overflow": null,
            "overflow_x": null,
            "overflow_y": null,
            "padding": null,
            "right": null,
            "top": null,
            "visibility": "hidden",
            "width": null
          }
        },
        "0232b8168d5346048093386fa6b4ad73": {
          "model_module": "@jupyter-widgets/base",
          "model_name": "LayoutModel",
          "model_module_version": "1.2.0",
          "state": {
            "_model_module": "@jupyter-widgets/base",
            "_model_module_version": "1.2.0",
            "_model_name": "LayoutModel",
            "_view_count": null,
            "_view_module": "@jupyter-widgets/base",
            "_view_module_version": "1.2.0",
            "_view_name": "LayoutView",
            "align_content": null,
            "align_items": null,
            "align_self": null,
            "border": null,
            "bottom": null,
            "display": null,
            "flex": null,
            "flex_flow": null,
            "grid_area": null,
            "grid_auto_columns": null,
            "grid_auto_flow": null,
            "grid_auto_rows": null,
            "grid_column": null,
            "grid_gap": null,
            "grid_row": null,
            "grid_template_areas": null,
            "grid_template_columns": null,
            "grid_template_rows": null,
            "height": null,
            "justify_content": null,
            "justify_items": null,
            "left": null,
            "margin": null,
            "max_height": null,
            "max_width": null,
            "min_height": null,
            "min_width": null,
            "object_fit": null,
            "object_position": null,
            "order": null,
            "overflow": null,
            "overflow_x": null,
            "overflow_y": null,
            "padding": null,
            "right": null,
            "top": null,
            "visibility": null,
            "width": null
          }
        },
        "b5eed9d6b72b494c8a4df08308aa750e": {
          "model_module": "@jupyter-widgets/controls",
          "model_name": "DescriptionStyleModel",
          "model_module_version": "1.5.0",
          "state": {
            "_model_module": "@jupyter-widgets/controls",
            "_model_module_version": "1.5.0",
            "_model_name": "DescriptionStyleModel",
            "_view_count": null,
            "_view_module": "@jupyter-widgets/base",
            "_view_module_version": "1.2.0",
            "_view_name": "StyleView",
            "description_width": ""
          }
        },
        "b9fc4b0328df44059c03354176fcda4a": {
          "model_module": "@jupyter-widgets/base",
          "model_name": "LayoutModel",
          "model_module_version": "1.2.0",
          "state": {
            "_model_module": "@jupyter-widgets/base",
            "_model_module_version": "1.2.0",
            "_model_name": "LayoutModel",
            "_view_count": null,
            "_view_module": "@jupyter-widgets/base",
            "_view_module_version": "1.2.0",
            "_view_name": "LayoutView",
            "align_content": null,
            "align_items": null,
            "align_self": null,
            "border": null,
            "bottom": null,
            "display": null,
            "flex": null,
            "flex_flow": null,
            "grid_area": null,
            "grid_auto_columns": null,
            "grid_auto_flow": null,
            "grid_auto_rows": null,
            "grid_column": null,
            "grid_gap": null,
            "grid_row": null,
            "grid_template_areas": null,
            "grid_template_columns": null,
            "grid_template_rows": null,
            "height": null,
            "justify_content": null,
            "justify_items": null,
            "left": null,
            "margin": null,
            "max_height": null,
            "max_width": null,
            "min_height": null,
            "min_width": null,
            "object_fit": null,
            "object_position": null,
            "order": null,
            "overflow": null,
            "overflow_x": null,
            "overflow_y": null,
            "padding": null,
            "right": null,
            "top": null,
            "visibility": null,
            "width": null
          }
        },
        "e3d64f720aea4b6cbf787f6276d4d1f5": {
          "model_module": "@jupyter-widgets/controls",
          "model_name": "ProgressStyleModel",
          "model_module_version": "1.5.0",
          "state": {
            "_model_module": "@jupyter-widgets/controls",
            "_model_module_version": "1.5.0",
            "_model_name": "ProgressStyleModel",
            "_view_count": null,
            "_view_module": "@jupyter-widgets/base",
            "_view_module_version": "1.2.0",
            "_view_name": "StyleView",
            "bar_color": null,
            "description_width": ""
          }
        },
        "bd5d79a0d23742eb9e8a6634ffe3e696": {
          "model_module": "@jupyter-widgets/base",
          "model_name": "LayoutModel",
          "model_module_version": "1.2.0",
          "state": {
            "_model_module": "@jupyter-widgets/base",
            "_model_module_version": "1.2.0",
            "_model_name": "LayoutModel",
            "_view_count": null,
            "_view_module": "@jupyter-widgets/base",
            "_view_module_version": "1.2.0",
            "_view_name": "LayoutView",
            "align_content": null,
            "align_items": null,
            "align_self": null,
            "border": null,
            "bottom": null,
            "display": null,
            "flex": null,
            "flex_flow": null,
            "grid_area": null,
            "grid_auto_columns": null,
            "grid_auto_flow": null,
            "grid_auto_rows": null,
            "grid_column": null,
            "grid_gap": null,
            "grid_row": null,
            "grid_template_areas": null,
            "grid_template_columns": null,
            "grid_template_rows": null,
            "height": null,
            "justify_content": null,
            "justify_items": null,
            "left": null,
            "margin": null,
            "max_height": null,
            "max_width": null,
            "min_height": null,
            "min_width": null,
            "object_fit": null,
            "object_position": null,
            "order": null,
            "overflow": null,
            "overflow_x": null,
            "overflow_y": null,
            "padding": null,
            "right": null,
            "top": null,
            "visibility": null,
            "width": null
          }
        },
        "7417b2fd2f1244b3a203299eb2020c07": {
          "model_module": "@jupyter-widgets/controls",
          "model_name": "DescriptionStyleModel",
          "model_module_version": "1.5.0",
          "state": {
            "_model_module": "@jupyter-widgets/controls",
            "_model_module_version": "1.5.0",
            "_model_name": "DescriptionStyleModel",
            "_view_count": null,
            "_view_module": "@jupyter-widgets/base",
            "_view_module_version": "1.2.0",
            "_view_name": "StyleView",
            "description_width": ""
          }
        },
        "c93e432e7f0b4550b43b57c6b7da9fab": {
          "model_module": "@jupyter-widgets/controls",
          "model_name": "HBoxModel",
          "model_module_version": "1.5.0",
          "state": {
            "_dom_classes": [],
            "_model_module": "@jupyter-widgets/controls",
            "_model_module_version": "1.5.0",
            "_model_name": "HBoxModel",
            "_view_count": null,
            "_view_module": "@jupyter-widgets/controls",
            "_view_module_version": "1.5.0",
            "_view_name": "HBoxView",
            "box_style": "",
            "children": [
              "IPY_MODEL_aca6fea6b1384f6ab3fa236e41c78b75",
              "IPY_MODEL_189b2955063c4c1f9b321339d2b9827c",
              "IPY_MODEL_52fd467f12c647c681d195cd1d534f97"
            ],
            "layout": "IPY_MODEL_ca99b39c43eb4004b13256938139ca7d"
          }
        },
        "aca6fea6b1384f6ab3fa236e41c78b75": {
          "model_module": "@jupyter-widgets/controls",
          "model_name": "HTMLModel",
          "model_module_version": "1.5.0",
          "state": {
            "_dom_classes": [],
            "_model_module": "@jupyter-widgets/controls",
            "_model_module_version": "1.5.0",
            "_model_name": "HTMLModel",
            "_view_count": null,
            "_view_module": "@jupyter-widgets/controls",
            "_view_module_version": "1.5.0",
            "_view_name": "HTMLView",
            "description": "",
            "description_tooltip": null,
            "layout": "IPY_MODEL_b9f56a46c7ef449e841bc89e51a77abd",
            "placeholder": "​",
            "style": "IPY_MODEL_7fd121ae84044d2d8368a1fa7b864770",
            "value": "Generating test examples...:  85%"
          }
        },
        "189b2955063c4c1f9b321339d2b9827c": {
          "model_module": "@jupyter-widgets/controls",
          "model_name": "FloatProgressModel",
          "model_module_version": "1.5.0",
          "state": {
            "_dom_classes": [],
            "_model_module": "@jupyter-widgets/controls",
            "_model_module_version": "1.5.0",
            "_model_name": "FloatProgressModel",
            "_view_count": null,
            "_view_module": "@jupyter-widgets/controls",
            "_view_module_version": "1.5.0",
            "_view_name": "ProgressView",
            "bar_style": "",
            "description": "",
            "description_tooltip": null,
            "layout": "IPY_MODEL_0a867d5283b247639ec3bee14d3c96c4",
            "max": 25000,
            "min": 0,
            "orientation": "horizontal",
            "style": "IPY_MODEL_75bdd99feddd44abbe8c0b9876ad106f",
            "value": 25000
          }
        },
        "52fd467f12c647c681d195cd1d534f97": {
          "model_module": "@jupyter-widgets/controls",
          "model_name": "HTMLModel",
          "model_module_version": "1.5.0",
          "state": {
            "_dom_classes": [],
            "_model_module": "@jupyter-widgets/controls",
            "_model_module_version": "1.5.0",
            "_model_name": "HTMLModel",
            "_view_count": null,
            "_view_module": "@jupyter-widgets/controls",
            "_view_module_version": "1.5.0",
            "_view_name": "HTMLView",
            "description": "",
            "description_tooltip": null,
            "layout": "IPY_MODEL_344b9c4adbb249f9acd73cf578cf7d53",
            "placeholder": "​",
            "style": "IPY_MODEL_e19981dd00754f2294e9fefa9e21aa95",
            "value": " 21332/25000 [00:05&lt;00:00, 4610.63 examples/s]"
          }
        },
        "ca99b39c43eb4004b13256938139ca7d": {
          "model_module": "@jupyter-widgets/base",
          "model_name": "LayoutModel",
          "model_module_version": "1.2.0",
          "state": {
            "_model_module": "@jupyter-widgets/base",
            "_model_module_version": "1.2.0",
            "_model_name": "LayoutModel",
            "_view_count": null,
            "_view_module": "@jupyter-widgets/base",
            "_view_module_version": "1.2.0",
            "_view_name": "LayoutView",
            "align_content": null,
            "align_items": null,
            "align_self": null,
            "border": null,
            "bottom": null,
            "display": null,
            "flex": null,
            "flex_flow": null,
            "grid_area": null,
            "grid_auto_columns": null,
            "grid_auto_flow": null,
            "grid_auto_rows": null,
            "grid_column": null,
            "grid_gap": null,
            "grid_row": null,
            "grid_template_areas": null,
            "grid_template_columns": null,
            "grid_template_rows": null,
            "height": null,
            "justify_content": null,
            "justify_items": null,
            "left": null,
            "margin": null,
            "max_height": null,
            "max_width": null,
            "min_height": null,
            "min_width": null,
            "object_fit": null,
            "object_position": null,
            "order": null,
            "overflow": null,
            "overflow_x": null,
            "overflow_y": null,
            "padding": null,
            "right": null,
            "top": null,
            "visibility": "hidden",
            "width": null
          }
        },
        "b9f56a46c7ef449e841bc89e51a77abd": {
          "model_module": "@jupyter-widgets/base",
          "model_name": "LayoutModel",
          "model_module_version": "1.2.0",
          "state": {
            "_model_module": "@jupyter-widgets/base",
            "_model_module_version": "1.2.0",
            "_model_name": "LayoutModel",
            "_view_count": null,
            "_view_module": "@jupyter-widgets/base",
            "_view_module_version": "1.2.0",
            "_view_name": "LayoutView",
            "align_content": null,
            "align_items": null,
            "align_self": null,
            "border": null,
            "bottom": null,
            "display": null,
            "flex": null,
            "flex_flow": null,
            "grid_area": null,
            "grid_auto_columns": null,
            "grid_auto_flow": null,
            "grid_auto_rows": null,
            "grid_column": null,
            "grid_gap": null,
            "grid_row": null,
            "grid_template_areas": null,
            "grid_template_columns": null,
            "grid_template_rows": null,
            "height": null,
            "justify_content": null,
            "justify_items": null,
            "left": null,
            "margin": null,
            "max_height": null,
            "max_width": null,
            "min_height": null,
            "min_width": null,
            "object_fit": null,
            "object_position": null,
            "order": null,
            "overflow": null,
            "overflow_x": null,
            "overflow_y": null,
            "padding": null,
            "right": null,
            "top": null,
            "visibility": null,
            "width": null
          }
        },
        "7fd121ae84044d2d8368a1fa7b864770": {
          "model_module": "@jupyter-widgets/controls",
          "model_name": "DescriptionStyleModel",
          "model_module_version": "1.5.0",
          "state": {
            "_model_module": "@jupyter-widgets/controls",
            "_model_module_version": "1.5.0",
            "_model_name": "DescriptionStyleModel",
            "_view_count": null,
            "_view_module": "@jupyter-widgets/base",
            "_view_module_version": "1.2.0",
            "_view_name": "StyleView",
            "description_width": ""
          }
        },
        "0a867d5283b247639ec3bee14d3c96c4": {
          "model_module": "@jupyter-widgets/base",
          "model_name": "LayoutModel",
          "model_module_version": "1.2.0",
          "state": {
            "_model_module": "@jupyter-widgets/base",
            "_model_module_version": "1.2.0",
            "_model_name": "LayoutModel",
            "_view_count": null,
            "_view_module": "@jupyter-widgets/base",
            "_view_module_version": "1.2.0",
            "_view_name": "LayoutView",
            "align_content": null,
            "align_items": null,
            "align_self": null,
            "border": null,
            "bottom": null,
            "display": null,
            "flex": null,
            "flex_flow": null,
            "grid_area": null,
            "grid_auto_columns": null,
            "grid_auto_flow": null,
            "grid_auto_rows": null,
            "grid_column": null,
            "grid_gap": null,
            "grid_row": null,
            "grid_template_areas": null,
            "grid_template_columns": null,
            "grid_template_rows": null,
            "height": null,
            "justify_content": null,
            "justify_items": null,
            "left": null,
            "margin": null,
            "max_height": null,
            "max_width": null,
            "min_height": null,
            "min_width": null,
            "object_fit": null,
            "object_position": null,
            "order": null,
            "overflow": null,
            "overflow_x": null,
            "overflow_y": null,
            "padding": null,
            "right": null,
            "top": null,
            "visibility": null,
            "width": null
          }
        },
        "75bdd99feddd44abbe8c0b9876ad106f": {
          "model_module": "@jupyter-widgets/controls",
          "model_name": "ProgressStyleModel",
          "model_module_version": "1.5.0",
          "state": {
            "_model_module": "@jupyter-widgets/controls",
            "_model_module_version": "1.5.0",
            "_model_name": "ProgressStyleModel",
            "_view_count": null,
            "_view_module": "@jupyter-widgets/base",
            "_view_module_version": "1.2.0",
            "_view_name": "StyleView",
            "bar_color": null,
            "description_width": ""
          }
        },
        "344b9c4adbb249f9acd73cf578cf7d53": {
          "model_module": "@jupyter-widgets/base",
          "model_name": "LayoutModel",
          "model_module_version": "1.2.0",
          "state": {
            "_model_module": "@jupyter-widgets/base",
            "_model_module_version": "1.2.0",
            "_model_name": "LayoutModel",
            "_view_count": null,
            "_view_module": "@jupyter-widgets/base",
            "_view_module_version": "1.2.0",
            "_view_name": "LayoutView",
            "align_content": null,
            "align_items": null,
            "align_self": null,
            "border": null,
            "bottom": null,
            "display": null,
            "flex": null,
            "flex_flow": null,
            "grid_area": null,
            "grid_auto_columns": null,
            "grid_auto_flow": null,
            "grid_auto_rows": null,
            "grid_column": null,
            "grid_gap": null,
            "grid_row": null,
            "grid_template_areas": null,
            "grid_template_columns": null,
            "grid_template_rows": null,
            "height": null,
            "justify_content": null,
            "justify_items": null,
            "left": null,
            "margin": null,
            "max_height": null,
            "max_width": null,
            "min_height": null,
            "min_width": null,
            "object_fit": null,
            "object_position": null,
            "order": null,
            "overflow": null,
            "overflow_x": null,
            "overflow_y": null,
            "padding": null,
            "right": null,
            "top": null,
            "visibility": null,
            "width": null
          }
        },
        "e19981dd00754f2294e9fefa9e21aa95": {
          "model_module": "@jupyter-widgets/controls",
          "model_name": "DescriptionStyleModel",
          "model_module_version": "1.5.0",
          "state": {
            "_model_module": "@jupyter-widgets/controls",
            "_model_module_version": "1.5.0",
            "_model_name": "DescriptionStyleModel",
            "_view_count": null,
            "_view_module": "@jupyter-widgets/base",
            "_view_module_version": "1.2.0",
            "_view_name": "StyleView",
            "description_width": ""
          }
        },
        "eed1ff140f034478aae3d61ef9dc48f1": {
          "model_module": "@jupyter-widgets/controls",
          "model_name": "HBoxModel",
          "model_module_version": "1.5.0",
          "state": {
            "_dom_classes": [],
            "_model_module": "@jupyter-widgets/controls",
            "_model_module_version": "1.5.0",
            "_model_name": "HBoxModel",
            "_view_count": null,
            "_view_module": "@jupyter-widgets/controls",
            "_view_module_version": "1.5.0",
            "_view_name": "HBoxView",
            "box_style": "",
            "children": [
              "IPY_MODEL_c4f6d12056264db6b1b0e26a8b8a93ff",
              "IPY_MODEL_5863240fbc0b4aceb689f1ca46d34a85",
              "IPY_MODEL_90390862cc2a442db994ba086fe376ca"
            ],
            "layout": "IPY_MODEL_52f30bb0d46546268af2eb80264c6186"
          }
        },
        "c4f6d12056264db6b1b0e26a8b8a93ff": {
          "model_module": "@jupyter-widgets/controls",
          "model_name": "HTMLModel",
          "model_module_version": "1.5.0",
          "state": {
            "_dom_classes": [],
            "_model_module": "@jupyter-widgets/controls",
            "_model_module_version": "1.5.0",
            "_model_name": "HTMLModel",
            "_view_count": null,
            "_view_module": "@jupyter-widgets/controls",
            "_view_module_version": "1.5.0",
            "_view_name": "HTMLView",
            "description": "",
            "description_tooltip": null,
            "layout": "IPY_MODEL_ff22a5f6af24427cb71fdfad378184a3",
            "placeholder": "​",
            "style": "IPY_MODEL_10a57be1978c45429bb38c4ed0e20cce",
            "value": "Shuffling /root/tensorflow_datasets/imdb_reviews/plain_text/incomplete.RRHJZ3_1.0.0/imdb_reviews-test.tfrecord*...:   0%"
          }
        },
        "5863240fbc0b4aceb689f1ca46d34a85": {
          "model_module": "@jupyter-widgets/controls",
          "model_name": "FloatProgressModel",
          "model_module_version": "1.5.0",
          "state": {
            "_dom_classes": [],
            "_model_module": "@jupyter-widgets/controls",
            "_model_module_version": "1.5.0",
            "_model_name": "FloatProgressModel",
            "_view_count": null,
            "_view_module": "@jupyter-widgets/controls",
            "_view_module_version": "1.5.0",
            "_view_name": "ProgressView",
            "bar_style": "",
            "description": "",
            "description_tooltip": null,
            "layout": "IPY_MODEL_856caec077a44b639e4ee15510f00387",
            "max": 25000,
            "min": 0,
            "orientation": "horizontal",
            "style": "IPY_MODEL_bcba124603544ee19428623d418fef9f",
            "value": 25000
          }
        },
        "90390862cc2a442db994ba086fe376ca": {
          "model_module": "@jupyter-widgets/controls",
          "model_name": "HTMLModel",
          "model_module_version": "1.5.0",
          "state": {
            "_dom_classes": [],
            "_model_module": "@jupyter-widgets/controls",
            "_model_module_version": "1.5.0",
            "_model_name": "HTMLModel",
            "_view_count": null,
            "_view_module": "@jupyter-widgets/controls",
            "_view_module_version": "1.5.0",
            "_view_name": "HTMLView",
            "description": "",
            "description_tooltip": null,
            "layout": "IPY_MODEL_c601800ef74d4aa4aa8be089b661f931",
            "placeholder": "​",
            "style": "IPY_MODEL_1428a1b43e454f7c901cc16f8a864756",
            "value": " 0/25000 [00:00&lt;?, ? examples/s]"
          }
        },
        "52f30bb0d46546268af2eb80264c6186": {
          "model_module": "@jupyter-widgets/base",
          "model_name": "LayoutModel",
          "model_module_version": "1.2.0",
          "state": {
            "_model_module": "@jupyter-widgets/base",
            "_model_module_version": "1.2.0",
            "_model_name": "LayoutModel",
            "_view_count": null,
            "_view_module": "@jupyter-widgets/base",
            "_view_module_version": "1.2.0",
            "_view_name": "LayoutView",
            "align_content": null,
            "align_items": null,
            "align_self": null,
            "border": null,
            "bottom": null,
            "display": null,
            "flex": null,
            "flex_flow": null,
            "grid_area": null,
            "grid_auto_columns": null,
            "grid_auto_flow": null,
            "grid_auto_rows": null,
            "grid_column": null,
            "grid_gap": null,
            "grid_row": null,
            "grid_template_areas": null,
            "grid_template_columns": null,
            "grid_template_rows": null,
            "height": null,
            "justify_content": null,
            "justify_items": null,
            "left": null,
            "margin": null,
            "max_height": null,
            "max_width": null,
            "min_height": null,
            "min_width": null,
            "object_fit": null,
            "object_position": null,
            "order": null,
            "overflow": null,
            "overflow_x": null,
            "overflow_y": null,
            "padding": null,
            "right": null,
            "top": null,
            "visibility": "hidden",
            "width": null
          }
        },
        "ff22a5f6af24427cb71fdfad378184a3": {
          "model_module": "@jupyter-widgets/base",
          "model_name": "LayoutModel",
          "model_module_version": "1.2.0",
          "state": {
            "_model_module": "@jupyter-widgets/base",
            "_model_module_version": "1.2.0",
            "_model_name": "LayoutModel",
            "_view_count": null,
            "_view_module": "@jupyter-widgets/base",
            "_view_module_version": "1.2.0",
            "_view_name": "LayoutView",
            "align_content": null,
            "align_items": null,
            "align_self": null,
            "border": null,
            "bottom": null,
            "display": null,
            "flex": null,
            "flex_flow": null,
            "grid_area": null,
            "grid_auto_columns": null,
            "grid_auto_flow": null,
            "grid_auto_rows": null,
            "grid_column": null,
            "grid_gap": null,
            "grid_row": null,
            "grid_template_areas": null,
            "grid_template_columns": null,
            "grid_template_rows": null,
            "height": null,
            "justify_content": null,
            "justify_items": null,
            "left": null,
            "margin": null,
            "max_height": null,
            "max_width": null,
            "min_height": null,
            "min_width": null,
            "object_fit": null,
            "object_position": null,
            "order": null,
            "overflow": null,
            "overflow_x": null,
            "overflow_y": null,
            "padding": null,
            "right": null,
            "top": null,
            "visibility": null,
            "width": null
          }
        },
        "10a57be1978c45429bb38c4ed0e20cce": {
          "model_module": "@jupyter-widgets/controls",
          "model_name": "DescriptionStyleModel",
          "model_module_version": "1.5.0",
          "state": {
            "_model_module": "@jupyter-widgets/controls",
            "_model_module_version": "1.5.0",
            "_model_name": "DescriptionStyleModel",
            "_view_count": null,
            "_view_module": "@jupyter-widgets/base",
            "_view_module_version": "1.2.0",
            "_view_name": "StyleView",
            "description_width": ""
          }
        },
        "856caec077a44b639e4ee15510f00387": {
          "model_module": "@jupyter-widgets/base",
          "model_name": "LayoutModel",
          "model_module_version": "1.2.0",
          "state": {
            "_model_module": "@jupyter-widgets/base",
            "_model_module_version": "1.2.0",
            "_model_name": "LayoutModel",
            "_view_count": null,
            "_view_module": "@jupyter-widgets/base",
            "_view_module_version": "1.2.0",
            "_view_name": "LayoutView",
            "align_content": null,
            "align_items": null,
            "align_self": null,
            "border": null,
            "bottom": null,
            "display": null,
            "flex": null,
            "flex_flow": null,
            "grid_area": null,
            "grid_auto_columns": null,
            "grid_auto_flow": null,
            "grid_auto_rows": null,
            "grid_column": null,
            "grid_gap": null,
            "grid_row": null,
            "grid_template_areas": null,
            "grid_template_columns": null,
            "grid_template_rows": null,
            "height": null,
            "justify_content": null,
            "justify_items": null,
            "left": null,
            "margin": null,
            "max_height": null,
            "max_width": null,
            "min_height": null,
            "min_width": null,
            "object_fit": null,
            "object_position": null,
            "order": null,
            "overflow": null,
            "overflow_x": null,
            "overflow_y": null,
            "padding": null,
            "right": null,
            "top": null,
            "visibility": null,
            "width": null
          }
        },
        "bcba124603544ee19428623d418fef9f": {
          "model_module": "@jupyter-widgets/controls",
          "model_name": "ProgressStyleModel",
          "model_module_version": "1.5.0",
          "state": {
            "_model_module": "@jupyter-widgets/controls",
            "_model_module_version": "1.5.0",
            "_model_name": "ProgressStyleModel",
            "_view_count": null,
            "_view_module": "@jupyter-widgets/base",
            "_view_module_version": "1.2.0",
            "_view_name": "StyleView",
            "bar_color": null,
            "description_width": ""
          }
        },
        "c601800ef74d4aa4aa8be089b661f931": {
          "model_module": "@jupyter-widgets/base",
          "model_name": "LayoutModel",
          "model_module_version": "1.2.0",
          "state": {
            "_model_module": "@jupyter-widgets/base",
            "_model_module_version": "1.2.0",
            "_model_name": "LayoutModel",
            "_view_count": null,
            "_view_module": "@jupyter-widgets/base",
            "_view_module_version": "1.2.0",
            "_view_name": "LayoutView",
            "align_content": null,
            "align_items": null,
            "align_self": null,
            "border": null,
            "bottom": null,
            "display": null,
            "flex": null,
            "flex_flow": null,
            "grid_area": null,
            "grid_auto_columns": null,
            "grid_auto_flow": null,
            "grid_auto_rows": null,
            "grid_column": null,
            "grid_gap": null,
            "grid_row": null,
            "grid_template_areas": null,
            "grid_template_columns": null,
            "grid_template_rows": null,
            "height": null,
            "justify_content": null,
            "justify_items": null,
            "left": null,
            "margin": null,
            "max_height": null,
            "max_width": null,
            "min_height": null,
            "min_width": null,
            "object_fit": null,
            "object_position": null,
            "order": null,
            "overflow": null,
            "overflow_x": null,
            "overflow_y": null,
            "padding": null,
            "right": null,
            "top": null,
            "visibility": null,
            "width": null
          }
        },
        "1428a1b43e454f7c901cc16f8a864756": {
          "model_module": "@jupyter-widgets/controls",
          "model_name": "DescriptionStyleModel",
          "model_module_version": "1.5.0",
          "state": {
            "_model_module": "@jupyter-widgets/controls",
            "_model_module_version": "1.5.0",
            "_model_name": "DescriptionStyleModel",
            "_view_count": null,
            "_view_module": "@jupyter-widgets/base",
            "_view_module_version": "1.2.0",
            "_view_name": "StyleView",
            "description_width": ""
          }
        },
        "add7a6f5cf88462aad403848cffc22d1": {
          "model_module": "@jupyter-widgets/controls",
          "model_name": "HBoxModel",
          "model_module_version": "1.5.0",
          "state": {
            "_dom_classes": [],
            "_model_module": "@jupyter-widgets/controls",
            "_model_module_version": "1.5.0",
            "_model_name": "HBoxModel",
            "_view_count": null,
            "_view_module": "@jupyter-widgets/controls",
            "_view_module_version": "1.5.0",
            "_view_name": "HBoxView",
            "box_style": "",
            "children": [
              "IPY_MODEL_7522be679ce84a539cac30fd7c4ea18e",
              "IPY_MODEL_4e18db5a8afe4fb8ac4193753781dc22",
              "IPY_MODEL_21cb9de7cdbf4a53bf61271da784ac1a"
            ],
            "layout": "IPY_MODEL_1d6d2688b76c4272910ce7b1bfc8d1d5"
          }
        },
        "7522be679ce84a539cac30fd7c4ea18e": {
          "model_module": "@jupyter-widgets/controls",
          "model_name": "HTMLModel",
          "model_module_version": "1.5.0",
          "state": {
            "_dom_classes": [],
            "_model_module": "@jupyter-widgets/controls",
            "_model_module_version": "1.5.0",
            "_model_name": "HTMLModel",
            "_view_count": null,
            "_view_module": "@jupyter-widgets/controls",
            "_view_module_version": "1.5.0",
            "_view_name": "HTMLView",
            "description": "",
            "description_tooltip": null,
            "layout": "IPY_MODEL_a69b76c1dbeb4bc3b021d800dadaa1bf",
            "placeholder": "​",
            "style": "IPY_MODEL_4c6c4a35175b4a6282352b75517af439",
            "value": "Generating unsupervised examples...:  95%"
          }
        },
        "4e18db5a8afe4fb8ac4193753781dc22": {
          "model_module": "@jupyter-widgets/controls",
          "model_name": "FloatProgressModel",
          "model_module_version": "1.5.0",
          "state": {
            "_dom_classes": [],
            "_model_module": "@jupyter-widgets/controls",
            "_model_module_version": "1.5.0",
            "_model_name": "FloatProgressModel",
            "_view_count": null,
            "_view_module": "@jupyter-widgets/controls",
            "_view_module_version": "1.5.0",
            "_view_name": "ProgressView",
            "bar_style": "",
            "description": "",
            "description_tooltip": null,
            "layout": "IPY_MODEL_d979b6462e7c435da23e23d30615a0eb",
            "max": 50000,
            "min": 0,
            "orientation": "horizontal",
            "style": "IPY_MODEL_7ad629edc4574ca694f740366d1b498e",
            "value": 50000
          }
        },
        "21cb9de7cdbf4a53bf61271da784ac1a": {
          "model_module": "@jupyter-widgets/controls",
          "model_name": "HTMLModel",
          "model_module_version": "1.5.0",
          "state": {
            "_dom_classes": [],
            "_model_module": "@jupyter-widgets/controls",
            "_model_module_version": "1.5.0",
            "_model_name": "HTMLModel",
            "_view_count": null,
            "_view_module": "@jupyter-widgets/controls",
            "_view_module_version": "1.5.0",
            "_view_name": "HTMLView",
            "description": "",
            "description_tooltip": null,
            "layout": "IPY_MODEL_6a2c3d51c2964476ae5470fcb284d7a9",
            "placeholder": "​",
            "style": "IPY_MODEL_b579330e52c34d4697ba666564152a45",
            "value": " 47590/50000 [00:15&lt;00:00, 4327.50 examples/s]"
          }
        },
        "1d6d2688b76c4272910ce7b1bfc8d1d5": {
          "model_module": "@jupyter-widgets/base",
          "model_name": "LayoutModel",
          "model_module_version": "1.2.0",
          "state": {
            "_model_module": "@jupyter-widgets/base",
            "_model_module_version": "1.2.0",
            "_model_name": "LayoutModel",
            "_view_count": null,
            "_view_module": "@jupyter-widgets/base",
            "_view_module_version": "1.2.0",
            "_view_name": "LayoutView",
            "align_content": null,
            "align_items": null,
            "align_self": null,
            "border": null,
            "bottom": null,
            "display": null,
            "flex": null,
            "flex_flow": null,
            "grid_area": null,
            "grid_auto_columns": null,
            "grid_auto_flow": null,
            "grid_auto_rows": null,
            "grid_column": null,
            "grid_gap": null,
            "grid_row": null,
            "grid_template_areas": null,
            "grid_template_columns": null,
            "grid_template_rows": null,
            "height": null,
            "justify_content": null,
            "justify_items": null,
            "left": null,
            "margin": null,
            "max_height": null,
            "max_width": null,
            "min_height": null,
            "min_width": null,
            "object_fit": null,
            "object_position": null,
            "order": null,
            "overflow": null,
            "overflow_x": null,
            "overflow_y": null,
            "padding": null,
            "right": null,
            "top": null,
            "visibility": "hidden",
            "width": null
          }
        },
        "a69b76c1dbeb4bc3b021d800dadaa1bf": {
          "model_module": "@jupyter-widgets/base",
          "model_name": "LayoutModel",
          "model_module_version": "1.2.0",
          "state": {
            "_model_module": "@jupyter-widgets/base",
            "_model_module_version": "1.2.0",
            "_model_name": "LayoutModel",
            "_view_count": null,
            "_view_module": "@jupyter-widgets/base",
            "_view_module_version": "1.2.0",
            "_view_name": "LayoutView",
            "align_content": null,
            "align_items": null,
            "align_self": null,
            "border": null,
            "bottom": null,
            "display": null,
            "flex": null,
            "flex_flow": null,
            "grid_area": null,
            "grid_auto_columns": null,
            "grid_auto_flow": null,
            "grid_auto_rows": null,
            "grid_column": null,
            "grid_gap": null,
            "grid_row": null,
            "grid_template_areas": null,
            "grid_template_columns": null,
            "grid_template_rows": null,
            "height": null,
            "justify_content": null,
            "justify_items": null,
            "left": null,
            "margin": null,
            "max_height": null,
            "max_width": null,
            "min_height": null,
            "min_width": null,
            "object_fit": null,
            "object_position": null,
            "order": null,
            "overflow": null,
            "overflow_x": null,
            "overflow_y": null,
            "padding": null,
            "right": null,
            "top": null,
            "visibility": null,
            "width": null
          }
        },
        "4c6c4a35175b4a6282352b75517af439": {
          "model_module": "@jupyter-widgets/controls",
          "model_name": "DescriptionStyleModel",
          "model_module_version": "1.5.0",
          "state": {
            "_model_module": "@jupyter-widgets/controls",
            "_model_module_version": "1.5.0",
            "_model_name": "DescriptionStyleModel",
            "_view_count": null,
            "_view_module": "@jupyter-widgets/base",
            "_view_module_version": "1.2.0",
            "_view_name": "StyleView",
            "description_width": ""
          }
        },
        "d979b6462e7c435da23e23d30615a0eb": {
          "model_module": "@jupyter-widgets/base",
          "model_name": "LayoutModel",
          "model_module_version": "1.2.0",
          "state": {
            "_model_module": "@jupyter-widgets/base",
            "_model_module_version": "1.2.0",
            "_model_name": "LayoutModel",
            "_view_count": null,
            "_view_module": "@jupyter-widgets/base",
            "_view_module_version": "1.2.0",
            "_view_name": "LayoutView",
            "align_content": null,
            "align_items": null,
            "align_self": null,
            "border": null,
            "bottom": null,
            "display": null,
            "flex": null,
            "flex_flow": null,
            "grid_area": null,
            "grid_auto_columns": null,
            "grid_auto_flow": null,
            "grid_auto_rows": null,
            "grid_column": null,
            "grid_gap": null,
            "grid_row": null,
            "grid_template_areas": null,
            "grid_template_columns": null,
            "grid_template_rows": null,
            "height": null,
            "justify_content": null,
            "justify_items": null,
            "left": null,
            "margin": null,
            "max_height": null,
            "max_width": null,
            "min_height": null,
            "min_width": null,
            "object_fit": null,
            "object_position": null,
            "order": null,
            "overflow": null,
            "overflow_x": null,
            "overflow_y": null,
            "padding": null,
            "right": null,
            "top": null,
            "visibility": null,
            "width": null
          }
        },
        "7ad629edc4574ca694f740366d1b498e": {
          "model_module": "@jupyter-widgets/controls",
          "model_name": "ProgressStyleModel",
          "model_module_version": "1.5.0",
          "state": {
            "_model_module": "@jupyter-widgets/controls",
            "_model_module_version": "1.5.0",
            "_model_name": "ProgressStyleModel",
            "_view_count": null,
            "_view_module": "@jupyter-widgets/base",
            "_view_module_version": "1.2.0",
            "_view_name": "StyleView",
            "bar_color": null,
            "description_width": ""
          }
        },
        "6a2c3d51c2964476ae5470fcb284d7a9": {
          "model_module": "@jupyter-widgets/base",
          "model_name": "LayoutModel",
          "model_module_version": "1.2.0",
          "state": {
            "_model_module": "@jupyter-widgets/base",
            "_model_module_version": "1.2.0",
            "_model_name": "LayoutModel",
            "_view_count": null,
            "_view_module": "@jupyter-widgets/base",
            "_view_module_version": "1.2.0",
            "_view_name": "LayoutView",
            "align_content": null,
            "align_items": null,
            "align_self": null,
            "border": null,
            "bottom": null,
            "display": null,
            "flex": null,
            "flex_flow": null,
            "grid_area": null,
            "grid_auto_columns": null,
            "grid_auto_flow": null,
            "grid_auto_rows": null,
            "grid_column": null,
            "grid_gap": null,
            "grid_row": null,
            "grid_template_areas": null,
            "grid_template_columns": null,
            "grid_template_rows": null,
            "height": null,
            "justify_content": null,
            "justify_items": null,
            "left": null,
            "margin": null,
            "max_height": null,
            "max_width": null,
            "min_height": null,
            "min_width": null,
            "object_fit": null,
            "object_position": null,
            "order": null,
            "overflow": null,
            "overflow_x": null,
            "overflow_y": null,
            "padding": null,
            "right": null,
            "top": null,
            "visibility": null,
            "width": null
          }
        },
        "b579330e52c34d4697ba666564152a45": {
          "model_module": "@jupyter-widgets/controls",
          "model_name": "DescriptionStyleModel",
          "model_module_version": "1.5.0",
          "state": {
            "_model_module": "@jupyter-widgets/controls",
            "_model_module_version": "1.5.0",
            "_model_name": "DescriptionStyleModel",
            "_view_count": null,
            "_view_module": "@jupyter-widgets/base",
            "_view_module_version": "1.2.0",
            "_view_name": "StyleView",
            "description_width": ""
          }
        },
        "7a643f7338604e2bbdef797d475130b5": {
          "model_module": "@jupyter-widgets/controls",
          "model_name": "HBoxModel",
          "model_module_version": "1.5.0",
          "state": {
            "_dom_classes": [],
            "_model_module": "@jupyter-widgets/controls",
            "_model_module_version": "1.5.0",
            "_model_name": "HBoxModel",
            "_view_count": null,
            "_view_module": "@jupyter-widgets/controls",
            "_view_module_version": "1.5.0",
            "_view_name": "HBoxView",
            "box_style": "",
            "children": [
              "IPY_MODEL_085ef90341874d75ad6c2ee8e0bfe817",
              "IPY_MODEL_0523c86575ba44bc8000f03f632b55fa",
              "IPY_MODEL_999eaedb8b5240148afcbdbffa992485"
            ],
            "layout": "IPY_MODEL_528f1826095d4d56b27515e7e94d91e5"
          }
        },
        "085ef90341874d75ad6c2ee8e0bfe817": {
          "model_module": "@jupyter-widgets/controls",
          "model_name": "HTMLModel",
          "model_module_version": "1.5.0",
          "state": {
            "_dom_classes": [],
            "_model_module": "@jupyter-widgets/controls",
            "_model_module_version": "1.5.0",
            "_model_name": "HTMLModel",
            "_view_count": null,
            "_view_module": "@jupyter-widgets/controls",
            "_view_module_version": "1.5.0",
            "_view_name": "HTMLView",
            "description": "",
            "description_tooltip": null,
            "layout": "IPY_MODEL_7778d5cfac0f4febb2247def7b855af0",
            "placeholder": "​",
            "style": "IPY_MODEL_b40658f99f0c45f19019cf91d5020f80",
            "value": "Shuffling /root/tensorflow_datasets/imdb_reviews/plain_text/incomplete.RRHJZ3_1.0.0/imdb_reviews-unsupervised.tfrecord*...:   0%"
          }
        },
        "0523c86575ba44bc8000f03f632b55fa": {
          "model_module": "@jupyter-widgets/controls",
          "model_name": "FloatProgressModel",
          "model_module_version": "1.5.0",
          "state": {
            "_dom_classes": [],
            "_model_module": "@jupyter-widgets/controls",
            "_model_module_version": "1.5.0",
            "_model_name": "FloatProgressModel",
            "_view_count": null,
            "_view_module": "@jupyter-widgets/controls",
            "_view_module_version": "1.5.0",
            "_view_name": "ProgressView",
            "bar_style": "",
            "description": "",
            "description_tooltip": null,
            "layout": "IPY_MODEL_63a35618877c4f7f9b97d5823446d84c",
            "max": 50000,
            "min": 0,
            "orientation": "horizontal",
            "style": "IPY_MODEL_5dbb408a52b64eba85d99dfbfcf8515e",
            "value": 50000
          }
        },
        "999eaedb8b5240148afcbdbffa992485": {
          "model_module": "@jupyter-widgets/controls",
          "model_name": "HTMLModel",
          "model_module_version": "1.5.0",
          "state": {
            "_dom_classes": [],
            "_model_module": "@jupyter-widgets/controls",
            "_model_module_version": "1.5.0",
            "_model_name": "HTMLModel",
            "_view_count": null,
            "_view_module": "@jupyter-widgets/controls",
            "_view_module_version": "1.5.0",
            "_view_name": "HTMLView",
            "description": "",
            "description_tooltip": null,
            "layout": "IPY_MODEL_6f8dacd97abf41e8897eea0a2e67aabe",
            "placeholder": "​",
            "style": "IPY_MODEL_fc695ad1343e4e7dbc1ee10633705600",
            "value": " 0/50000 [00:00&lt;?, ? examples/s]"
          }
        },
        "528f1826095d4d56b27515e7e94d91e5": {
          "model_module": "@jupyter-widgets/base",
          "model_name": "LayoutModel",
          "model_module_version": "1.2.0",
          "state": {
            "_model_module": "@jupyter-widgets/base",
            "_model_module_version": "1.2.0",
            "_model_name": "LayoutModel",
            "_view_count": null,
            "_view_module": "@jupyter-widgets/base",
            "_view_module_version": "1.2.0",
            "_view_name": "LayoutView",
            "align_content": null,
            "align_items": null,
            "align_self": null,
            "border": null,
            "bottom": null,
            "display": null,
            "flex": null,
            "flex_flow": null,
            "grid_area": null,
            "grid_auto_columns": null,
            "grid_auto_flow": null,
            "grid_auto_rows": null,
            "grid_column": null,
            "grid_gap": null,
            "grid_row": null,
            "grid_template_areas": null,
            "grid_template_columns": null,
            "grid_template_rows": null,
            "height": null,
            "justify_content": null,
            "justify_items": null,
            "left": null,
            "margin": null,
            "max_height": null,
            "max_width": null,
            "min_height": null,
            "min_width": null,
            "object_fit": null,
            "object_position": null,
            "order": null,
            "overflow": null,
            "overflow_x": null,
            "overflow_y": null,
            "padding": null,
            "right": null,
            "top": null,
            "visibility": "hidden",
            "width": null
          }
        },
        "7778d5cfac0f4febb2247def7b855af0": {
          "model_module": "@jupyter-widgets/base",
          "model_name": "LayoutModel",
          "model_module_version": "1.2.0",
          "state": {
            "_model_module": "@jupyter-widgets/base",
            "_model_module_version": "1.2.0",
            "_model_name": "LayoutModel",
            "_view_count": null,
            "_view_module": "@jupyter-widgets/base",
            "_view_module_version": "1.2.0",
            "_view_name": "LayoutView",
            "align_content": null,
            "align_items": null,
            "align_self": null,
            "border": null,
            "bottom": null,
            "display": null,
            "flex": null,
            "flex_flow": null,
            "grid_area": null,
            "grid_auto_columns": null,
            "grid_auto_flow": null,
            "grid_auto_rows": null,
            "grid_column": null,
            "grid_gap": null,
            "grid_row": null,
            "grid_template_areas": null,
            "grid_template_columns": null,
            "grid_template_rows": null,
            "height": null,
            "justify_content": null,
            "justify_items": null,
            "left": null,
            "margin": null,
            "max_height": null,
            "max_width": null,
            "min_height": null,
            "min_width": null,
            "object_fit": null,
            "object_position": null,
            "order": null,
            "overflow": null,
            "overflow_x": null,
            "overflow_y": null,
            "padding": null,
            "right": null,
            "top": null,
            "visibility": null,
            "width": null
          }
        },
        "b40658f99f0c45f19019cf91d5020f80": {
          "model_module": "@jupyter-widgets/controls",
          "model_name": "DescriptionStyleModel",
          "model_module_version": "1.5.0",
          "state": {
            "_model_module": "@jupyter-widgets/controls",
            "_model_module_version": "1.5.0",
            "_model_name": "DescriptionStyleModel",
            "_view_count": null,
            "_view_module": "@jupyter-widgets/base",
            "_view_module_version": "1.2.0",
            "_view_name": "StyleView",
            "description_width": ""
          }
        },
        "63a35618877c4f7f9b97d5823446d84c": {
          "model_module": "@jupyter-widgets/base",
          "model_name": "LayoutModel",
          "model_module_version": "1.2.0",
          "state": {
            "_model_module": "@jupyter-widgets/base",
            "_model_module_version": "1.2.0",
            "_model_name": "LayoutModel",
            "_view_count": null,
            "_view_module": "@jupyter-widgets/base",
            "_view_module_version": "1.2.0",
            "_view_name": "LayoutView",
            "align_content": null,
            "align_items": null,
            "align_self": null,
            "border": null,
            "bottom": null,
            "display": null,
            "flex": null,
            "flex_flow": null,
            "grid_area": null,
            "grid_auto_columns": null,
            "grid_auto_flow": null,
            "grid_auto_rows": null,
            "grid_column": null,
            "grid_gap": null,
            "grid_row": null,
            "grid_template_areas": null,
            "grid_template_columns": null,
            "grid_template_rows": null,
            "height": null,
            "justify_content": null,
            "justify_items": null,
            "left": null,
            "margin": null,
            "max_height": null,
            "max_width": null,
            "min_height": null,
            "min_width": null,
            "object_fit": null,
            "object_position": null,
            "order": null,
            "overflow": null,
            "overflow_x": null,
            "overflow_y": null,
            "padding": null,
            "right": null,
            "top": null,
            "visibility": null,
            "width": null
          }
        },
        "5dbb408a52b64eba85d99dfbfcf8515e": {
          "model_module": "@jupyter-widgets/controls",
          "model_name": "ProgressStyleModel",
          "model_module_version": "1.5.0",
          "state": {
            "_model_module": "@jupyter-widgets/controls",
            "_model_module_version": "1.5.0",
            "_model_name": "ProgressStyleModel",
            "_view_count": null,
            "_view_module": "@jupyter-widgets/base",
            "_view_module_version": "1.2.0",
            "_view_name": "StyleView",
            "bar_color": null,
            "description_width": ""
          }
        },
        "6f8dacd97abf41e8897eea0a2e67aabe": {
          "model_module": "@jupyter-widgets/base",
          "model_name": "LayoutModel",
          "model_module_version": "1.2.0",
          "state": {
            "_model_module": "@jupyter-widgets/base",
            "_model_module_version": "1.2.0",
            "_model_name": "LayoutModel",
            "_view_count": null,
            "_view_module": "@jupyter-widgets/base",
            "_view_module_version": "1.2.0",
            "_view_name": "LayoutView",
            "align_content": null,
            "align_items": null,
            "align_self": null,
            "border": null,
            "bottom": null,
            "display": null,
            "flex": null,
            "flex_flow": null,
            "grid_area": null,
            "grid_auto_columns": null,
            "grid_auto_flow": null,
            "grid_auto_rows": null,
            "grid_column": null,
            "grid_gap": null,
            "grid_row": null,
            "grid_template_areas": null,
            "grid_template_columns": null,
            "grid_template_rows": null,
            "height": null,
            "justify_content": null,
            "justify_items": null,
            "left": null,
            "margin": null,
            "max_height": null,
            "max_width": null,
            "min_height": null,
            "min_width": null,
            "object_fit": null,
            "object_position": null,
            "order": null,
            "overflow": null,
            "overflow_x": null,
            "overflow_y": null,
            "padding": null,
            "right": null,
            "top": null,
            "visibility": null,
            "width": null
          }
        },
        "fc695ad1343e4e7dbc1ee10633705600": {
          "model_module": "@jupyter-widgets/controls",
          "model_name": "DescriptionStyleModel",
          "model_module_version": "1.5.0",
          "state": {
            "_model_module": "@jupyter-widgets/controls",
            "_model_module_version": "1.5.0",
            "_model_name": "DescriptionStyleModel",
            "_view_count": null,
            "_view_module": "@jupyter-widgets/base",
            "_view_module_version": "1.2.0",
            "_view_name": "StyleView",
            "description_width": ""
          }
        }
      }
    }
  },
  "nbformat": 4,
  "nbformat_minor": 0
}